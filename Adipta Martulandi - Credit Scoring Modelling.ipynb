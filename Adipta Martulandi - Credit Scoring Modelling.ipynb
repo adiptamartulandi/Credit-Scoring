{
 "cells": [
  {
   "cell_type": "markdown",
   "metadata": {},
   "source": [
    "# Study Case Credit Scoring"
   ]
  },
  {
   "cell_type": "markdown",
   "metadata": {},
   "source": [
    "## Informasi Data\n",
    "Data berisi informasi terkait pelanggan kartu kredit di suatu negara pada periode Januari-Maret 2015. Informasi meliputi latar belakang pelanggan, jumlah tagihan, jumlah pembayaran, lama terlambat bayar dan status pembayaran bulan berikutnya (April 2015)."
   ]
  },
  {
   "cell_type": "markdown",
   "metadata": {},
   "source": [
    "## Tujuan Pemodelan\n",
    "Memprediksi apakah pelanggan kartu kredit beresiko terlambat bayar pada bulan Mei berdasarkan data pada bulan Februari-April 2015 pada data testing."
   ]
  },
  {
   "cell_type": "markdown",
   "metadata": {},
   "source": [
    "## Penilian\n",
    "1. Memahami kasus dan tujuan pemodelan\n",
    "2. Memahami makna setiap feature\n",
    "3. Memahami pola data\n",
    "4. Dapat menjelaskan hubungan antara feature dengan label\n",
    "5. Identifikasi data ekstrim / outliers\n",
    "6. Memahami tujuan transformasi data\n",
    "7. Mengetahui teknik-teknik transformasi data\n",
    "8. Dapat mengidentifikasi dampak dari transformasi data\n",
    "9. Dapat melakukan pemodelan (model klasifikasi)\n",
    "10. Memahami ukuran kebaikan model\n",
    "11. Dapat membandingkan ukuran kebaikan antara beberapa model"
   ]
  },
  {
   "cell_type": "markdown",
   "metadata": {},
   "source": [
    "## Import Library\n",
    "Import library yang akan digunakan untuk proses pembuatan model credit scoring"
   ]
  },
  {
   "cell_type": "code",
   "execution_count": 1,
   "metadata": {},
   "outputs": [],
   "source": [
    "import pandas as pd\n",
    "import numpy as np\n",
    "import matplotlib.pyplot as plt\n",
    "import seaborn as sns\n",
    "from sklearn.tree import DecisionTreeClassifier\n",
    "from sklearn.linear_model import LogisticRegression\n",
    "from sklearn.naive_bayes import GaussianNB\n",
    "from sklearn.neighbors import KNeighborsClassifier\n",
    "from sklearn.ensemble import RandomForestClassifier\n",
    "from sklearn import metrics\n",
    "from sklearn.metrics import recall_score, f1_score, accuracy_score, precision_score\n",
    "from sklearn.model_selection import train_test_split\n",
    "from sklearn.feature_selection import f_classif\n",
    "from sklearn.feature_selection import SelectKBest"
   ]
  },
  {
   "cell_type": "markdown",
   "metadata": {},
   "source": [
    "## Load Training Dataset\n",
    "Load training dataset yang akan digunakan sebagai model"
   ]
  },
  {
   "cell_type": "markdown",
   "metadata": {},
   "source": [
    "Deskripsi features di dataset:\n",
    "1. ID = nomor urut pelanggan\n",
    "2. LIMIT_BAL = Batas maksimal kredit\n",
    "3. Marriage = status pernikahan (1,2,3)\n",
    "4. education = status pendidikan (1,2,3,4)\n",
    "5. Sex = jenis kelamin (1,2)\n",
    "6. Age = umur\n",
    "7. Pay = pembayaran telat atau tidak di bulan 1,2,3\n",
    "8. bill amt = jumlah tagihan bulan 1,2,3\n",
    "9. pay amt = jumlah bayar bulan 1,2,3\n",
    "10. target = terlambat atau tidak"
   ]
  },
  {
   "cell_type": "code",
   "execution_count": 2,
   "metadata": {},
   "outputs": [],
   "source": [
    "df = pd.read_csv('training.csv')"
   ]
  },
  {
   "cell_type": "markdown",
   "metadata": {},
   "source": [
    "## Sneak Peak to Data"
   ]
  },
  {
   "cell_type": "code",
   "execution_count": 3,
   "metadata": {},
   "outputs": [
    {
     "data": {
      "text/html": [
       "<div>\n",
       "<style scoped>\n",
       "    .dataframe tbody tr th:only-of-type {\n",
       "        vertical-align: middle;\n",
       "    }\n",
       "\n",
       "    .dataframe tbody tr th {\n",
       "        vertical-align: top;\n",
       "    }\n",
       "\n",
       "    .dataframe thead th {\n",
       "        text-align: right;\n",
       "    }\n",
       "</style>\n",
       "<table border=\"1\" class=\"dataframe\">\n",
       "  <thead>\n",
       "    <tr style=\"text-align: right;\">\n",
       "      <th></th>\n",
       "      <th>ID</th>\n",
       "      <th>LIMIT_BAL</th>\n",
       "      <th>MARRIAGE</th>\n",
       "      <th>EDUCATION</th>\n",
       "      <th>SEX</th>\n",
       "      <th>AGE</th>\n",
       "      <th>PAY_1</th>\n",
       "      <th>PAY_2</th>\n",
       "      <th>PAY_3</th>\n",
       "      <th>BILL_AMT1</th>\n",
       "      <th>BILL_AMT2</th>\n",
       "      <th>BILL_AMT3</th>\n",
       "      <th>PAY_AMT1</th>\n",
       "      <th>PAY_AMT2</th>\n",
       "      <th>PAY_AMT3</th>\n",
       "      <th>TARGET</th>\n",
       "    </tr>\n",
       "  </thead>\n",
       "  <tbody>\n",
       "    <tr>\n",
       "      <th>0</th>\n",
       "      <td>1</td>\n",
       "      <td>30000.0</td>\n",
       "      <td>1</td>\n",
       "      <td>1</td>\n",
       "      <td>2</td>\n",
       "      <td>40</td>\n",
       "      <td>0</td>\n",
       "      <td>0</td>\n",
       "      <td>0</td>\n",
       "      <td>24607.0</td>\n",
       "      <td>24430.0</td>\n",
       "      <td>23881.0</td>\n",
       "      <td>1700.0</td>\n",
       "      <td>1600.0</td>\n",
       "      <td>1287.0</td>\n",
       "      <td>0</td>\n",
       "    </tr>\n",
       "    <tr>\n",
       "      <th>1</th>\n",
       "      <td>2</td>\n",
       "      <td>20000.0</td>\n",
       "      <td>1</td>\n",
       "      <td>1</td>\n",
       "      <td>2</td>\n",
       "      <td>41</td>\n",
       "      <td>1</td>\n",
       "      <td>2</td>\n",
       "      <td>0</td>\n",
       "      <td>17040.0</td>\n",
       "      <td>16474.0</td>\n",
       "      <td>17203.0</td>\n",
       "      <td>0.0</td>\n",
       "      <td>1300.0</td>\n",
       "      <td>1500.0</td>\n",
       "      <td>0</td>\n",
       "    </tr>\n",
       "    <tr>\n",
       "      <th>2</th>\n",
       "      <td>3</td>\n",
       "      <td>20000.0</td>\n",
       "      <td>1</td>\n",
       "      <td>1</td>\n",
       "      <td>2</td>\n",
       "      <td>36</td>\n",
       "      <td>0</td>\n",
       "      <td>0</td>\n",
       "      <td>0</td>\n",
       "      <td>17332.0</td>\n",
       "      <td>18600.0</td>\n",
       "      <td>17947.0</td>\n",
       "      <td>1580.0</td>\n",
       "      <td>1367.0</td>\n",
       "      <td>1178.0</td>\n",
       "      <td>0</td>\n",
       "    </tr>\n",
       "    <tr>\n",
       "      <th>3</th>\n",
       "      <td>4</td>\n",
       "      <td>20000.0</td>\n",
       "      <td>1</td>\n",
       "      <td>1</td>\n",
       "      <td>2</td>\n",
       "      <td>35</td>\n",
       "      <td>0</td>\n",
       "      <td>0</td>\n",
       "      <td>0</td>\n",
       "      <td>2003.0</td>\n",
       "      <td>2948.0</td>\n",
       "      <td>3372.0</td>\n",
       "      <td>1086.0</td>\n",
       "      <td>1000.0</td>\n",
       "      <td>0.0</td>\n",
       "      <td>0</td>\n",
       "    </tr>\n",
       "    <tr>\n",
       "      <th>4</th>\n",
       "      <td>5</td>\n",
       "      <td>170000.0</td>\n",
       "      <td>1</td>\n",
       "      <td>1</td>\n",
       "      <td>2</td>\n",
       "      <td>38</td>\n",
       "      <td>0</td>\n",
       "      <td>0</td>\n",
       "      <td>0</td>\n",
       "      <td>171465.0</td>\n",
       "      <td>145196.0</td>\n",
       "      <td>110163.0</td>\n",
       "      <td>18500.0</td>\n",
       "      <td>13998.0</td>\n",
       "      <td>3760.0</td>\n",
       "      <td>0</td>\n",
       "    </tr>\n",
       "  </tbody>\n",
       "</table>\n",
       "</div>"
      ],
      "text/plain": [
       "   ID  LIMIT_BAL  MARRIAGE  EDUCATION  SEX  AGE  PAY_1  PAY_2  PAY_3  \\\n",
       "0   1    30000.0         1          1    2   40      0      0      0   \n",
       "1   2    20000.0         1          1    2   41      1      2      0   \n",
       "2   3    20000.0         1          1    2   36      0      0      0   \n",
       "3   4    20000.0         1          1    2   35      0      0      0   \n",
       "4   5   170000.0         1          1    2   38      0      0      0   \n",
       "\n",
       "   BILL_AMT1  BILL_AMT2  BILL_AMT3  PAY_AMT1  PAY_AMT2  PAY_AMT3  TARGET  \n",
       "0    24607.0    24430.0    23881.0    1700.0    1600.0    1287.0       0  \n",
       "1    17040.0    16474.0    17203.0       0.0    1300.0    1500.0       0  \n",
       "2    17332.0    18600.0    17947.0    1580.0    1367.0    1178.0       0  \n",
       "3     2003.0     2948.0     3372.0    1086.0    1000.0       0.0       0  \n",
       "4   171465.0   145196.0   110163.0   18500.0   13998.0    3760.0       0  "
      ]
     },
     "execution_count": 3,
     "metadata": {},
     "output_type": "execute_result"
    }
   ],
   "source": [
    "df.head()"
   ]
  },
  {
   "cell_type": "code",
   "execution_count": 4,
   "metadata": {},
   "outputs": [
    {
     "name": "stdout",
     "output_type": "stream",
     "text": [
      "<class 'pandas.core.frame.DataFrame'>\n",
      "RangeIndex: 16625 entries, 0 to 16624\n",
      "Data columns (total 16 columns):\n",
      "ID           16625 non-null int64\n",
      "LIMIT_BAL    16625 non-null float64\n",
      "MARRIAGE     16625 non-null int64\n",
      "EDUCATION    16625 non-null int64\n",
      "SEX          16625 non-null int64\n",
      "AGE          16625 non-null int64\n",
      "PAY_1        16625 non-null int64\n",
      "PAY_2        16625 non-null int64\n",
      "PAY_3        16625 non-null int64\n",
      "BILL_AMT1    16625 non-null float64\n",
      "BILL_AMT2    16625 non-null float64\n",
      "BILL_AMT3    16625 non-null float64\n",
      "PAY_AMT1     16625 non-null float64\n",
      "PAY_AMT2     16625 non-null float64\n",
      "PAY_AMT3     16625 non-null float64\n",
      "TARGET       16625 non-null int64\n",
      "dtypes: float64(7), int64(9)\n",
      "memory usage: 2.0 MB\n"
     ]
    }
   ],
   "source": [
    "df.info()"
   ]
  },
  {
   "cell_type": "code",
   "execution_count": 5,
   "metadata": {},
   "outputs": [
    {
     "data": {
      "text/plain": [
       "(16625, 16)"
      ]
     },
     "execution_count": 5,
     "metadata": {},
     "output_type": "execute_result"
    }
   ],
   "source": [
    "df.shape #ada 16625 data dengan 16 features"
   ]
  },
  {
   "cell_type": "code",
   "execution_count": 6,
   "metadata": {},
   "outputs": [
    {
     "data": {
      "text/plain": [
       "Index(['ID', 'LIMIT_BAL', 'MARRIAGE', 'EDUCATION', 'SEX', 'AGE', 'PAY_1',\n",
       "       'PAY_2', 'PAY_3', 'BILL_AMT1', 'BILL_AMT2', 'BILL_AMT3', 'PAY_AMT1',\n",
       "       'PAY_AMT2', 'PAY_AMT3', 'TARGET'],\n",
       "      dtype='object')"
      ]
     },
     "execution_count": 6,
     "metadata": {},
     "output_type": "execute_result"
    }
   ],
   "source": [
    "df.columns #nama kolom"
   ]
  },
  {
   "cell_type": "code",
   "execution_count": 7,
   "metadata": {
    "scrolled": false
   },
   "outputs": [
    {
     "data": {
      "text/html": [
       "<div>\n",
       "<style scoped>\n",
       "    .dataframe tbody tr th:only-of-type {\n",
       "        vertical-align: middle;\n",
       "    }\n",
       "\n",
       "    .dataframe tbody tr th {\n",
       "        vertical-align: top;\n",
       "    }\n",
       "\n",
       "    .dataframe thead th {\n",
       "        text-align: right;\n",
       "    }\n",
       "</style>\n",
       "<table border=\"1\" class=\"dataframe\">\n",
       "  <thead>\n",
       "    <tr style=\"text-align: right;\">\n",
       "      <th></th>\n",
       "      <th>ID</th>\n",
       "      <th>LIMIT_BAL</th>\n",
       "      <th>MARRIAGE</th>\n",
       "      <th>EDUCATION</th>\n",
       "      <th>SEX</th>\n",
       "      <th>AGE</th>\n",
       "      <th>PAY_1</th>\n",
       "      <th>PAY_2</th>\n",
       "      <th>PAY_3</th>\n",
       "      <th>BILL_AMT1</th>\n",
       "      <th>BILL_AMT2</th>\n",
       "      <th>BILL_AMT3</th>\n",
       "      <th>PAY_AMT1</th>\n",
       "      <th>PAY_AMT2</th>\n",
       "      <th>PAY_AMT3</th>\n",
       "      <th>TARGET</th>\n",
       "    </tr>\n",
       "  </thead>\n",
       "  <tbody>\n",
       "    <tr>\n",
       "      <th>count</th>\n",
       "      <td>16625.000000</td>\n",
       "      <td>16625.000000</td>\n",
       "      <td>16625.000000</td>\n",
       "      <td>16625.000000</td>\n",
       "      <td>16625.000000</td>\n",
       "      <td>16625.000000</td>\n",
       "      <td>16625.000000</td>\n",
       "      <td>16625.000000</td>\n",
       "      <td>16625.000000</td>\n",
       "      <td>16625.000000</td>\n",
       "      <td>16625.000000</td>\n",
       "      <td>16625.000000</td>\n",
       "      <td>16625.000000</td>\n",
       "      <td>16625.000000</td>\n",
       "      <td>16625.000000</td>\n",
       "      <td>16625.000000</td>\n",
       "    </tr>\n",
       "    <tr>\n",
       "      <th>mean</th>\n",
       "      <td>8313.000000</td>\n",
       "      <td>157608.781955</td>\n",
       "      <td>1.476932</td>\n",
       "      <td>2.117534</td>\n",
       "      <td>1.588752</td>\n",
       "      <td>43.373955</td>\n",
       "      <td>0.482226</td>\n",
       "      <td>0.430256</td>\n",
       "      <td>0.397293</td>\n",
       "      <td>50720.634827</td>\n",
       "      <td>48815.920662</td>\n",
       "      <td>46471.030556</td>\n",
       "      <td>5175.054075</td>\n",
       "      <td>4973.786105</td>\n",
       "      <td>4830.003368</td>\n",
       "      <td>0.399158</td>\n",
       "    </tr>\n",
       "    <tr>\n",
       "      <th>std</th>\n",
       "      <td>4799.368448</td>\n",
       "      <td>124931.062684</td>\n",
       "      <td>0.523590</td>\n",
       "      <td>0.791191</td>\n",
       "      <td>0.492075</td>\n",
       "      <td>8.777974</td>\n",
       "      <td>0.835516</td>\n",
       "      <td>0.881835</td>\n",
       "      <td>0.853110</td>\n",
       "      <td>73365.449060</td>\n",
       "      <td>70753.129768</td>\n",
       "      <td>68182.984755</td>\n",
       "      <td>15033.589318</td>\n",
       "      <td>14867.362888</td>\n",
       "      <td>15646.002915</td>\n",
       "      <td>0.489740</td>\n",
       "    </tr>\n",
       "    <tr>\n",
       "      <th>min</th>\n",
       "      <td>1.000000</td>\n",
       "      <td>0.000000</td>\n",
       "      <td>1.000000</td>\n",
       "      <td>1.000000</td>\n",
       "      <td>1.000000</td>\n",
       "      <td>20.000000</td>\n",
       "      <td>0.000000</td>\n",
       "      <td>0.000000</td>\n",
       "      <td>0.000000</td>\n",
       "      <td>-165580.000000</td>\n",
       "      <td>-69777.000000</td>\n",
       "      <td>-61506.000000</td>\n",
       "      <td>0.000000</td>\n",
       "      <td>0.000000</td>\n",
       "      <td>0.000000</td>\n",
       "      <td>0.000000</td>\n",
       "    </tr>\n",
       "    <tr>\n",
       "      <th>25%</th>\n",
       "      <td>4157.000000</td>\n",
       "      <td>50000.000000</td>\n",
       "      <td>1.000000</td>\n",
       "      <td>2.000000</td>\n",
       "      <td>1.000000</td>\n",
       "      <td>37.000000</td>\n",
       "      <td>0.000000</td>\n",
       "      <td>0.000000</td>\n",
       "      <td>0.000000</td>\n",
       "      <td>3491.000000</td>\n",
       "      <td>2997.000000</td>\n",
       "      <td>2550.000000</td>\n",
       "      <td>566.000000</td>\n",
       "      <td>451.000000</td>\n",
       "      <td>306.000000</td>\n",
       "      <td>0.000000</td>\n",
       "    </tr>\n",
       "    <tr>\n",
       "      <th>50%</th>\n",
       "      <td>8313.000000</td>\n",
       "      <td>120000.000000</td>\n",
       "      <td>1.000000</td>\n",
       "      <td>2.000000</td>\n",
       "      <td>2.000000</td>\n",
       "      <td>42.000000</td>\n",
       "      <td>0.000000</td>\n",
       "      <td>0.000000</td>\n",
       "      <td>0.000000</td>\n",
       "      <td>21943.000000</td>\n",
       "      <td>20987.000000</td>\n",
       "      <td>19954.000000</td>\n",
       "      <td>2000.000000</td>\n",
       "      <td>2000.000000</td>\n",
       "      <td>1637.000000</td>\n",
       "      <td>0.000000</td>\n",
       "    </tr>\n",
       "    <tr>\n",
       "      <th>75%</th>\n",
       "      <td>12469.000000</td>\n",
       "      <td>230000.000000</td>\n",
       "      <td>2.000000</td>\n",
       "      <td>3.000000</td>\n",
       "      <td>2.000000</td>\n",
       "      <td>49.000000</td>\n",
       "      <td>1.000000</td>\n",
       "      <td>0.000000</td>\n",
       "      <td>0.000000</td>\n",
       "      <td>65903.000000</td>\n",
       "      <td>62725.000000</td>\n",
       "      <td>59111.000000</td>\n",
       "      <td>5000.000000</td>\n",
       "      <td>4696.000000</td>\n",
       "      <td>4025.000000</td>\n",
       "      <td>1.000000</td>\n",
       "    </tr>\n",
       "    <tr>\n",
       "      <th>max</th>\n",
       "      <td>16625.000000</td>\n",
       "      <td>800000.000000</td>\n",
       "      <td>3.000000</td>\n",
       "      <td>4.000000</td>\n",
       "      <td>2.000000</td>\n",
       "      <td>72.000000</td>\n",
       "      <td>4.000000</td>\n",
       "      <td>4.000000</td>\n",
       "      <td>4.000000</td>\n",
       "      <td>746814.000000</td>\n",
       "      <td>646770.000000</td>\n",
       "      <td>693131.000000</td>\n",
       "      <td>505000.000000</td>\n",
       "      <td>384986.000000</td>\n",
       "      <td>508229.000000</td>\n",
       "      <td>1.000000</td>\n",
       "    </tr>\n",
       "  </tbody>\n",
       "</table>\n",
       "</div>"
      ],
      "text/plain": [
       "                 ID      LIMIT_BAL      MARRIAGE     EDUCATION           SEX  \\\n",
       "count  16625.000000   16625.000000  16625.000000  16625.000000  16625.000000   \n",
       "mean    8313.000000  157608.781955      1.476932      2.117534      1.588752   \n",
       "std     4799.368448  124931.062684      0.523590      0.791191      0.492075   \n",
       "min        1.000000       0.000000      1.000000      1.000000      1.000000   \n",
       "25%     4157.000000   50000.000000      1.000000      2.000000      1.000000   \n",
       "50%     8313.000000  120000.000000      1.000000      2.000000      2.000000   \n",
       "75%    12469.000000  230000.000000      2.000000      3.000000      2.000000   \n",
       "max    16625.000000  800000.000000      3.000000      4.000000      2.000000   \n",
       "\n",
       "                AGE         PAY_1         PAY_2         PAY_3      BILL_AMT1  \\\n",
       "count  16625.000000  16625.000000  16625.000000  16625.000000   16625.000000   \n",
       "mean      43.373955      0.482226      0.430256      0.397293   50720.634827   \n",
       "std        8.777974      0.835516      0.881835      0.853110   73365.449060   \n",
       "min       20.000000      0.000000      0.000000      0.000000 -165580.000000   \n",
       "25%       37.000000      0.000000      0.000000      0.000000    3491.000000   \n",
       "50%       42.000000      0.000000      0.000000      0.000000   21943.000000   \n",
       "75%       49.000000      1.000000      0.000000      0.000000   65903.000000   \n",
       "max       72.000000      4.000000      4.000000      4.000000  746814.000000   \n",
       "\n",
       "           BILL_AMT2      BILL_AMT3       PAY_AMT1       PAY_AMT2  \\\n",
       "count   16625.000000   16625.000000   16625.000000   16625.000000   \n",
       "mean    48815.920662   46471.030556    5175.054075    4973.786105   \n",
       "std     70753.129768   68182.984755   15033.589318   14867.362888   \n",
       "min    -69777.000000  -61506.000000       0.000000       0.000000   \n",
       "25%      2997.000000    2550.000000     566.000000     451.000000   \n",
       "50%     20987.000000   19954.000000    2000.000000    2000.000000   \n",
       "75%     62725.000000   59111.000000    5000.000000    4696.000000   \n",
       "max    646770.000000  693131.000000  505000.000000  384986.000000   \n",
       "\n",
       "            PAY_AMT3        TARGET  \n",
       "count   16625.000000  16625.000000  \n",
       "mean     4830.003368      0.399158  \n",
       "std     15646.002915      0.489740  \n",
       "min         0.000000      0.000000  \n",
       "25%       306.000000      0.000000  \n",
       "50%      1637.000000      0.000000  \n",
       "75%      4025.000000      1.000000  \n",
       "max    508229.000000      1.000000  "
      ]
     },
     "execution_count": 7,
     "metadata": {},
     "output_type": "execute_result"
    }
   ],
   "source": [
    "df.describe() #stats description of our data"
   ]
  },
  {
   "cell_type": "markdown",
   "metadata": {},
   "source": [
    "## Handling Missing Values"
   ]
  },
  {
   "cell_type": "code",
   "execution_count": 8,
   "metadata": {
    "scrolled": true
   },
   "outputs": [
    {
     "data": {
      "text/plain": [
       "ID           0\n",
       "LIMIT_BAL    0\n",
       "MARRIAGE     0\n",
       "EDUCATION    0\n",
       "SEX          0\n",
       "AGE          0\n",
       "PAY_1        0\n",
       "PAY_2        0\n",
       "PAY_3        0\n",
       "BILL_AMT1    0\n",
       "BILL_AMT2    0\n",
       "BILL_AMT3    0\n",
       "PAY_AMT1     0\n",
       "PAY_AMT2     0\n",
       "PAY_AMT3     0\n",
       "TARGET       0\n",
       "dtype: int64"
      ]
     },
     "execution_count": 8,
     "metadata": {},
     "output_type": "execute_result"
    }
   ],
   "source": [
    "df.isnull().sum()"
   ]
  },
  {
   "cell_type": "markdown",
   "metadata": {},
   "source": [
    "- Ternyata datasetnya sudah clean dan tidak perlu untuk melakukan treatment untuk missing values"
   ]
  },
  {
   "cell_type": "markdown",
   "metadata": {},
   "source": [
    "## Data Understanding Univariate Analysis"
   ]
  },
  {
   "cell_type": "code",
   "execution_count": 9,
   "metadata": {},
   "outputs": [
    {
     "name": "stdout",
     "output_type": "stream",
     "text": [
      "0    9989\n",
      "1    6636\n",
      "Name: TARGET, dtype: int64\n"
     ]
    },
    {
     "data": {
      "text/plain": [
       "<matplotlib.axes._subplots.AxesSubplot at 0x240508eaa90>"
      ]
     },
     "execution_count": 9,
     "metadata": {},
     "output_type": "execute_result"
    },
    {
     "data": {
      "image/png": "[encoded data removed]",
      "text/plain": [
       "<Figure size 576x360 with 1 Axes>"
      ]
     },
     "metadata": {
      "needs_background": "light"
     },
     "output_type": "display_data"
    }
   ],
   "source": [
    "plt.figure(figsize=(8,5))\n",
    "print(df['TARGET'].value_counts())\n",
    "df['TARGET'].value_counts().plot('barh')"
   ]
  },
  {
   "cell_type": "markdown",
   "metadata": {},
   "source": [
    "- Dapat dilihat bahwa distribusi dari nilai 0 dan 1 adalah sedikit balance dan tidak ada ketimpangan disini"
   ]
  },
  {
   "cell_type": "code",
   "execution_count": 10,
   "metadata": {},
   "outputs": [
    {
     "name": "stdout",
     "output_type": "stream",
     "text": [
      "1    8901\n",
      "2    7519\n",
      "3     205\n",
      "Name: MARRIAGE, dtype: int64\n"
     ]
    },
    {
     "data": {
      "text/plain": [
       "<matplotlib.axes._subplots.AxesSubplot at 0x240557af2b0>"
      ]
     },
     "execution_count": 10,
     "metadata": {},
     "output_type": "execute_result"
    },
    {
     "data": {
      "image/png": "[encoded data removed]",
      "text/plain": [
       "<Figure size 576x360 with 1 Axes>"
      ]
     },
     "metadata": {
      "needs_background": "light"
     },
     "output_type": "display_data"
    }
   ],
   "source": [
    "plt.figure(figsize=(8,5))\n",
    "print(df['MARRIAGE'].value_counts())\n",
    "df['MARRIAGE'].value_counts().plot('bar')"
   ]
  },
  {
   "cell_type": "markdown",
   "metadata": {},
   "source": [
    "- Ternyata nilai 1 atau belum menikah mendominasi dan hanya sedikit yang status pernikahan lainya\n",
    "- Mungkin features ini bisa diubah ke dummies"
   ]
  },
  {
   "cell_type": "code",
   "execution_count": 11,
   "metadata": {},
   "outputs": [
    {
     "name": "stdout",
     "output_type": "stream",
     "text": [
      "2    6925\n",
      "3    5359\n",
      "1    4029\n",
      "4     312\n",
      "Name: EDUCATION, dtype: int64\n"
     ]
    },
    {
     "data": {
      "text/plain": [
       "<matplotlib.axes._subplots.AxesSubplot at 0x24055896b70>"
      ]
     },
     "execution_count": 11,
     "metadata": {},
     "output_type": "execute_result"
    },
    {
     "data": {
      "image/png": "[encoded data removed]",
      "text/plain": [
       "<Figure size 576x360 with 1 Axes>"
      ]
     },
     "metadata": {
      "needs_background": "light"
     },
     "output_type": "display_data"
    }
   ],
   "source": [
    "plt.figure(figsize=(8,5))\n",
    "print(df['EDUCATION'].value_counts())\n",
    "df['EDUCATION'].value_counts().plot('bar')"
   ]
  },
  {
   "cell_type": "markdown",
   "metadata": {},
   "source": [
    "- Ternyata data didominasi oleh peminjam kredit dengan status pendidikan Diploma/S1\n",
    "- Bisa dijadikan dummies juga features ini"
   ]
  },
  {
   "cell_type": "code",
   "execution_count": 12,
   "metadata": {},
   "outputs": [
    {
     "name": "stdout",
     "output_type": "stream",
     "text": [
      "2    9788\n",
      "1    6837\n",
      "Name: SEX, dtype: int64\n"
     ]
    },
    {
     "data": {
      "text/plain": [
       "<matplotlib.axes._subplots.AxesSubplot at 0x24055901c50>"
      ]
     },
     "execution_count": 12,
     "metadata": {},
     "output_type": "execute_result"
    },
    {
     "data": {
      "image/png": "[encoded data removed]",
      "text/plain": [
       "<Figure size 576x360 with 1 Axes>"
      ]
     },
     "metadata": {
      "needs_background": "light"
     },
     "output_type": "display_data"
    }
   ],
   "source": [
    "plt.figure(figsize=(8,5))\n",
    "print(df['SEX'].value_counts())\n",
    "df['SEX'].value_counts().plot('bar')"
   ]
  },
  {
   "cell_type": "markdown",
   "metadata": {},
   "source": [
    "- untuk features jenis kelamin didominasi oleh wanita\n",
    "- bisa di dummies juga features ini"
   ]
  },
  {
   "cell_type": "code",
   "execution_count": 13,
   "metadata": {},
   "outputs": [
    {
     "data": {
      "text/plain": [
       "<matplotlib.axes._subplots.AxesSubplot at 0x24055d565c0>"
      ]
     },
     "execution_count": 13,
     "metadata": {},
     "output_type": "execute_result"
    },
    {
     "data": {
      "image/png": "[encoded data removed]",
      "text/plain": [
       "<Figure size 1152x432 with 3 Axes>"
      ]
     },
     "metadata": {
      "needs_background": "light"
     },
     "output_type": "display_data"
    }
   ],
   "source": [
    "f = plt.figure(figsize=(16,6))\n",
    "\n",
    "f.add_subplot(1,3,1)\n",
    "df['PAY_1'].value_counts().plot('bar')\n",
    "\n",
    "f.add_subplot(1,3,2)\n",
    "df['PAY_2'].value_counts().plot('bar')\n",
    "\n",
    "f.add_subplot(1,3,3)\n",
    "df['PAY_3'].value_counts().plot('bar')"
   ]
  },
  {
   "cell_type": "markdown",
   "metadata": {},
   "source": [
    "- Pola pembayaran bulan 1,2 dan 3 hampir sama yaitu sebagian besar customer membayar tepat waktu"
   ]
  },
  {
   "cell_type": "code",
   "execution_count": 14,
   "metadata": {},
   "outputs": [
    {
     "data": {
      "image/png": "[encoded data removed]",
      "text/plain": [
       "<Figure size 1152x432 with 3 Axes>"
      ]
     },
     "metadata": {
      "needs_background": "light"
     },
     "output_type": "display_data"
    }
   ],
   "source": [
    "f = plt.figure(figsize=(16,6))\n",
    "\n",
    "f.add_subplot(1,3,1)\n",
    "df['BILL_AMT1'].plot.hist(bins=50, edgecolor='black')\n",
    "\n",
    "f.add_subplot(1,3,2)\n",
    "df['BILL_AMT2'].plot.hist(bins=50, edgecolor='black')\n",
    "\n",
    "f.add_subplot(1,3,3)\n",
    "df['BILL_AMT3'].plot.hist(bins=50, edgecolor='black')\n",
    "\n",
    "f.tight_layout()"
   ]
  },
  {
   "cell_type": "markdown",
   "metadata": {},
   "source": [
    "- dapat dilihat dari jumlah tagihan selama bulan 1,2 dan 3 didapat densitynya itu dibawah angka 100.000\n",
    "- data diatas 300.000 bisa dicut off"
   ]
  },
  {
   "cell_type": "code",
   "execution_count": 15,
   "metadata": {},
   "outputs": [
    {
     "data": {
      "image/png": "[encoded data removed]",
      "text/plain": [
       "<Figure size 1152x432 with 3 Axes>"
      ]
     },
     "metadata": {
      "needs_background": "light"
     },
     "output_type": "display_data"
    }
   ],
   "source": [
    "f = plt.figure(figsize=(16,6))\n",
    "\n",
    "f.add_subplot(1,3,1)\n",
    "df['PAY_AMT1'].plot.hist(bins=50, edgecolor='black')\n",
    "\n",
    "f.add_subplot(1,3,2)\n",
    "df['PAY_AMT2'].plot.hist(bins=50, edgecolor='black')\n",
    "\n",
    "f.add_subplot(1,3,3)\n",
    "df['PAY_AMT3'].plot.hist(bins=50, edgecolor='black')\n",
    "\n",
    "f.tight_layout()"
   ]
  },
  {
   "cell_type": "markdown",
   "metadata": {},
   "source": [
    "- dapat dilihat dari jumlah pembayaran tagihan selama bulan 1,2 dan 3 didapat densitynya itu dibawah angka 50.000\n",
    "- data diatas 50.000 bisa dicut off"
   ]
  },
  {
   "cell_type": "code",
   "execution_count": 16,
   "metadata": {},
   "outputs": [
    {
     "data": {
      "text/plain": [
       "<matplotlib.axes._subplots.AxesSubplot at 0x2405625eb00>"
      ]
     },
     "execution_count": 16,
     "metadata": {},
     "output_type": "execute_result"
    },
    {
     "data": {
      "image/png": "[encoded data removed]",
      "text/plain": [
       "<Figure size 576x360 with 1 Axes>"
      ]
     },
     "metadata": {
      "needs_background": "light"
     },
     "output_type": "display_data"
    }
   ],
   "source": [
    "plt.figure(figsize=(8,5))\n",
    "sns.distplot(df['LIMIT_BAL'])"
   ]
  },
  {
   "cell_type": "markdown",
   "metadata": {},
   "source": [
    "- nilai limit balance terlalu skewed dan perlu kita berikan treatment untuk mengurangi skewness"
   ]
  },
  {
   "cell_type": "code",
   "execution_count": 17,
   "metadata": {},
   "outputs": [
    {
     "data": {
      "text/plain": [
       "<matplotlib.axes._subplots.AxesSubplot at 0x24055eb35f8>"
      ]
     },
     "execution_count": 17,
     "metadata": {},
     "output_type": "execute_result"
    },
    {
     "data": {
      "image/png": "[encoded data removed]",
      "text/plain": [
       "<Figure size 576x360 with 1 Axes>"
      ]
     },
     "metadata": {
      "needs_background": "light"
     },
     "output_type": "display_data"
    }
   ],
   "source": [
    "plt.figure(figsize=(8,5))\n",
    "sns.distplot(df['AGE'])"
   ]
  },
  {
   "cell_type": "markdown",
   "metadata": {},
   "source": [
    "- sepertinya distribusinya memiliki 2 peak atau bimodal dengan data terpusat di antara 30 - 55 tahun"
   ]
  },
  {
   "cell_type": "markdown",
   "metadata": {},
   "source": [
    "#### Conclusions:\n",
    "1. Distribusi data fine dan tidak ada anomalies. \n",
    "2. fitur dari LIMIT_BAL sangat skewed dan harus kita modifikasi. \n",
    "3. data di BILL_AMT,PAY_AMT akan di cut off yang memiliki data sangat tinggi."
   ]
  },
  {
   "cell_type": "markdown",
   "metadata": {},
   "source": [
    "## Data Understanding Bivariate Analysis"
   ]
  },
  {
   "cell_type": "markdown",
   "metadata": {},
   "source": [
    "- kolom ID kita drop dulu"
   ]
  },
  {
   "cell_type": "code",
   "execution_count": 18,
   "metadata": {},
   "outputs": [],
   "source": [
    "df.drop(columns='ID', inplace=True)"
   ]
  },
  {
   "cell_type": "code",
   "execution_count": 19,
   "metadata": {},
   "outputs": [
    {
     "data": {
      "text/html": [
       "<div>\n",
       "<style scoped>\n",
       "    .dataframe tbody tr th:only-of-type {\n",
       "        vertical-align: middle;\n",
       "    }\n",
       "\n",
       "    .dataframe tbody tr th {\n",
       "        vertical-align: top;\n",
       "    }\n",
       "\n",
       "    .dataframe thead th {\n",
       "        text-align: right;\n",
       "    }\n",
       "</style>\n",
       "<table border=\"1\" class=\"dataframe\">\n",
       "  <thead>\n",
       "    <tr style=\"text-align: right;\">\n",
       "      <th></th>\n",
       "      <th>LIMIT_BAL</th>\n",
       "      <th>MARRIAGE</th>\n",
       "      <th>EDUCATION</th>\n",
       "      <th>SEX</th>\n",
       "      <th>AGE</th>\n",
       "      <th>PAY_1</th>\n",
       "      <th>PAY_2</th>\n",
       "      <th>PAY_3</th>\n",
       "      <th>BILL_AMT1</th>\n",
       "      <th>BILL_AMT2</th>\n",
       "      <th>BILL_AMT3</th>\n",
       "      <th>PAY_AMT1</th>\n",
       "      <th>PAY_AMT2</th>\n",
       "      <th>PAY_AMT3</th>\n",
       "      <th>TARGET</th>\n",
       "    </tr>\n",
       "  </thead>\n",
       "  <tbody>\n",
       "    <tr>\n",
       "      <th>0</th>\n",
       "      <td>30000.0</td>\n",
       "      <td>1</td>\n",
       "      <td>1</td>\n",
       "      <td>2</td>\n",
       "      <td>40</td>\n",
       "      <td>0</td>\n",
       "      <td>0</td>\n",
       "      <td>0</td>\n",
       "      <td>24607.0</td>\n",
       "      <td>24430.0</td>\n",
       "      <td>23881.0</td>\n",
       "      <td>1700.0</td>\n",
       "      <td>1600.0</td>\n",
       "      <td>1287.0</td>\n",
       "      <td>0</td>\n",
       "    </tr>\n",
       "    <tr>\n",
       "      <th>1</th>\n",
       "      <td>20000.0</td>\n",
       "      <td>1</td>\n",
       "      <td>1</td>\n",
       "      <td>2</td>\n",
       "      <td>41</td>\n",
       "      <td>1</td>\n",
       "      <td>2</td>\n",
       "      <td>0</td>\n",
       "      <td>17040.0</td>\n",
       "      <td>16474.0</td>\n",
       "      <td>17203.0</td>\n",
       "      <td>0.0</td>\n",
       "      <td>1300.0</td>\n",
       "      <td>1500.0</td>\n",
       "      <td>0</td>\n",
       "    </tr>\n",
       "    <tr>\n",
       "      <th>2</th>\n",
       "      <td>20000.0</td>\n",
       "      <td>1</td>\n",
       "      <td>1</td>\n",
       "      <td>2</td>\n",
       "      <td>36</td>\n",
       "      <td>0</td>\n",
       "      <td>0</td>\n",
       "      <td>0</td>\n",
       "      <td>17332.0</td>\n",
       "      <td>18600.0</td>\n",
       "      <td>17947.0</td>\n",
       "      <td>1580.0</td>\n",
       "      <td>1367.0</td>\n",
       "      <td>1178.0</td>\n",
       "      <td>0</td>\n",
       "    </tr>\n",
       "    <tr>\n",
       "      <th>3</th>\n",
       "      <td>20000.0</td>\n",
       "      <td>1</td>\n",
       "      <td>1</td>\n",
       "      <td>2</td>\n",
       "      <td>35</td>\n",
       "      <td>0</td>\n",
       "      <td>0</td>\n",
       "      <td>0</td>\n",
       "      <td>2003.0</td>\n",
       "      <td>2948.0</td>\n",
       "      <td>3372.0</td>\n",
       "      <td>1086.0</td>\n",
       "      <td>1000.0</td>\n",
       "      <td>0.0</td>\n",
       "      <td>0</td>\n",
       "    </tr>\n",
       "    <tr>\n",
       "      <th>4</th>\n",
       "      <td>170000.0</td>\n",
       "      <td>1</td>\n",
       "      <td>1</td>\n",
       "      <td>2</td>\n",
       "      <td>38</td>\n",
       "      <td>0</td>\n",
       "      <td>0</td>\n",
       "      <td>0</td>\n",
       "      <td>171465.0</td>\n",
       "      <td>145196.0</td>\n",
       "      <td>110163.0</td>\n",
       "      <td>18500.0</td>\n",
       "      <td>13998.0</td>\n",
       "      <td>3760.0</td>\n",
       "      <td>0</td>\n",
       "    </tr>\n",
       "  </tbody>\n",
       "</table>\n",
       "</div>"
      ],
      "text/plain": [
       "   LIMIT_BAL  MARRIAGE  EDUCATION  SEX  AGE  PAY_1  PAY_2  PAY_3  BILL_AMT1  \\\n",
       "0    30000.0         1          1    2   40      0      0      0    24607.0   \n",
       "1    20000.0         1          1    2   41      1      2      0    17040.0   \n",
       "2    20000.0         1          1    2   36      0      0      0    17332.0   \n",
       "3    20000.0         1          1    2   35      0      0      0     2003.0   \n",
       "4   170000.0         1          1    2   38      0      0      0   171465.0   \n",
       "\n",
       "   BILL_AMT2  BILL_AMT3  PAY_AMT1  PAY_AMT2  PAY_AMT3  TARGET  \n",
       "0    24430.0    23881.0    1700.0    1600.0    1287.0       0  \n",
       "1    16474.0    17203.0       0.0    1300.0    1500.0       0  \n",
       "2    18600.0    17947.0    1580.0    1367.0    1178.0       0  \n",
       "3     2948.0     3372.0    1086.0    1000.0       0.0       0  \n",
       "4   145196.0   110163.0   18500.0   13998.0    3760.0       0  "
      ]
     },
     "execution_count": 19,
     "metadata": {},
     "output_type": "execute_result"
    }
   ],
   "source": [
    "df.head()"
   ]
  },
  {
   "cell_type": "code",
   "execution_count": 20,
   "metadata": {},
   "outputs": [],
   "source": [
    "#dibagi dulu data yang kategorikal dengan data yang numerikal karena metode korelasinya berbeda\n",
    "kategorikal = ['MARRIAGE', 'EDUCATION', 'SEX', 'TARGET']\n",
    "numerical = ['AGE', 'LIMIT_BAL', 'PAY_1', 'PAY_2', 'PAY_3', 'BILL_AMT1', 'BILL_AMT2', 'BILL_AMT3', 'PAY_AMT1', 'PAY_AMT2', 'PAY_AMT3', 'TARGET']"
   ]
  },
  {
   "cell_type": "code",
   "execution_count": 21,
   "metadata": {},
   "outputs": [
    {
     "data": {
      "text/html": [
       "<style  type=\"text/css\" >\n",
       "    #T_96a0f28c_cf2c_11e9_8a07_309c23131503row0_col0 {\n",
       "            background-color:  #023858;\n",
       "            color:  #f1f1f1;\n",
       "        }    #T_96a0f28c_cf2c_11e9_8a07_309c23131503row0_col1 {\n",
       "            background-color:  #d0d1e6;\n",
       "            color:  #000000;\n",
       "        }    #T_96a0f28c_cf2c_11e9_8a07_309c23131503row0_col2 {\n",
       "            background-color:  #e4e1ef;\n",
       "            color:  #000000;\n",
       "        }    #T_96a0f28c_cf2c_11e9_8a07_309c23131503row0_col3 {\n",
       "            background-color:  #f4edf6;\n",
       "            color:  #000000;\n",
       "        }    #T_96a0f28c_cf2c_11e9_8a07_309c23131503row1_col0 {\n",
       "            background-color:  #d7d6e9;\n",
       "            color:  #000000;\n",
       "        }    #T_96a0f28c_cf2c_11e9_8a07_309c23131503row1_col1 {\n",
       "            background-color:  #023858;\n",
       "            color:  #f1f1f1;\n",
       "        }    #T_96a0f28c_cf2c_11e9_8a07_309c23131503row1_col2 {\n",
       "            background-color:  #faf2f8;\n",
       "            color:  #000000;\n",
       "        }    #T_96a0f28c_cf2c_11e9_8a07_309c23131503row1_col3 {\n",
       "            background-color:  #d1d2e6;\n",
       "            color:  #000000;\n",
       "        }    #T_96a0f28c_cf2c_11e9_8a07_309c23131503row2_col0 {\n",
       "            background-color:  #f1ebf4;\n",
       "            color:  #000000;\n",
       "        }    #T_96a0f28c_cf2c_11e9_8a07_309c23131503row2_col1 {\n",
       "            background-color:  #fff7fb;\n",
       "            color:  #000000;\n",
       "        }    #T_96a0f28c_cf2c_11e9_8a07_309c23131503row2_col2 {\n",
       "            background-color:  #023858;\n",
       "            color:  #f1f1f1;\n",
       "        }    #T_96a0f28c_cf2c_11e9_8a07_309c23131503row2_col3 {\n",
       "            background-color:  #fff7fb;\n",
       "            color:  #000000;\n",
       "        }    #T_96a0f28c_cf2c_11e9_8a07_309c23131503row3_col0 {\n",
       "            background-color:  #fff7fb;\n",
       "            color:  #000000;\n",
       "        }    #T_96a0f28c_cf2c_11e9_8a07_309c23131503row3_col1 {\n",
       "            background-color:  #d8d7e9;\n",
       "            color:  #000000;\n",
       "        }    #T_96a0f28c_cf2c_11e9_8a07_309c23131503row3_col2 {\n",
       "            background-color:  #fff7fb;\n",
       "            color:  #000000;\n",
       "        }    #T_96a0f28c_cf2c_11e9_8a07_309c23131503row3_col3 {\n",
       "            background-color:  #023858;\n",
       "            color:  #f1f1f1;\n",
       "        }</style><table id=\"T_96a0f28c_cf2c_11e9_8a07_309c23131503\" ><thead>    <tr>        <th class=\"blank level0\" ></th>        <th class=\"col_heading level0 col0\" >MARRIAGE</th>        <th class=\"col_heading level0 col1\" >EDUCATION</th>        <th class=\"col_heading level0 col2\" >SEX</th>        <th class=\"col_heading level0 col3\" >TARGET</th>    </tr></thead><tbody>\n",
       "                <tr>\n",
       "                        <th id=\"T_96a0f28c_cf2c_11e9_8a07_309c23131503level0_row0\" class=\"row_heading level0 row0\" >MARRIAGE</th>\n",
       "                        <td id=\"T_96a0f28c_cf2c_11e9_8a07_309c23131503row0_col0\" class=\"data row0 col0\" >1</td>\n",
       "                        <td id=\"T_96a0f28c_cf2c_11e9_8a07_309c23131503row0_col1\" class=\"data row0 col1\" >0.14</td>\n",
       "                        <td id=\"T_96a0f28c_cf2c_11e9_8a07_309c23131503row0_col2\" class=\"data row0 col2\" >0.008</td>\n",
       "                        <td id=\"T_96a0f28c_cf2c_11e9_8a07_309c23131503row0_col3\" class=\"data row0 col3\" >-0.097</td>\n",
       "            </tr>\n",
       "            <tr>\n",
       "                        <th id=\"T_96a0f28c_cf2c_11e9_8a07_309c23131503level0_row1\" class=\"row_heading level0 row1\" >EDUCATION</th>\n",
       "                        <td id=\"T_96a0f28c_cf2c_11e9_8a07_309c23131503row1_col0\" class=\"data row1 col0\" >0.14</td>\n",
       "                        <td id=\"T_96a0f28c_cf2c_11e9_8a07_309c23131503row1_col1\" class=\"data row1 col1\" >1</td>\n",
       "                        <td id=\"T_96a0f28c_cf2c_11e9_8a07_309c23131503row1_col2\" class=\"data row1 col2\" >-0.14</td>\n",
       "                        <td id=\"T_96a0f28c_cf2c_11e9_8a07_309c23131503row1_col3\" class=\"data row1 col3\" >0.11</td>\n",
       "            </tr>\n",
       "            <tr>\n",
       "                        <th id=\"T_96a0f28c_cf2c_11e9_8a07_309c23131503level0_row2\" class=\"row_heading level0 row2\" >SEX</th>\n",
       "                        <td id=\"T_96a0f28c_cf2c_11e9_8a07_309c23131503row2_col0\" class=\"data row2 col0\" >0.008</td>\n",
       "                        <td id=\"T_96a0f28c_cf2c_11e9_8a07_309c23131503row2_col1\" class=\"data row2 col1\" >-0.14</td>\n",
       "                        <td id=\"T_96a0f28c_cf2c_11e9_8a07_309c23131503row2_col2\" class=\"data row2 col2\" >1</td>\n",
       "                        <td id=\"T_96a0f28c_cf2c_11e9_8a07_309c23131503row2_col3\" class=\"data row2 col3\" >-0.19</td>\n",
       "            </tr>\n",
       "            <tr>\n",
       "                        <th id=\"T_96a0f28c_cf2c_11e9_8a07_309c23131503level0_row3\" class=\"row_heading level0 row3\" >TARGET</th>\n",
       "                        <td id=\"T_96a0f28c_cf2c_11e9_8a07_309c23131503row3_col0\" class=\"data row3 col0\" >-0.097</td>\n",
       "                        <td id=\"T_96a0f28c_cf2c_11e9_8a07_309c23131503row3_col1\" class=\"data row3 col1\" >0.11</td>\n",
       "                        <td id=\"T_96a0f28c_cf2c_11e9_8a07_309c23131503row3_col2\" class=\"data row3 col2\" >-0.19</td>\n",
       "                        <td id=\"T_96a0f28c_cf2c_11e9_8a07_309c23131503row3_col3\" class=\"data row3 col3\" >1</td>\n",
       "            </tr>\n",
       "    </tbody></table>"
      ],
      "text/plain": [
       "<pandas.io.formats.style.Styler at 0x24056207b70>"
      ]
     },
     "execution_count": 21,
     "metadata": {},
     "output_type": "execute_result"
    }
   ],
   "source": [
    "df[kategorikal].corr(method='spearman').style.background_gradient().set_precision(2)"
   ]
  },
  {
   "cell_type": "code",
   "execution_count": 22,
   "metadata": {},
   "outputs": [
    {
     "data": {
      "text/html": [
       "<style  type=\"text/css\" >\n",
       "    #T_96c551dc_cf2c_11e9_b214_309c23131503row0_col0 {\n",
       "            background-color:  #023858;\n",
       "            color:  #f1f1f1;\n",
       "        }    #T_96c551dc_cf2c_11e9_b214_309c23131503row0_col1 {\n",
       "            background-color:  #adc1dd;\n",
       "            color:  #000000;\n",
       "        }    #T_96c551dc_cf2c_11e9_b214_309c23131503row0_col2 {\n",
       "            background-color:  #dbdaeb;\n",
       "            color:  #000000;\n",
       "        }    #T_96c551dc_cf2c_11e9_b214_309c23131503row0_col3 {\n",
       "            background-color:  #dfddec;\n",
       "            color:  #000000;\n",
       "        }    #T_96c551dc_cf2c_11e9_b214_309c23131503row0_col4 {\n",
       "            background-color:  #e1dfed;\n",
       "            color:  #000000;\n",
       "        }    #T_96c551dc_cf2c_11e9_b214_309c23131503row0_col5 {\n",
       "            background-color:  #fbf3f9;\n",
       "            color:  #000000;\n",
       "        }    #T_96c551dc_cf2c_11e9_b214_309c23131503row0_col6 {\n",
       "            background-color:  #fcf4fa;\n",
       "            color:  #000000;\n",
       "        }    #T_96c551dc_cf2c_11e9_b214_309c23131503row0_col7 {\n",
       "            background-color:  #fcf4fa;\n",
       "            color:  #000000;\n",
       "        }    #T_96c551dc_cf2c_11e9_b214_309c23131503row0_col8 {\n",
       "            background-color:  #f3edf5;\n",
       "            color:  #000000;\n",
       "        }    #T_96c551dc_cf2c_11e9_b214_309c23131503row0_col9 {\n",
       "            background-color:  #f3edf5;\n",
       "            color:  #000000;\n",
       "        }    #T_96c551dc_cf2c_11e9_b214_309c23131503row0_col10 {\n",
       "            background-color:  #f5eef6;\n",
       "            color:  #000000;\n",
       "        }    #T_96c551dc_cf2c_11e9_b214_309c23131503row0_col11 {\n",
       "            background-color:  #afc1dd;\n",
       "            color:  #000000;\n",
       "        }    #T_96c551dc_cf2c_11e9_b214_309c23131503row1_col0 {\n",
       "            background-color:  #d3d4e7;\n",
       "            color:  #000000;\n",
       "        }    #T_96c551dc_cf2c_11e9_b214_309c23131503row1_col1 {\n",
       "            background-color:  #023858;\n",
       "            color:  #f1f1f1;\n",
       "        }    #T_96c551dc_cf2c_11e9_b214_309c23131503row1_col2 {\n",
       "            background-color:  #fff7fb;\n",
       "            color:  #000000;\n",
       "        }    #T_96c551dc_cf2c_11e9_b214_309c23131503row1_col3 {\n",
       "            background-color:  #fff7fb;\n",
       "            color:  #000000;\n",
       "        }    #T_96c551dc_cf2c_11e9_b214_309c23131503row1_col4 {\n",
       "            background-color:  #fff7fb;\n",
       "            color:  #000000;\n",
       "        }    #T_96c551dc_cf2c_11e9_b214_309c23131503row1_col5 {\n",
       "            background-color:  #dcdaeb;\n",
       "            color:  #000000;\n",
       "        }    #T_96c551dc_cf2c_11e9_b214_309c23131503row1_col6 {\n",
       "            background-color:  #dfddec;\n",
       "            color:  #000000;\n",
       "        }    #T_96c551dc_cf2c_11e9_b214_309c23131503row1_col7 {\n",
       "            background-color:  #dedcec;\n",
       "            color:  #000000;\n",
       "        }    #T_96c551dc_cf2c_11e9_b214_309c23131503row1_col8 {\n",
       "            background-color:  #d0d1e6;\n",
       "            color:  #000000;\n",
       "        }    #T_96c551dc_cf2c_11e9_b214_309c23131503row1_col9 {\n",
       "            background-color:  #d1d2e6;\n",
       "            color:  #000000;\n",
       "        }    #T_96c551dc_cf2c_11e9_b214_309c23131503row1_col10 {\n",
       "            background-color:  #d4d4e8;\n",
       "            color:  #000000;\n",
       "        }    #T_96c551dc_cf2c_11e9_b214_309c23131503row1_col11 {\n",
       "            background-color:  #fff7fb;\n",
       "            color:  #000000;\n",
       "        }    #T_96c551dc_cf2c_11e9_b214_309c23131503row2_col0 {\n",
       "            background-color:  #eee9f3;\n",
       "            color:  #000000;\n",
       "        }    #T_96c551dc_cf2c_11e9_b214_309c23131503row2_col1 {\n",
       "            background-color:  #f7f0f7;\n",
       "            color:  #000000;\n",
       "        }    #T_96c551dc_cf2c_11e9_b214_309c23131503row2_col2 {\n",
       "            background-color:  #023858;\n",
       "            color:  #f1f1f1;\n",
       "        }    #T_96c551dc_cf2c_11e9_b214_309c23131503row2_col3 {\n",
       "            background-color:  #1077b4;\n",
       "            color:  #f1f1f1;\n",
       "        }    #T_96c551dc_cf2c_11e9_b214_309c23131503row2_col4 {\n",
       "            background-color:  #509ac6;\n",
       "            color:  #000000;\n",
       "        }    #T_96c551dc_cf2c_11e9_b214_309c23131503row2_col5 {\n",
       "            background-color:  #f9f2f8;\n",
       "            color:  #000000;\n",
       "        }    #T_96c551dc_cf2c_11e9_b214_309c23131503row2_col6 {\n",
       "            background-color:  #f8f1f8;\n",
       "            color:  #000000;\n",
       "        }    #T_96c551dc_cf2c_11e9_b214_309c23131503row2_col7 {\n",
       "            background-color:  #f8f1f8;\n",
       "            color:  #000000;\n",
       "        }    #T_96c551dc_cf2c_11e9_b214_309c23131503row2_col8 {\n",
       "            background-color:  #fcf4fa;\n",
       "            color:  #000000;\n",
       "        }    #T_96c551dc_cf2c_11e9_b214_309c23131503row2_col9 {\n",
       "            background-color:  #fcf4fa;\n",
       "            color:  #000000;\n",
       "        }    #T_96c551dc_cf2c_11e9_b214_309c23131503row2_col10 {\n",
       "            background-color:  #fff7fb;\n",
       "            color:  #000000;\n",
       "        }    #T_96c551dc_cf2c_11e9_b214_309c23131503row2_col11 {\n",
       "            background-color:  #6da6cd;\n",
       "            color:  #000000;\n",
       "        }    #T_96c551dc_cf2c_11e9_b214_309c23131503row3_col0 {\n",
       "            background-color:  #f1ebf4;\n",
       "            color:  #000000;\n",
       "        }    #T_96c551dc_cf2c_11e9_b214_309c23131503row3_col1 {\n",
       "            background-color:  #f7f0f7;\n",
       "            color:  #000000;\n",
       "        }    #T_96c551dc_cf2c_11e9_b214_309c23131503row3_col2 {\n",
       "            background-color:  #1077b4;\n",
       "            color:  #f1f1f1;\n",
       "        }    #T_96c551dc_cf2c_11e9_b214_309c23131503row3_col3 {\n",
       "            background-color:  #023858;\n",
       "            color:  #f1f1f1;\n",
       "        }    #T_96c551dc_cf2c_11e9_b214_309c23131503row3_col4 {\n",
       "            background-color:  #1077b4;\n",
       "            color:  #f1f1f1;\n",
       "        }    #T_96c551dc_cf2c_11e9_b214_309c23131503row3_col5 {\n",
       "            background-color:  #f9f2f8;\n",
       "            color:  #000000;\n",
       "        }    #T_96c551dc_cf2c_11e9_b214_309c23131503row3_col6 {\n",
       "            background-color:  #f9f2f8;\n",
       "            color:  #000000;\n",
       "        }    #T_96c551dc_cf2c_11e9_b214_309c23131503row3_col7 {\n",
       "            background-color:  #f8f1f8;\n",
       "            color:  #000000;\n",
       "        }    #T_96c551dc_cf2c_11e9_b214_309c23131503row3_col8 {\n",
       "            background-color:  #fff7fb;\n",
       "            color:  #000000;\n",
       "        }    #T_96c551dc_cf2c_11e9_b214_309c23131503row3_col9 {\n",
       "            background-color:  #fcf4fa;\n",
       "            color:  #000000;\n",
       "        }    #T_96c551dc_cf2c_11e9_b214_309c23131503row3_col10 {\n",
       "            background-color:  #fef6fb;\n",
       "            color:  #000000;\n",
       "        }    #T_96c551dc_cf2c_11e9_b214_309c23131503row3_col11 {\n",
       "            background-color:  #86b0d3;\n",
       "            color:  #000000;\n",
       "        }    #T_96c551dc_cf2c_11e9_b214_309c23131503row4_col0 {\n",
       "            background-color:  #f2ecf5;\n",
       "            color:  #000000;\n",
       "        }    #T_96c551dc_cf2c_11e9_b214_309c23131503row4_col1 {\n",
       "            background-color:  #f6eff7;\n",
       "            color:  #000000;\n",
       "        }    #T_96c551dc_cf2c_11e9_b214_309c23131503row4_col2 {\n",
       "            background-color:  #509ac6;\n",
       "            color:  #000000;\n",
       "        }    #T_96c551dc_cf2c_11e9_b214_309c23131503row4_col3 {\n",
       "            background-color:  #0f76b3;\n",
       "            color:  #f1f1f1;\n",
       "        }    #T_96c551dc_cf2c_11e9_b214_309c23131503row4_col4 {\n",
       "            background-color:  #023858;\n",
       "            color:  #f1f1f1;\n",
       "        }    #T_96c551dc_cf2c_11e9_b214_309c23131503row4_col5 {\n",
       "            background-color:  #fef6fa;\n",
       "            color:  #000000;\n",
       "        }    #T_96c551dc_cf2c_11e9_b214_309c23131503row4_col6 {\n",
       "            background-color:  #fbf4f9;\n",
       "            color:  #000000;\n",
       "        }    #T_96c551dc_cf2c_11e9_b214_309c23131503row4_col7 {\n",
       "            background-color:  #faf3f9;\n",
       "            color:  #000000;\n",
       "        }    #T_96c551dc_cf2c_11e9_b214_309c23131503row4_col8 {\n",
       "            background-color:  #f6eff7;\n",
       "            color:  #000000;\n",
       "        }    #T_96c551dc_cf2c_11e9_b214_309c23131503row4_col9 {\n",
       "            background-color:  #fff7fb;\n",
       "            color:  #000000;\n",
       "        }    #T_96c551dc_cf2c_11e9_b214_309c23131503row4_col10 {\n",
       "            background-color:  #fef6fb;\n",
       "            color:  #000000;\n",
       "        }    #T_96c551dc_cf2c_11e9_b214_309c23131503row4_col11 {\n",
       "            background-color:  #94b6d7;\n",
       "            color:  #000000;\n",
       "        }    #T_96c551dc_cf2c_11e9_b214_309c23131503row5_col0 {\n",
       "            background-color:  #fcf4fa;\n",
       "            color:  #000000;\n",
       "        }    #T_96c551dc_cf2c_11e9_b214_309c23131503row5_col1 {\n",
       "            background-color:  #bbc7e0;\n",
       "            color:  #000000;\n",
       "        }    #T_96c551dc_cf2c_11e9_b214_309c23131503row5_col2 {\n",
       "            background-color:  #eae6f1;\n",
       "            color:  #000000;\n",
       "        }    #T_96c551dc_cf2c_11e9_b214_309c23131503row5_col3 {\n",
       "            background-color:  #eae6f1;\n",
       "            color:  #000000;\n",
       "        }    #T_96c551dc_cf2c_11e9_b214_309c23131503row5_col4 {\n",
       "            background-color:  #f0eaf4;\n",
       "            color:  #000000;\n",
       "        }    #T_96c551dc_cf2c_11e9_b214_309c23131503row5_col5 {\n",
       "            background-color:  #023858;\n",
       "            color:  #f1f1f1;\n",
       "        }    #T_96c551dc_cf2c_11e9_b214_309c23131503row5_col6 {\n",
       "            background-color:  #03446a;\n",
       "            color:  #f1f1f1;\n",
       "        }    #T_96c551dc_cf2c_11e9_b214_309c23131503row5_col7 {\n",
       "            background-color:  #034f7d;\n",
       "            color:  #f1f1f1;\n",
       "        }    #T_96c551dc_cf2c_11e9_b214_309c23131503row5_col8 {\n",
       "            background-color:  #d5d5e8;\n",
       "            color:  #000000;\n",
       "        }    #T_96c551dc_cf2c_11e9_b214_309c23131503row5_col9 {\n",
       "            background-color:  #d5d5e8;\n",
       "            color:  #000000;\n",
       "        }    #T_96c551dc_cf2c_11e9_b214_309c23131503row5_col10 {\n",
       "            background-color:  #d8d7e9;\n",
       "            color:  #000000;\n",
       "        }    #T_96c551dc_cf2c_11e9_b214_309c23131503row5_col11 {\n",
       "            background-color:  #e7e3f0;\n",
       "            color:  #000000;\n",
       "        }    #T_96c551dc_cf2c_11e9_b214_309c23131503row6_col0 {\n",
       "            background-color:  #fbf4f9;\n",
       "            color:  #000000;\n",
       "        }    #T_96c551dc_cf2c_11e9_b214_309c23131503row6_col1 {\n",
       "            background-color:  #bcc7e1;\n",
       "            color:  #000000;\n",
       "        }    #T_96c551dc_cf2c_11e9_b214_309c23131503row6_col2 {\n",
       "            background-color:  #e8e4f0;\n",
       "            color:  #000000;\n",
       "        }    #T_96c551dc_cf2c_11e9_b214_309c23131503row6_col3 {\n",
       "            background-color:  #e9e5f1;\n",
       "            color:  #000000;\n",
       "        }    #T_96c551dc_cf2c_11e9_b214_309c23131503row6_col4 {\n",
       "            background-color:  #ede7f2;\n",
       "            color:  #000000;\n",
       "        }    #T_96c551dc_cf2c_11e9_b214_309c23131503row6_col5 {\n",
       "            background-color:  #03446a;\n",
       "            color:  #f1f1f1;\n",
       "        }    #T_96c551dc_cf2c_11e9_b214_309c23131503row6_col6 {\n",
       "            background-color:  #023858;\n",
       "            color:  #f1f1f1;\n",
       "        }    #T_96c551dc_cf2c_11e9_b214_309c23131503row6_col7 {\n",
       "            background-color:  #03466e;\n",
       "            color:  #f1f1f1;\n",
       "        }    #T_96c551dc_cf2c_11e9_b214_309c23131503row6_col8 {\n",
       "            background-color:  #a9bfdc;\n",
       "            color:  #000000;\n",
       "        }    #T_96c551dc_cf2c_11e9_b214_309c23131503row6_col9 {\n",
       "            background-color:  #d6d6e9;\n",
       "            color:  #000000;\n",
       "        }    #T_96c551dc_cf2c_11e9_b214_309c23131503row6_col10 {\n",
       "            background-color:  #dad9ea;\n",
       "            color:  #000000;\n",
       "        }    #T_96c551dc_cf2c_11e9_b214_309c23131503row6_col11 {\n",
       "            background-color:  #e6e2ef;\n",
       "            color:  #000000;\n",
       "        }    #T_96c551dc_cf2c_11e9_b214_309c23131503row7_col0 {\n",
       "            background-color:  #fbf3f9;\n",
       "            color:  #000000;\n",
       "        }    #T_96c551dc_cf2c_11e9_b214_309c23131503row7_col1 {\n",
       "            background-color:  #bbc7e0;\n",
       "            color:  #000000;\n",
       "        }    #T_96c551dc_cf2c_11e9_b214_309c23131503row7_col2 {\n",
       "            background-color:  #e7e3f0;\n",
       "            color:  #000000;\n",
       "        }    #T_96c551dc_cf2c_11e9_b214_309c23131503row7_col3 {\n",
       "            background-color:  #e7e3f0;\n",
       "            color:  #000000;\n",
       "        }    #T_96c551dc_cf2c_11e9_b214_309c23131503row7_col4 {\n",
       "            background-color:  #ebe6f2;\n",
       "            color:  #000000;\n",
       "        }    #T_96c551dc_cf2c_11e9_b214_309c23131503row7_col5 {\n",
       "            background-color:  #034f7d;\n",
       "            color:  #f1f1f1;\n",
       "        }    #T_96c551dc_cf2c_11e9_b214_309c23131503row7_col6 {\n",
       "            background-color:  #03466e;\n",
       "            color:  #f1f1f1;\n",
       "        }    #T_96c551dc_cf2c_11e9_b214_309c23131503row7_col7 {\n",
       "            background-color:  #023858;\n",
       "            color:  #f1f1f1;\n",
       "        }    #T_96c551dc_cf2c_11e9_b214_309c23131503row7_col8 {\n",
       "            background-color:  #b4c4df;\n",
       "            color:  #000000;\n",
       "        }    #T_96c551dc_cf2c_11e9_b214_309c23131503row7_col9 {\n",
       "            background-color:  #a9bfdc;\n",
       "            color:  #000000;\n",
       "        }    #T_96c551dc_cf2c_11e9_b214_309c23131503row7_col10 {\n",
       "            background-color:  #dfddec;\n",
       "            color:  #000000;\n",
       "        }    #T_96c551dc_cf2c_11e9_b214_309c23131503row7_col11 {\n",
       "            background-color:  #e6e2ef;\n",
       "            color:  #000000;\n",
       "        }    #T_96c551dc_cf2c_11e9_b214_309c23131503row8_col0 {\n",
       "            background-color:  #fff7fb;\n",
       "            color:  #000000;\n",
       "        }    #T_96c551dc_cf2c_11e9_b214_309c23131503row8_col1 {\n",
       "            background-color:  #bdc8e1;\n",
       "            color:  #000000;\n",
       "        }    #T_96c551dc_cf2c_11e9_b214_309c23131503row8_col2 {\n",
       "            background-color:  #faf2f8;\n",
       "            color:  #000000;\n",
       "        }    #T_96c551dc_cf2c_11e9_b214_309c23131503row8_col3 {\n",
       "            background-color:  #fdf5fa;\n",
       "            color:  #000000;\n",
       "        }    #T_96c551dc_cf2c_11e9_b214_309c23131503row8_col4 {\n",
       "            background-color:  #f4edf6;\n",
       "            color:  #000000;\n",
       "        }    #T_96c551dc_cf2c_11e9_b214_309c23131503row8_col5 {\n",
       "            background-color:  #e4e1ef;\n",
       "            color:  #000000;\n",
       "        }    #T_96c551dc_cf2c_11e9_b214_309c23131503row8_col6 {\n",
       "            background-color:  #bdc8e1;\n",
       "            color:  #000000;\n",
       "        }    #T_96c551dc_cf2c_11e9_b214_309c23131503row8_col7 {\n",
       "            background-color:  #c9cee4;\n",
       "            color:  #000000;\n",
       "        }    #T_96c551dc_cf2c_11e9_b214_309c23131503row8_col8 {\n",
       "            background-color:  #023858;\n",
       "            color:  #f1f1f1;\n",
       "        }    #T_96c551dc_cf2c_11e9_b214_309c23131503row8_col9 {\n",
       "            background-color:  #ced0e6;\n",
       "            color:  #000000;\n",
       "        }    #T_96c551dc_cf2c_11e9_b214_309c23131503row8_col10 {\n",
       "            background-color:  #d6d6e9;\n",
       "            color:  #000000;\n",
       "        }    #T_96c551dc_cf2c_11e9_b214_309c23131503row8_col11 {\n",
       "            background-color:  #f2ecf5;\n",
       "            color:  #000000;\n",
       "        }    #T_96c551dc_cf2c_11e9_b214_309c23131503row9_col0 {\n",
       "            background-color:  #fff7fb;\n",
       "            color:  #000000;\n",
       "        }    #T_96c551dc_cf2c_11e9_b214_309c23131503row9_col1 {\n",
       "            background-color:  #bdc8e1;\n",
       "            color:  #000000;\n",
       "        }    #T_96c551dc_cf2c_11e9_b214_309c23131503row9_col2 {\n",
       "            background-color:  #f8f1f8;\n",
       "            color:  #000000;\n",
       "        }    #T_96c551dc_cf2c_11e9_b214_309c23131503row9_col3 {\n",
       "            background-color:  #f8f1f8;\n",
       "            color:  #000000;\n",
       "        }    #T_96c551dc_cf2c_11e9_b214_309c23131503row9_col4 {\n",
       "            background-color:  #fcf4fa;\n",
       "            color:  #000000;\n",
       "        }    #T_96c551dc_cf2c_11e9_b214_309c23131503row9_col5 {\n",
       "            background-color:  #e3e0ee;\n",
       "            color:  #000000;\n",
       "        }    #T_96c551dc_cf2c_11e9_b214_309c23131503row9_col6 {\n",
       "            background-color:  #e5e1ef;\n",
       "            color:  #000000;\n",
       "        }    #T_96c551dc_cf2c_11e9_b214_309c23131503row9_col7 {\n",
       "            background-color:  #bdc8e1;\n",
       "            color:  #000000;\n",
       "        }    #T_96c551dc_cf2c_11e9_b214_309c23131503row9_col8 {\n",
       "            background-color:  #cdd0e5;\n",
       "            color:  #000000;\n",
       "        }    #T_96c551dc_cf2c_11e9_b214_309c23131503row9_col9 {\n",
       "            background-color:  #023858;\n",
       "            color:  #f1f1f1;\n",
       "        }    #T_96c551dc_cf2c_11e9_b214_309c23131503row9_col10 {\n",
       "            background-color:  #d4d4e8;\n",
       "            color:  #000000;\n",
       "        }    #T_96c551dc_cf2c_11e9_b214_309c23131503row9_col11 {\n",
       "            background-color:  #f1ebf4;\n",
       "            color:  #000000;\n",
       "        }    #T_96c551dc_cf2c_11e9_b214_309c23131503row10_col0 {\n",
       "            background-color:  #fdf5fa;\n",
       "            color:  #000000;\n",
       "        }    #T_96c551dc_cf2c_11e9_b214_309c23131503row10_col1 {\n",
       "            background-color:  #bcc7e1;\n",
       "            color:  #000000;\n",
       "        }    #T_96c551dc_cf2c_11e9_b214_309c23131503row10_col2 {\n",
       "            background-color:  #f7f0f7;\n",
       "            color:  #000000;\n",
       "        }    #T_96c551dc_cf2c_11e9_b214_309c23131503row10_col3 {\n",
       "            background-color:  #f7f0f7;\n",
       "            color:  #000000;\n",
       "        }    #T_96c551dc_cf2c_11e9_b214_309c23131503row10_col4 {\n",
       "            background-color:  #f7f0f7;\n",
       "            color:  #000000;\n",
       "        }    #T_96c551dc_cf2c_11e9_b214_309c23131503row10_col5 {\n",
       "            background-color:  #e0deed;\n",
       "            color:  #000000;\n",
       "        }    #T_96c551dc_cf2c_11e9_b214_309c23131503row10_col6 {\n",
       "            background-color:  #e4e1ef;\n",
       "            color:  #000000;\n",
       "        }    #T_96c551dc_cf2c_11e9_b214_309c23131503row10_col7 {\n",
       "            background-color:  #e9e5f1;\n",
       "            color:  #000000;\n",
       "        }    #T_96c551dc_cf2c_11e9_b214_309c23131503row10_col8 {\n",
       "            background-color:  #d1d2e6;\n",
       "            color:  #000000;\n",
       "        }    #T_96c551dc_cf2c_11e9_b214_309c23131503row10_col9 {\n",
       "            background-color:  #ced0e6;\n",
       "            color:  #000000;\n",
       "        }    #T_96c551dc_cf2c_11e9_b214_309c23131503row10_col10 {\n",
       "            background-color:  #023858;\n",
       "            color:  #f1f1f1;\n",
       "        }    #T_96c551dc_cf2c_11e9_b214_309c23131503row10_col11 {\n",
       "            background-color:  #f0eaf4;\n",
       "            color:  #000000;\n",
       "        }    #T_96c551dc_cf2c_11e9_b214_309c23131503row11_col0 {\n",
       "            background-color:  #d4d4e8;\n",
       "            color:  #000000;\n",
       "        }    #T_96c551dc_cf2c_11e9_b214_309c23131503row11_col1 {\n",
       "            background-color:  #fff7fb;\n",
       "            color:  #000000;\n",
       "        }    #T_96c551dc_cf2c_11e9_b214_309c23131503row11_col2 {\n",
       "            background-color:  #7bacd1;\n",
       "            color:  #000000;\n",
       "        }    #T_96c551dc_cf2c_11e9_b214_309c23131503row11_col3 {\n",
       "            background-color:  #94b6d7;\n",
       "            color:  #000000;\n",
       "        }    #T_96c551dc_cf2c_11e9_b214_309c23131503row11_col4 {\n",
       "            background-color:  #a4bcda;\n",
       "            color:  #000000;\n",
       "        }    #T_96c551dc_cf2c_11e9_b214_309c23131503row11_col5 {\n",
       "            background-color:  #fff7fb;\n",
       "            color:  #000000;\n",
       "        }    #T_96c551dc_cf2c_11e9_b214_309c23131503row11_col6 {\n",
       "            background-color:  #fff7fb;\n",
       "            color:  #000000;\n",
       "        }    #T_96c551dc_cf2c_11e9_b214_309c23131503row11_col7 {\n",
       "            background-color:  #fff7fb;\n",
       "            color:  #000000;\n",
       "        }    #T_96c551dc_cf2c_11e9_b214_309c23131503row11_col8 {\n",
       "            background-color:  #fdf5fa;\n",
       "            color:  #000000;\n",
       "        }    #T_96c551dc_cf2c_11e9_b214_309c23131503row11_col9 {\n",
       "            background-color:  #fdf5fa;\n",
       "            color:  #000000;\n",
       "        }    #T_96c551dc_cf2c_11e9_b214_309c23131503row11_col10 {\n",
       "            background-color:  #fff7fb;\n",
       "            color:  #000000;\n",
       "        }    #T_96c551dc_cf2c_11e9_b214_309c23131503row11_col11 {\n",
       "            background-color:  #023858;\n",
       "            color:  #f1f1f1;\n",
       "        }</style><table id=\"T_96c551dc_cf2c_11e9_b214_309c23131503\" ><thead>    <tr>        <th class=\"blank level0\" ></th>        <th class=\"col_heading level0 col0\" >AGE</th>        <th class=\"col_heading level0 col1\" >LIMIT_BAL</th>        <th class=\"col_heading level0 col2\" >PAY_1</th>        <th class=\"col_heading level0 col3\" >PAY_2</th>        <th class=\"col_heading level0 col4\" >PAY_3</th>        <th class=\"col_heading level0 col5\" >BILL_AMT1</th>        <th class=\"col_heading level0 col6\" >BILL_AMT2</th>        <th class=\"col_heading level0 col7\" >BILL_AMT3</th>        <th class=\"col_heading level0 col8\" >PAY_AMT1</th>        <th class=\"col_heading level0 col9\" >PAY_AMT2</th>        <th class=\"col_heading level0 col10\" >PAY_AMT3</th>        <th class=\"col_heading level0 col11\" >TARGET</th>    </tr></thead><tbody>\n",
       "                <tr>\n",
       "                        <th id=\"T_96c551dc_cf2c_11e9_b214_309c23131503level0_row0\" class=\"row_heading level0 row0\" >AGE</th>\n",
       "                        <td id=\"T_96c551dc_cf2c_11e9_b214_309c23131503row0_col0\" class=\"data row0 col0\" >1</td>\n",
       "                        <td id=\"T_96c551dc_cf2c_11e9_b214_309c23131503row0_col1\" class=\"data row0 col1\" >0.22</td>\n",
       "                        <td id=\"T_96c551dc_cf2c_11e9_b214_309c23131503row0_col2\" class=\"data row0 col2\" >0.094</td>\n",
       "                        <td id=\"T_96c551dc_cf2c_11e9_b214_309c23131503row0_col3\" class=\"data row0 col3\" >0.078</td>\n",
       "                        <td id=\"T_96c551dc_cf2c_11e9_b214_309c23131503row0_col4\" class=\"data row0 col4\" >0.065</td>\n",
       "                        <td id=\"T_96c551dc_cf2c_11e9_b214_309c23131503row0_col5\" class=\"data row0 col5\" >0.0038</td>\n",
       "                        <td id=\"T_96c551dc_cf2c_11e9_b214_309c23131503row0_col6\" class=\"data row0 col6\" >0.0055</td>\n",
       "                        <td id=\"T_96c551dc_cf2c_11e9_b214_309c23131503row0_col7\" class=\"data row0 col7\" >0.0082</td>\n",
       "                        <td id=\"T_96c551dc_cf2c_11e9_b214_309c23131503row0_col8\" class=\"data row0 col8\" >-0.02</td>\n",
       "                        <td id=\"T_96c551dc_cf2c_11e9_b214_309c23131503row0_col9\" class=\"data row0 col9\" >-0.019</td>\n",
       "                        <td id=\"T_96c551dc_cf2c_11e9_b214_309c23131503row0_col10\" class=\"data row0 col10\" >-0.0036</td>\n",
       "                        <td id=\"T_96c551dc_cf2c_11e9_b214_309c23131503row0_col11\" class=\"data row0 col11\" >0.22</td>\n",
       "            </tr>\n",
       "            <tr>\n",
       "                        <th id=\"T_96c551dc_cf2c_11e9_b214_309c23131503level0_row1\" class=\"row_heading level0 row1\" >LIMIT_BAL</th>\n",
       "                        <td id=\"T_96c551dc_cf2c_11e9_b214_309c23131503row1_col0\" class=\"data row1 col0\" >0.22</td>\n",
       "                        <td id=\"T_96c551dc_cf2c_11e9_b214_309c23131503row1_col1\" class=\"data row1 col1\" >1</td>\n",
       "                        <td id=\"T_96c551dc_cf2c_11e9_b214_309c23131503row1_col2\" class=\"data row1 col2\" >-0.13</td>\n",
       "                        <td id=\"T_96c551dc_cf2c_11e9_b214_309c23131503row1_col3\" class=\"data row1 col3\" >-0.13</td>\n",
       "                        <td id=\"T_96c551dc_cf2c_11e9_b214_309c23131503row1_col4\" class=\"data row1 col4\" >-0.13</td>\n",
       "                        <td id=\"T_96c551dc_cf2c_11e9_b214_309c23131503row1_col5\" class=\"data row1 col5\" >0.18</td>\n",
       "                        <td id=\"T_96c551dc_cf2c_11e9_b214_309c23131503row1_col6\" class=\"data row1 col6\" >0.17</td>\n",
       "                        <td id=\"T_96c551dc_cf2c_11e9_b214_309c23131503row1_col7\" class=\"data row1 col7\" >0.18</td>\n",
       "                        <td id=\"T_96c551dc_cf2c_11e9_b214_309c23131503row1_col8\" class=\"data row1 col8\" >0.17</td>\n",
       "                        <td id=\"T_96c551dc_cf2c_11e9_b214_309c23131503row1_col9\" class=\"data row1 col9\" >0.17</td>\n",
       "                        <td id=\"T_96c551dc_cf2c_11e9_b214_309c23131503row1_col10\" class=\"data row1 col10\" >0.17</td>\n",
       "                        <td id=\"T_96c551dc_cf2c_11e9_b214_309c23131503row1_col11\" class=\"data row1 col11\" >-0.2</td>\n",
       "            </tr>\n",
       "            <tr>\n",
       "                        <th id=\"T_96c551dc_cf2c_11e9_b214_309c23131503level0_row2\" class=\"row_heading level0 row2\" >PAY_1</th>\n",
       "                        <td id=\"T_96c551dc_cf2c_11e9_b214_309c23131503row2_col0\" class=\"data row2 col0\" >0.094</td>\n",
       "                        <td id=\"T_96c551dc_cf2c_11e9_b214_309c23131503row2_col1\" class=\"data row2 col1\" >-0.13</td>\n",
       "                        <td id=\"T_96c551dc_cf2c_11e9_b214_309c23131503row2_col2\" class=\"data row2 col2\" >1</td>\n",
       "                        <td id=\"T_96c551dc_cf2c_11e9_b214_309c23131503row2_col3\" class=\"data row2 col3\" >0.68</td>\n",
       "                        <td id=\"T_96c551dc_cf2c_11e9_b214_309c23131503row2_col4\" class=\"data row2 col4\" >0.52</td>\n",
       "                        <td id=\"T_96c551dc_cf2c_11e9_b214_309c23131503row2_col5\" class=\"data row2 col5\" >0.018</td>\n",
       "                        <td id=\"T_96c551dc_cf2c_11e9_b214_309c23131503row2_col6\" class=\"data row2 col6\" >0.031</td>\n",
       "                        <td id=\"T_96c551dc_cf2c_11e9_b214_309c23131503row2_col7\" class=\"data row2 col7\" >0.035</td>\n",
       "                        <td id=\"T_96c551dc_cf2c_11e9_b214_309c23131503row2_col8\" class=\"data row2 col8\" >-0.088</td>\n",
       "                        <td id=\"T_96c551dc_cf2c_11e9_b214_309c23131503row2_col9\" class=\"data row2 col9\" >-0.081</td>\n",
       "                        <td id=\"T_96c551dc_cf2c_11e9_b214_309c23131503row2_col10\" class=\"data row2 col10\" >-0.073</td>\n",
       "                        <td id=\"T_96c551dc_cf2c_11e9_b214_309c23131503row2_col11\" class=\"data row2 col11\" >0.42</td>\n",
       "            </tr>\n",
       "            <tr>\n",
       "                        <th id=\"T_96c551dc_cf2c_11e9_b214_309c23131503level0_row3\" class=\"row_heading level0 row3\" >PAY_2</th>\n",
       "                        <td id=\"T_96c551dc_cf2c_11e9_b214_309c23131503row3_col0\" class=\"data row3 col0\" >0.078</td>\n",
       "                        <td id=\"T_96c551dc_cf2c_11e9_b214_309c23131503row3_col1\" class=\"data row3 col1\" >-0.13</td>\n",
       "                        <td id=\"T_96c551dc_cf2c_11e9_b214_309c23131503row3_col2\" class=\"data row3 col2\" >0.68</td>\n",
       "                        <td id=\"T_96c551dc_cf2c_11e9_b214_309c23131503row3_col3\" class=\"data row3 col3\" >1</td>\n",
       "                        <td id=\"T_96c551dc_cf2c_11e9_b214_309c23131503row3_col4\" class=\"data row3 col4\" >0.69</td>\n",
       "                        <td id=\"T_96c551dc_cf2c_11e9_b214_309c23131503row3_col5\" class=\"data row3 col5\" >0.019</td>\n",
       "                        <td id=\"T_96c551dc_cf2c_11e9_b214_309c23131503row3_col6\" class=\"data row3 col6\" >0.025</td>\n",
       "                        <td id=\"T_96c551dc_cf2c_11e9_b214_309c23131503row3_col7\" class=\"data row3 col7\" >0.034</td>\n",
       "                        <td id=\"T_96c551dc_cf2c_11e9_b214_309c23131503row3_col8\" class=\"data row3 col8\" >-0.11</td>\n",
       "                        <td id=\"T_96c551dc_cf2c_11e9_b214_309c23131503row3_col9\" class=\"data row3 col9\" >-0.081</td>\n",
       "                        <td id=\"T_96c551dc_cf2c_11e9_b214_309c23131503row3_col10\" class=\"data row3 col10\" >-0.072</td>\n",
       "                        <td id=\"T_96c551dc_cf2c_11e9_b214_309c23131503row3_col11\" class=\"data row3 col11\" >0.34</td>\n",
       "            </tr>\n",
       "            <tr>\n",
       "                        <th id=\"T_96c551dc_cf2c_11e9_b214_309c23131503level0_row4\" class=\"row_heading level0 row4\" >PAY_3</th>\n",
       "                        <td id=\"T_96c551dc_cf2c_11e9_b214_309c23131503row4_col0\" class=\"data row4 col0\" >0.065</td>\n",
       "                        <td id=\"T_96c551dc_cf2c_11e9_b214_309c23131503row4_col1\" class=\"data row4 col1\" >-0.13</td>\n",
       "                        <td id=\"T_96c551dc_cf2c_11e9_b214_309c23131503row4_col2\" class=\"data row4 col2\" >0.52</td>\n",
       "                        <td id=\"T_96c551dc_cf2c_11e9_b214_309c23131503row4_col3\" class=\"data row4 col3\" >0.69</td>\n",
       "                        <td id=\"T_96c551dc_cf2c_11e9_b214_309c23131503row4_col4\" class=\"data row4 col4\" >1</td>\n",
       "                        <td id=\"T_96c551dc_cf2c_11e9_b214_309c23131503row4_col5\" class=\"data row4 col5\" >-0.014</td>\n",
       "                        <td id=\"T_96c551dc_cf2c_11e9_b214_309c23131503row4_col6\" class=\"data row4 col6\" >0.0096</td>\n",
       "                        <td id=\"T_96c551dc_cf2c_11e9_b214_309c23131503row4_col7\" class=\"data row4 col7\" >0.017</td>\n",
       "                        <td id=\"T_96c551dc_cf2c_11e9_b214_309c23131503row4_col8\" class=\"data row4 col8\" >-0.044</td>\n",
       "                        <td id=\"T_96c551dc_cf2c_11e9_b214_309c23131503row4_col9\" class=\"data row4 col9\" >-0.11</td>\n",
       "                        <td id=\"T_96c551dc_cf2c_11e9_b214_309c23131503row4_col10\" class=\"data row4 col10\" >-0.07</td>\n",
       "                        <td id=\"T_96c551dc_cf2c_11e9_b214_309c23131503row4_col11\" class=\"data row4 col11\" >0.3</td>\n",
       "            </tr>\n",
       "            <tr>\n",
       "                        <th id=\"T_96c551dc_cf2c_11e9_b214_309c23131503level0_row5\" class=\"row_heading level0 row5\" >BILL_AMT1</th>\n",
       "                        <td id=\"T_96c551dc_cf2c_11e9_b214_309c23131503row5_col0\" class=\"data row5 col0\" >0.0038</td>\n",
       "                        <td id=\"T_96c551dc_cf2c_11e9_b214_309c23131503row5_col1\" class=\"data row5 col1\" >0.18</td>\n",
       "                        <td id=\"T_96c551dc_cf2c_11e9_b214_309c23131503row5_col2\" class=\"data row5 col2\" >0.018</td>\n",
       "                        <td id=\"T_96c551dc_cf2c_11e9_b214_309c23131503row5_col3\" class=\"data row5 col3\" >0.019</td>\n",
       "                        <td id=\"T_96c551dc_cf2c_11e9_b214_309c23131503row5_col4\" class=\"data row5 col4\" >-0.014</td>\n",
       "                        <td id=\"T_96c551dc_cf2c_11e9_b214_309c23131503row5_col5\" class=\"data row5 col5\" >1</td>\n",
       "                        <td id=\"T_96c551dc_cf2c_11e9_b214_309c23131503row5_col6\" class=\"data row5 col6\" >0.95</td>\n",
       "                        <td id=\"T_96c551dc_cf2c_11e9_b214_309c23131503row5_col7\" class=\"data row5 col7\" >0.91</td>\n",
       "                        <td id=\"T_96c551dc_cf2c_11e9_b214_309c23131503row5_col8\" class=\"data row5 col8\" >0.14</td>\n",
       "                        <td id=\"T_96c551dc_cf2c_11e9_b214_309c23131503row5_col9\" class=\"data row5 col9\" >0.15</td>\n",
       "                        <td id=\"T_96c551dc_cf2c_11e9_b214_309c23131503row5_col10\" class=\"data row5 col10\" >0.16</td>\n",
       "                        <td id=\"T_96c551dc_cf2c_11e9_b214_309c23131503row5_col11\" class=\"data row5 col11\" >-0.025</td>\n",
       "            </tr>\n",
       "            <tr>\n",
       "                        <th id=\"T_96c551dc_cf2c_11e9_b214_309c23131503level0_row6\" class=\"row_heading level0 row6\" >BILL_AMT2</th>\n",
       "                        <td id=\"T_96c551dc_cf2c_11e9_b214_309c23131503row6_col0\" class=\"data row6 col0\" >0.0055</td>\n",
       "                        <td id=\"T_96c551dc_cf2c_11e9_b214_309c23131503row6_col1\" class=\"data row6 col1\" >0.17</td>\n",
       "                        <td id=\"T_96c551dc_cf2c_11e9_b214_309c23131503row6_col2\" class=\"data row6 col2\" >0.031</td>\n",
       "                        <td id=\"T_96c551dc_cf2c_11e9_b214_309c23131503row6_col3\" class=\"data row6 col3\" >0.025</td>\n",
       "                        <td id=\"T_96c551dc_cf2c_11e9_b214_309c23131503row6_col4\" class=\"data row6 col4\" >0.0096</td>\n",
       "                        <td id=\"T_96c551dc_cf2c_11e9_b214_309c23131503row6_col5\" class=\"data row6 col5\" >0.95</td>\n",
       "                        <td id=\"T_96c551dc_cf2c_11e9_b214_309c23131503row6_col6\" class=\"data row6 col6\" >1</td>\n",
       "                        <td id=\"T_96c551dc_cf2c_11e9_b214_309c23131503row6_col7\" class=\"data row6 col7\" >0.95</td>\n",
       "                        <td id=\"T_96c551dc_cf2c_11e9_b214_309c23131503row6_col8\" class=\"data row6 col8\" >0.3</td>\n",
       "                        <td id=\"T_96c551dc_cf2c_11e9_b214_309c23131503row6_col9\" class=\"data row6 col9\" >0.14</td>\n",
       "                        <td id=\"T_96c551dc_cf2c_11e9_b214_309c23131503row6_col10\" class=\"data row6 col10\" >0.15</td>\n",
       "                        <td id=\"T_96c551dc_cf2c_11e9_b214_309c23131503row6_col11\" class=\"data row6 col11\" >-0.018</td>\n",
       "            </tr>\n",
       "            <tr>\n",
       "                        <th id=\"T_96c551dc_cf2c_11e9_b214_309c23131503level0_row7\" class=\"row_heading level0 row7\" >BILL_AMT3</th>\n",
       "                        <td id=\"T_96c551dc_cf2c_11e9_b214_309c23131503row7_col0\" class=\"data row7 col0\" >0.0082</td>\n",
       "                        <td id=\"T_96c551dc_cf2c_11e9_b214_309c23131503row7_col1\" class=\"data row7 col1\" >0.18</td>\n",
       "                        <td id=\"T_96c551dc_cf2c_11e9_b214_309c23131503row7_col2\" class=\"data row7 col2\" >0.035</td>\n",
       "                        <td id=\"T_96c551dc_cf2c_11e9_b214_309c23131503row7_col3\" class=\"data row7 col3\" >0.034</td>\n",
       "                        <td id=\"T_96c551dc_cf2c_11e9_b214_309c23131503row7_col4\" class=\"data row7 col4\" >0.017</td>\n",
       "                        <td id=\"T_96c551dc_cf2c_11e9_b214_309c23131503row7_col5\" class=\"data row7 col5\" >0.91</td>\n",
       "                        <td id=\"T_96c551dc_cf2c_11e9_b214_309c23131503row7_col6\" class=\"data row7 col6\" >0.95</td>\n",
       "                        <td id=\"T_96c551dc_cf2c_11e9_b214_309c23131503row7_col7\" class=\"data row7 col7\" >1</td>\n",
       "                        <td id=\"T_96c551dc_cf2c_11e9_b214_309c23131503row7_col8\" class=\"data row7 col8\" >0.26</td>\n",
       "                        <td id=\"T_96c551dc_cf2c_11e9_b214_309c23131503row7_col9\" class=\"data row7 col9\" >0.3</td>\n",
       "                        <td id=\"T_96c551dc_cf2c_11e9_b214_309c23131503row7_col10\" class=\"data row7 col10\" >0.12</td>\n",
       "                        <td id=\"T_96c551dc_cf2c_11e9_b214_309c23131503row7_col11\" class=\"data row7 col11\" >-0.015</td>\n",
       "            </tr>\n",
       "            <tr>\n",
       "                        <th id=\"T_96c551dc_cf2c_11e9_b214_309c23131503level0_row8\" class=\"row_heading level0 row8\" >PAY_AMT1</th>\n",
       "                        <td id=\"T_96c551dc_cf2c_11e9_b214_309c23131503row8_col0\" class=\"data row8 col0\" >-0.02</td>\n",
       "                        <td id=\"T_96c551dc_cf2c_11e9_b214_309c23131503row8_col1\" class=\"data row8 col1\" >0.17</td>\n",
       "                        <td id=\"T_96c551dc_cf2c_11e9_b214_309c23131503row8_col2\" class=\"data row8 col2\" >-0.088</td>\n",
       "                        <td id=\"T_96c551dc_cf2c_11e9_b214_309c23131503row8_col3\" class=\"data row8 col3\" >-0.11</td>\n",
       "                        <td id=\"T_96c551dc_cf2c_11e9_b214_309c23131503row8_col4\" class=\"data row8 col4\" >-0.044</td>\n",
       "                        <td id=\"T_96c551dc_cf2c_11e9_b214_309c23131503row8_col5\" class=\"data row8 col5\" >0.14</td>\n",
       "                        <td id=\"T_96c551dc_cf2c_11e9_b214_309c23131503row8_col6\" class=\"data row8 col6\" >0.3</td>\n",
       "                        <td id=\"T_96c551dc_cf2c_11e9_b214_309c23131503row8_col7\" class=\"data row8 col7\" >0.26</td>\n",
       "                        <td id=\"T_96c551dc_cf2c_11e9_b214_309c23131503row8_col8\" class=\"data row8 col8\" >1</td>\n",
       "                        <td id=\"T_96c551dc_cf2c_11e9_b214_309c23131503row8_col9\" class=\"data row8 col9\" >0.18</td>\n",
       "                        <td id=\"T_96c551dc_cf2c_11e9_b214_309c23131503row8_col10\" class=\"data row8 col10\" >0.17</td>\n",
       "                        <td id=\"T_96c551dc_cf2c_11e9_b214_309c23131503row8_col11\" class=\"data row8 col11\" >-0.096</td>\n",
       "            </tr>\n",
       "            <tr>\n",
       "                        <th id=\"T_96c551dc_cf2c_11e9_b214_309c23131503level0_row9\" class=\"row_heading level0 row9\" >PAY_AMT2</th>\n",
       "                        <td id=\"T_96c551dc_cf2c_11e9_b214_309c23131503row9_col0\" class=\"data row9 col0\" >-0.019</td>\n",
       "                        <td id=\"T_96c551dc_cf2c_11e9_b214_309c23131503row9_col1\" class=\"data row9 col1\" >0.17</td>\n",
       "                        <td id=\"T_96c551dc_cf2c_11e9_b214_309c23131503row9_col2\" class=\"data row9 col2\" >-0.081</td>\n",
       "                        <td id=\"T_96c551dc_cf2c_11e9_b214_309c23131503row9_col3\" class=\"data row9 col3\" >-0.081</td>\n",
       "                        <td id=\"T_96c551dc_cf2c_11e9_b214_309c23131503row9_col4\" class=\"data row9 col4\" >-0.11</td>\n",
       "                        <td id=\"T_96c551dc_cf2c_11e9_b214_309c23131503row9_col5\" class=\"data row9 col5\" >0.15</td>\n",
       "                        <td id=\"T_96c551dc_cf2c_11e9_b214_309c23131503row9_col6\" class=\"data row9 col6\" >0.14</td>\n",
       "                        <td id=\"T_96c551dc_cf2c_11e9_b214_309c23131503row9_col7\" class=\"data row9 col7\" >0.3</td>\n",
       "                        <td id=\"T_96c551dc_cf2c_11e9_b214_309c23131503row9_col8\" class=\"data row9 col8\" >0.18</td>\n",
       "                        <td id=\"T_96c551dc_cf2c_11e9_b214_309c23131503row9_col9\" class=\"data row9 col9\" >1</td>\n",
       "                        <td id=\"T_96c551dc_cf2c_11e9_b214_309c23131503row9_col10\" class=\"data row9 col10\" >0.18</td>\n",
       "                        <td id=\"T_96c551dc_cf2c_11e9_b214_309c23131503row9_col11\" class=\"data row9 col11\" >-0.087</td>\n",
       "            </tr>\n",
       "            <tr>\n",
       "                        <th id=\"T_96c551dc_cf2c_11e9_b214_309c23131503level0_row10\" class=\"row_heading level0 row10\" >PAY_AMT3</th>\n",
       "                        <td id=\"T_96c551dc_cf2c_11e9_b214_309c23131503row10_col0\" class=\"data row10 col0\" >-0.0036</td>\n",
       "                        <td id=\"T_96c551dc_cf2c_11e9_b214_309c23131503row10_col1\" class=\"data row10 col1\" >0.17</td>\n",
       "                        <td id=\"T_96c551dc_cf2c_11e9_b214_309c23131503row10_col2\" class=\"data row10 col2\" >-0.073</td>\n",
       "                        <td id=\"T_96c551dc_cf2c_11e9_b214_309c23131503row10_col3\" class=\"data row10 col3\" >-0.072</td>\n",
       "                        <td id=\"T_96c551dc_cf2c_11e9_b214_309c23131503row10_col4\" class=\"data row10 col4\" >-0.07</td>\n",
       "                        <td id=\"T_96c551dc_cf2c_11e9_b214_309c23131503row10_col5\" class=\"data row10 col5\" >0.16</td>\n",
       "                        <td id=\"T_96c551dc_cf2c_11e9_b214_309c23131503row10_col6\" class=\"data row10 col6\" >0.15</td>\n",
       "                        <td id=\"T_96c551dc_cf2c_11e9_b214_309c23131503row10_col7\" class=\"data row10 col7\" >0.12</td>\n",
       "                        <td id=\"T_96c551dc_cf2c_11e9_b214_309c23131503row10_col8\" class=\"data row10 col8\" >0.17</td>\n",
       "                        <td id=\"T_96c551dc_cf2c_11e9_b214_309c23131503row10_col9\" class=\"data row10 col9\" >0.18</td>\n",
       "                        <td id=\"T_96c551dc_cf2c_11e9_b214_309c23131503row10_col10\" class=\"data row10 col10\" >1</td>\n",
       "                        <td id=\"T_96c551dc_cf2c_11e9_b214_309c23131503row10_col11\" class=\"data row10 col11\" >-0.076</td>\n",
       "            </tr>\n",
       "            <tr>\n",
       "                        <th id=\"T_96c551dc_cf2c_11e9_b214_309c23131503level0_row11\" class=\"row_heading level0 row11\" >TARGET</th>\n",
       "                        <td id=\"T_96c551dc_cf2c_11e9_b214_309c23131503row11_col0\" class=\"data row11 col0\" >0.22</td>\n",
       "                        <td id=\"T_96c551dc_cf2c_11e9_b214_309c23131503row11_col1\" class=\"data row11 col1\" >-0.2</td>\n",
       "                        <td id=\"T_96c551dc_cf2c_11e9_b214_309c23131503row11_col2\" class=\"data row11 col2\" >0.42</td>\n",
       "                        <td id=\"T_96c551dc_cf2c_11e9_b214_309c23131503row11_col3\" class=\"data row11 col3\" >0.34</td>\n",
       "                        <td id=\"T_96c551dc_cf2c_11e9_b214_309c23131503row11_col4\" class=\"data row11 col4\" >0.3</td>\n",
       "                        <td id=\"T_96c551dc_cf2c_11e9_b214_309c23131503row11_col5\" class=\"data row11 col5\" >-0.025</td>\n",
       "                        <td id=\"T_96c551dc_cf2c_11e9_b214_309c23131503row11_col6\" class=\"data row11 col6\" >-0.018</td>\n",
       "                        <td id=\"T_96c551dc_cf2c_11e9_b214_309c23131503row11_col7\" class=\"data row11 col7\" >-0.015</td>\n",
       "                        <td id=\"T_96c551dc_cf2c_11e9_b214_309c23131503row11_col8\" class=\"data row11 col8\" >-0.096</td>\n",
       "                        <td id=\"T_96c551dc_cf2c_11e9_b214_309c23131503row11_col9\" class=\"data row11 col9\" >-0.087</td>\n",
       "                        <td id=\"T_96c551dc_cf2c_11e9_b214_309c23131503row11_col10\" class=\"data row11 col10\" >-0.076</td>\n",
       "                        <td id=\"T_96c551dc_cf2c_11e9_b214_309c23131503row11_col11\" class=\"data row11 col11\" >1</td>\n",
       "            </tr>\n",
       "    </tbody></table>"
      ],
      "text/plain": [
       "<pandas.io.formats.style.Styler at 0x24056aa03c8>"
      ]
     },
     "execution_count": 22,
     "metadata": {},
     "output_type": "execute_result"
    }
   ],
   "source": [
    "df[numerical].corr().style.background_gradient().set_precision(2)"
   ]
  },
  {
   "cell_type": "markdown",
   "metadata": {},
   "source": [
    "Dari heatmap dan correlation bisa dilihat bahwa ada beberapa features yang mempengaruhi nilai dari Target yaitu:\n",
    "1. LIMIT_BAL = mempunyai korelasi negatif sebesar 0.2, jadi semakin tinggi nilai LIMIT_BAL maka akan semakin tinggi pula dia akan tidak terlambat bayar\n",
    "2. EDUCATION = mempunyai korelasi positif sebesar 0.11, jadi semakin tinggi nilai EDUCATION maka akan semakin tinggi pula dia akan terlambat bayar\n",
    "3. SEX = mempunyai korelasi negatif sebesar -0.19, jadi semakin tinggi nilai SEX maka akan semakin tinggi pula dia akan tidak terlambat bayar\n",
    "4. AGE = mempunyai korelasi positif sebesar 0.22, jadi semakin tinggi nilai AGE maka akan semakin tinggi pula dia akan terlambat bayar\n",
    "5. PAY_1 = mempunyai korelasi positif sebesar 0.42, jadi semakin tinggi nilai PAY_1 maka akan semakin tinggi pula dia akan terlambat bayar\n",
    "6. PAY_2 = mempunyai korelasi positif sebesar 0.34, jadi semakin tinggi nilai PAY_2 maka akan semakin tinggi pula dia akan terlambat bayar\n",
    "7. PAY_3 = mempunyai korelasi positif sebesar 0.3, jadi semakin tinggi nilai PAY_2 maka akan semakin tinggi pula dia akan terlambat bayar\n",
    "8. features BILL_AMT 1,2, dan 3 memiliki korelasi yang sangat tinggi satu sama lain. hal ini mungkin karena jumlah pembayaran pada bulan sebelumnya akan mempengaruhi jumlah pembayaran pada bulan berikutnya. perlu ditangani nih\n",
    "9. features PAY_1,2, dan 3 juga memiliki korelasi yang sangat tinggi. hal ini mungkin karena ketika pada bulan 1 customer itu telat membayar, maka akan mempengaruhi pembayaran pada bulan berikutnya. perlu ditangani juga"
   ]
  },
  {
   "cell_type": "markdown",
   "metadata": {},
   "source": [
    "### Visualization for numerical features"
   ]
  },
  {
   "cell_type": "code",
   "execution_count": 23,
   "metadata": {},
   "outputs": [
    {
     "data": {
      "text/plain": [
       "<matplotlib.axes._subplots.AxesSubplot at 0x24055fcdeb8>"
      ]
     },
     "execution_count": 23,
     "metadata": {},
     "output_type": "execute_result"
    },
    {
     "data": {
      "image/png": "[encoded data removed]",
      "text/plain": [
       "<Figure size 576x432 with 1 Axes>"
      ]
     },
     "metadata": {
      "needs_background": "light"
     },
     "output_type": "display_data"
    }
   ],
   "source": [
    "plt.figure(figsize=(8,6))\n",
    "sns.boxplot(y=df['LIMIT_BAL'], x=df['TARGET'])"
   ]
  },
  {
   "cell_type": "markdown",
   "metadata": {},
   "source": [
    "- ternyata untuk target 0 dapat dilihat bahwa memiliki median yang lebih tinggi jika dibandingkan target 1 yang telat membayar"
   ]
  },
  {
   "cell_type": "code",
   "execution_count": 24,
   "metadata": {
    "scrolled": false
   },
   "outputs": [
    {
     "data": {
      "text/plain": [
       "<matplotlib.axes._subplots.AxesSubplot at 0x24057b47cf8>"
      ]
     },
     "execution_count": 24,
     "metadata": {},
     "output_type": "execute_result"
    },
    {
     "data": {
      "image/png": "[encoded data removed]",
      "text/plain": [
       "<Figure size 576x432 with 1 Axes>"
      ]
     },
     "metadata": {
      "needs_background": "light"
     },
     "output_type": "display_data"
    }
   ],
   "source": [
    "plt.figure(figsize=(8,6))\n",
    "sns.boxplot(y=df['AGE'], x=df['TARGET'])"
   ]
  },
  {
   "cell_type": "markdown",
   "metadata": {},
   "source": [
    "- dapat dilihat bahwa target yang telat membayar memiliki density diantara umur 50 tahun sedangkan yang membayar tepat waktu pada umur kisaran 40 tahun"
   ]
  },
  {
   "cell_type": "markdown",
   "metadata": {},
   "source": [
    "### Visualization for categorical features"
   ]
  },
  {
   "cell_type": "code",
   "execution_count": 25,
   "metadata": {
    "scrolled": false
   },
   "outputs": [
    {
     "data": {
      "image/png": "[encoded data removed]",
      "text/plain": [
       "<Figure size 432x288 with 1 Axes>"
      ]
     },
     "metadata": {
      "needs_background": "light"
     },
     "output_type": "display_data"
    },
    {
     "data": {
      "image/png": "[encoded data removed]",
      "text/plain": [
       "<Figure size 432x288 with 1 Axes>"
      ]
     },
     "metadata": {
      "needs_background": "light"
     },
     "output_type": "display_data"
    },
    {
     "data": {
      "image/png": "[encoded data removed]",
      "text/plain": [
       "<Figure size 432x288 with 1 Axes>"
      ]
     },
     "metadata": {
      "needs_background": "light"
     },
     "output_type": "display_data"
    },
    {
     "data": {
      "image/png": "[encoded data removed]",
      "text/plain": [
       "<Figure size 432x288 with 1 Axes>"
      ]
     },
     "metadata": {
      "needs_background": "light"
     },
     "output_type": "display_data"
    },
    {
     "data": {
      "image/png": "[encoded data removed]",
      "text/plain": [
       "<Figure size 432x288 with 1 Axes>"
      ]
     },
     "metadata": {
      "needs_background": "light"
     },
     "output_type": "display_data"
    }
   ],
   "source": [
    "education = pd.crosstab(df['EDUCATION'],df['TARGET'], normalize=0)  \n",
    "sex = pd.crosstab(df['SEX'],df['TARGET'], normalize=0)\n",
    "pay_1 = pd.crosstab(df['PAY_1'],df['TARGET'], normalize=0)\n",
    "pay_2 = pd.crosstab(df['PAY_2'],df['TARGET'], normalize=0)\n",
    "pay_3 = pd.crosstab(df['PAY_3'],df['TARGET'], normalize=0)\n",
    "\n",
    "education.sort_values(by=0,inplace=True)\n",
    "sex.sort_values(by=0,inplace=True)\n",
    "pay_1.sort_values(by=0,inplace=True)\n",
    "pay_2.sort_values(by=0,inplace=True)\n",
    "pay_3.sort_values(by=0,inplace=True)\n",
    "\n",
    "education.plot(kind='barh',stacked=True)\n",
    "plt.legend(loc='upper left', bbox_to_anchor=(1,1), ncol=1)\n",
    "\n",
    "sex.plot(kind='barh',stacked=True)\n",
    "plt.legend(loc='upper left', bbox_to_anchor=(1,1), ncol=1)\n",
    "\n",
    "pay_1.plot(kind='barh',stacked=True)\n",
    "plt.legend(loc='upper left', bbox_to_anchor=(1,1), ncol=1)\n",
    "\n",
    "pay_2.plot(kind='barh',stacked=True)\n",
    "plt.legend(loc='upper left', bbox_to_anchor=(1,1), ncol=1)\n",
    "\n",
    "pay_2.plot(kind='barh',stacked=True)\n",
    "plt.legend(loc='upper left', bbox_to_anchor=(1,1), ncol=1)\n",
    "\n",
    "plt.show()"
   ]
  },
  {
   "cell_type": "markdown",
   "metadata": {},
   "source": [
    "1. semakin tinggi pendidikan seseorang, maka semakin kecil kemungkinan dia untuk telat bayar pinjaman.\n",
    "2. kemungkinan wanita akan membayar pinjaman tepat waktu dibandingkan dengan pria.\n",
    "3. sebagian besar peminjam akan membayar tepat waktu pada bulan pertama namun di bulan ke 2 dan ke 3 akan memiliki kemungkinan pembayaran telat selama 1 bulan"
   ]
  },
  {
   "cell_type": "markdown",
   "metadata": {},
   "source": [
    "## Modelling First Try\n",
    "pemodelan ini menggunakan dataset yang featurenya belum kita engineering"
   ]
  },
  {
   "cell_type": "code",
   "execution_count": 26,
   "metadata": {
    "scrolled": true
   },
   "outputs": [
    {
     "data": {
      "text/html": [
       "<div>\n",
       "<style scoped>\n",
       "    .dataframe tbody tr th:only-of-type {\n",
       "        vertical-align: middle;\n",
       "    }\n",
       "\n",
       "    .dataframe tbody tr th {\n",
       "        vertical-align: top;\n",
       "    }\n",
       "\n",
       "    .dataframe thead th {\n",
       "        text-align: right;\n",
       "    }\n",
       "</style>\n",
       "<table border=\"1\" class=\"dataframe\">\n",
       "  <thead>\n",
       "    <tr style=\"text-align: right;\">\n",
       "      <th></th>\n",
       "      <th>LIMIT_BAL</th>\n",
       "      <th>MARRIAGE</th>\n",
       "      <th>EDUCATION</th>\n",
       "      <th>SEX</th>\n",
       "      <th>AGE</th>\n",
       "      <th>PAY_1</th>\n",
       "      <th>PAY_2</th>\n",
       "      <th>PAY_3</th>\n",
       "      <th>BILL_AMT1</th>\n",
       "      <th>BILL_AMT2</th>\n",
       "      <th>BILL_AMT3</th>\n",
       "      <th>PAY_AMT1</th>\n",
       "      <th>PAY_AMT2</th>\n",
       "      <th>PAY_AMT3</th>\n",
       "      <th>TARGET</th>\n",
       "    </tr>\n",
       "  </thead>\n",
       "  <tbody>\n",
       "    <tr>\n",
       "      <th>0</th>\n",
       "      <td>30000.0</td>\n",
       "      <td>1</td>\n",
       "      <td>1</td>\n",
       "      <td>2</td>\n",
       "      <td>40</td>\n",
       "      <td>0</td>\n",
       "      <td>0</td>\n",
       "      <td>0</td>\n",
       "      <td>24607.0</td>\n",
       "      <td>24430.0</td>\n",
       "      <td>23881.0</td>\n",
       "      <td>1700.0</td>\n",
       "      <td>1600.0</td>\n",
       "      <td>1287.0</td>\n",
       "      <td>0</td>\n",
       "    </tr>\n",
       "    <tr>\n",
       "      <th>1</th>\n",
       "      <td>20000.0</td>\n",
       "      <td>1</td>\n",
       "      <td>1</td>\n",
       "      <td>2</td>\n",
       "      <td>41</td>\n",
       "      <td>1</td>\n",
       "      <td>2</td>\n",
       "      <td>0</td>\n",
       "      <td>17040.0</td>\n",
       "      <td>16474.0</td>\n",
       "      <td>17203.0</td>\n",
       "      <td>0.0</td>\n",
       "      <td>1300.0</td>\n",
       "      <td>1500.0</td>\n",
       "      <td>0</td>\n",
       "    </tr>\n",
       "    <tr>\n",
       "      <th>2</th>\n",
       "      <td>20000.0</td>\n",
       "      <td>1</td>\n",
       "      <td>1</td>\n",
       "      <td>2</td>\n",
       "      <td>36</td>\n",
       "      <td>0</td>\n",
       "      <td>0</td>\n",
       "      <td>0</td>\n",
       "      <td>17332.0</td>\n",
       "      <td>18600.0</td>\n",
       "      <td>17947.0</td>\n",
       "      <td>1580.0</td>\n",
       "      <td>1367.0</td>\n",
       "      <td>1178.0</td>\n",
       "      <td>0</td>\n",
       "    </tr>\n",
       "    <tr>\n",
       "      <th>3</th>\n",
       "      <td>20000.0</td>\n",
       "      <td>1</td>\n",
       "      <td>1</td>\n",
       "      <td>2</td>\n",
       "      <td>35</td>\n",
       "      <td>0</td>\n",
       "      <td>0</td>\n",
       "      <td>0</td>\n",
       "      <td>2003.0</td>\n",
       "      <td>2948.0</td>\n",
       "      <td>3372.0</td>\n",
       "      <td>1086.0</td>\n",
       "      <td>1000.0</td>\n",
       "      <td>0.0</td>\n",
       "      <td>0</td>\n",
       "    </tr>\n",
       "    <tr>\n",
       "      <th>4</th>\n",
       "      <td>170000.0</td>\n",
       "      <td>1</td>\n",
       "      <td>1</td>\n",
       "      <td>2</td>\n",
       "      <td>38</td>\n",
       "      <td>0</td>\n",
       "      <td>0</td>\n",
       "      <td>0</td>\n",
       "      <td>171465.0</td>\n",
       "      <td>145196.0</td>\n",
       "      <td>110163.0</td>\n",
       "      <td>18500.0</td>\n",
       "      <td>13998.0</td>\n",
       "      <td>3760.0</td>\n",
       "      <td>0</td>\n",
       "    </tr>\n",
       "  </tbody>\n",
       "</table>\n",
       "</div>"
      ],
      "text/plain": [
       "   LIMIT_BAL  MARRIAGE  EDUCATION  SEX  AGE  PAY_1  PAY_2  PAY_3  BILL_AMT1  \\\n",
       "0    30000.0         1          1    2   40      0      0      0    24607.0   \n",
       "1    20000.0         1          1    2   41      1      2      0    17040.0   \n",
       "2    20000.0         1          1    2   36      0      0      0    17332.0   \n",
       "3    20000.0         1          1    2   35      0      0      0     2003.0   \n",
       "4   170000.0         1          1    2   38      0      0      0   171465.0   \n",
       "\n",
       "   BILL_AMT2  BILL_AMT3  PAY_AMT1  PAY_AMT2  PAY_AMT3  TARGET  \n",
       "0    24430.0    23881.0    1700.0    1600.0    1287.0       0  \n",
       "1    16474.0    17203.0       0.0    1300.0    1500.0       0  \n",
       "2    18600.0    17947.0    1580.0    1367.0    1178.0       0  \n",
       "3     2948.0     3372.0    1086.0    1000.0       0.0       0  \n",
       "4   145196.0   110163.0   18500.0   13998.0    3760.0       0  "
      ]
     },
     "execution_count": 26,
     "metadata": {},
     "output_type": "execute_result"
    }
   ],
   "source": [
    "df.head()"
   ]
  },
  {
   "cell_type": "markdown",
   "metadata": {},
   "source": [
    "### Create x and y variables"
   ]
  },
  {
   "cell_type": "code",
   "execution_count": 27,
   "metadata": {},
   "outputs": [
    {
     "data": {
      "text/html": [
       "<div>\n",
       "<style scoped>\n",
       "    .dataframe tbody tr th:only-of-type {\n",
       "        vertical-align: middle;\n",
       "    }\n",
       "\n",
       "    .dataframe tbody tr th {\n",
       "        vertical-align: top;\n",
       "    }\n",
       "\n",
       "    .dataframe thead th {\n",
       "        text-align: right;\n",
       "    }\n",
       "</style>\n",
       "<table border=\"1\" class=\"dataframe\">\n",
       "  <thead>\n",
       "    <tr style=\"text-align: right;\">\n",
       "      <th></th>\n",
       "      <th>LIMIT_BAL</th>\n",
       "      <th>MARRIAGE</th>\n",
       "      <th>EDUCATION</th>\n",
       "      <th>SEX</th>\n",
       "      <th>AGE</th>\n",
       "      <th>PAY_1</th>\n",
       "      <th>PAY_2</th>\n",
       "      <th>PAY_3</th>\n",
       "      <th>BILL_AMT1</th>\n",
       "      <th>BILL_AMT2</th>\n",
       "      <th>BILL_AMT3</th>\n",
       "      <th>PAY_AMT1</th>\n",
       "      <th>PAY_AMT2</th>\n",
       "      <th>PAY_AMT3</th>\n",
       "    </tr>\n",
       "  </thead>\n",
       "  <tbody>\n",
       "    <tr>\n",
       "      <th>0</th>\n",
       "      <td>30000.0</td>\n",
       "      <td>1</td>\n",
       "      <td>1</td>\n",
       "      <td>2</td>\n",
       "      <td>40</td>\n",
       "      <td>0</td>\n",
       "      <td>0</td>\n",
       "      <td>0</td>\n",
       "      <td>24607.0</td>\n",
       "      <td>24430.0</td>\n",
       "      <td>23881.0</td>\n",
       "      <td>1700.0</td>\n",
       "      <td>1600.0</td>\n",
       "      <td>1287.0</td>\n",
       "    </tr>\n",
       "    <tr>\n",
       "      <th>1</th>\n",
       "      <td>20000.0</td>\n",
       "      <td>1</td>\n",
       "      <td>1</td>\n",
       "      <td>2</td>\n",
       "      <td>41</td>\n",
       "      <td>1</td>\n",
       "      <td>2</td>\n",
       "      <td>0</td>\n",
       "      <td>17040.0</td>\n",
       "      <td>16474.0</td>\n",
       "      <td>17203.0</td>\n",
       "      <td>0.0</td>\n",
       "      <td>1300.0</td>\n",
       "      <td>1500.0</td>\n",
       "    </tr>\n",
       "    <tr>\n",
       "      <th>2</th>\n",
       "      <td>20000.0</td>\n",
       "      <td>1</td>\n",
       "      <td>1</td>\n",
       "      <td>2</td>\n",
       "      <td>36</td>\n",
       "      <td>0</td>\n",
       "      <td>0</td>\n",
       "      <td>0</td>\n",
       "      <td>17332.0</td>\n",
       "      <td>18600.0</td>\n",
       "      <td>17947.0</td>\n",
       "      <td>1580.0</td>\n",
       "      <td>1367.0</td>\n",
       "      <td>1178.0</td>\n",
       "    </tr>\n",
       "    <tr>\n",
       "      <th>3</th>\n",
       "      <td>20000.0</td>\n",
       "      <td>1</td>\n",
       "      <td>1</td>\n",
       "      <td>2</td>\n",
       "      <td>35</td>\n",
       "      <td>0</td>\n",
       "      <td>0</td>\n",
       "      <td>0</td>\n",
       "      <td>2003.0</td>\n",
       "      <td>2948.0</td>\n",
       "      <td>3372.0</td>\n",
       "      <td>1086.0</td>\n",
       "      <td>1000.0</td>\n",
       "      <td>0.0</td>\n",
       "    </tr>\n",
       "    <tr>\n",
       "      <th>4</th>\n",
       "      <td>170000.0</td>\n",
       "      <td>1</td>\n",
       "      <td>1</td>\n",
       "      <td>2</td>\n",
       "      <td>38</td>\n",
       "      <td>0</td>\n",
       "      <td>0</td>\n",
       "      <td>0</td>\n",
       "      <td>171465.0</td>\n",
       "      <td>145196.0</td>\n",
       "      <td>110163.0</td>\n",
       "      <td>18500.0</td>\n",
       "      <td>13998.0</td>\n",
       "      <td>3760.0</td>\n",
       "    </tr>\n",
       "  </tbody>\n",
       "</table>\n",
       "</div>"
      ],
      "text/plain": [
       "   LIMIT_BAL  MARRIAGE  EDUCATION  SEX  AGE  PAY_1  PAY_2  PAY_3  BILL_AMT1  \\\n",
       "0    30000.0         1          1    2   40      0      0      0    24607.0   \n",
       "1    20000.0         1          1    2   41      1      2      0    17040.0   \n",
       "2    20000.0         1          1    2   36      0      0      0    17332.0   \n",
       "3    20000.0         1          1    2   35      0      0      0     2003.0   \n",
       "4   170000.0         1          1    2   38      0      0      0   171465.0   \n",
       "\n",
       "   BILL_AMT2  BILL_AMT3  PAY_AMT1  PAY_AMT2  PAY_AMT3  \n",
       "0    24430.0    23881.0    1700.0    1600.0    1287.0  \n",
       "1    16474.0    17203.0       0.0    1300.0    1500.0  \n",
       "2    18600.0    17947.0    1580.0    1367.0    1178.0  \n",
       "3     2948.0     3372.0    1086.0    1000.0       0.0  \n",
       "4   145196.0   110163.0   18500.0   13998.0    3760.0  "
      ]
     },
     "execution_count": 27,
     "metadata": {},
     "output_type": "execute_result"
    }
   ],
   "source": [
    "x = df.drop(columns=['TARGET'])\n",
    "x.head()"
   ]
  },
  {
   "cell_type": "code",
   "execution_count": 28,
   "metadata": {
    "scrolled": true
   },
   "outputs": [
    {
     "data": {
      "text/plain": [
       "0    0\n",
       "1    0\n",
       "2    0\n",
       "3    0\n",
       "4    0\n",
       "Name: TARGET, dtype: int64"
      ]
     },
     "execution_count": 28,
     "metadata": {},
     "output_type": "execute_result"
    }
   ],
   "source": [
    "y = df['TARGET']\n",
    "y.head()"
   ]
  },
  {
   "cell_type": "markdown",
   "metadata": {},
   "source": [
    "### Split Dataset into 2 set : Train and Test\n",
    "proporsi training adalah 80:20"
   ]
  },
  {
   "cell_type": "code",
   "execution_count": 29,
   "metadata": {},
   "outputs": [],
   "source": [
    "x_train, x_test, y_train, y_test = train_test_split(x,y, test_size=0.2)"
   ]
  },
  {
   "cell_type": "code",
   "execution_count": 30,
   "metadata": {},
   "outputs": [
    {
     "name": "stdout",
     "output_type": "stream",
     "text": [
      "(13300, 14)\n",
      "(13300,)\n",
      "(3325, 14)\n",
      "(3325,)\n"
     ]
    }
   ],
   "source": [
    "print(x_train.shape)\n",
    "print(y_train.shape)\n",
    "print(x_test.shape)\n",
    "print(y_test.shape)"
   ]
  },
  {
   "cell_type": "markdown",
   "metadata": {},
   "source": [
    "### First try - use Decision Tree Classifier"
   ]
  },
  {
   "cell_type": "code",
   "execution_count": 31,
   "metadata": {},
   "outputs": [],
   "source": [
    "dtree = DecisionTreeClassifier()"
   ]
  },
  {
   "cell_type": "code",
   "execution_count": 32,
   "metadata": {},
   "outputs": [
    {
     "data": {
      "text/plain": [
       "DecisionTreeClassifier(class_weight=None, criterion='gini', max_depth=None,\n",
       "                       max_features=None, max_leaf_nodes=None,\n",
       "                       min_impurity_decrease=0.0, min_impurity_split=None,\n",
       "                       min_samples_leaf=1, min_samples_split=2,\n",
       "                       min_weight_fraction_leaf=0.0, presort=False,\n",
       "                       random_state=None, splitter='best')"
      ]
     },
     "execution_count": 32,
     "metadata": {},
     "output_type": "execute_result"
    }
   ],
   "source": [
    "dtree.fit(x_train, y_train)"
   ]
  },
  {
   "cell_type": "code",
   "execution_count": 33,
   "metadata": {},
   "outputs": [
    {
     "data": {
      "text/plain": [
       "array([0, 0, 1, ..., 0, 0, 0], dtype=int64)"
      ]
     },
     "execution_count": 33,
     "metadata": {},
     "output_type": "execute_result"
    }
   ],
   "source": [
    "y_pred1 = dtree.predict(x_test)\n",
    "y_pred1"
   ]
  },
  {
   "cell_type": "code",
   "execution_count": 34,
   "metadata": {},
   "outputs": [
    {
     "name": "stdout",
     "output_type": "stream",
     "text": [
      "0.841203007518797\n",
      "0.83114779359583\n",
      "0.8318294154836485\n",
      "0.8325452155007899\n"
     ]
    }
   ],
   "source": [
    "a1 = accuracy_score(y_test, y_pred1)\n",
    "p1 = precision_score(y_test, y_pred1, average='macro')\n",
    "f1 = f1_score(y_test, y_pred1, average='macro')\n",
    "r1 = recall_score(y_test, y_pred1, average='macro')\n",
    "print(a1)\n",
    "print(p1)\n",
    "print(f1)\n",
    "print(r1)"
   ]
  },
  {
   "cell_type": "markdown",
   "metadata": {},
   "source": [
    "### Second try - use Logistic Regression"
   ]
  },
  {
   "cell_type": "code",
   "execution_count": 35,
   "metadata": {},
   "outputs": [],
   "source": [
    "logreg = LogisticRegression(penalty='l1') #menggunakan l1 menghapus feature yang tidak penting"
   ]
  },
  {
   "cell_type": "code",
   "execution_count": 36,
   "metadata": {},
   "outputs": [
    {
     "name": "stderr",
     "output_type": "stream",
     "text": [
      "F:\\Anaconda\\envs\\pandas\\lib\\site-packages\\sklearn\\linear_model\\logistic.py:432: FutureWarning: Default solver will be changed to 'lbfgs' in 0.22. Specify a solver to silence this warning.\n",
      "  FutureWarning)\n"
     ]
    },
    {
     "data": {
      "text/plain": [
       "LogisticRegression(C=1.0, class_weight=None, dual=False, fit_intercept=True,\n",
       "                   intercept_scaling=1, l1_ratio=None, max_iter=100,\n",
       "                   multi_class='warn', n_jobs=None, penalty='l1',\n",
       "                   random_state=None, solver='warn', tol=0.0001, verbose=0,\n",
       "                   warm_start=False)"
      ]
     },
     "execution_count": 36,
     "metadata": {},
     "output_type": "execute_result"
    }
   ],
   "source": [
    "logreg.fit(x_train, y_train)"
   ]
  },
  {
   "cell_type": "code",
   "execution_count": 37,
   "metadata": {},
   "outputs": [
    {
     "data": {
      "text/plain": [
       "array([0, 0, 0, ..., 1, 0, 0], dtype=int64)"
      ]
     },
     "execution_count": 37,
     "metadata": {},
     "output_type": "execute_result"
    }
   ],
   "source": [
    "y_pred2 = logreg.predict(x_test)\n",
    "y_pred2"
   ]
  },
  {
   "cell_type": "code",
   "execution_count": 38,
   "metadata": {},
   "outputs": [
    {
     "name": "stdout",
     "output_type": "stream",
     "text": [
      "0.7548872180451128\n",
      "0.7446699213489427\n",
      "0.7286453299960176\n",
      "0.7218414425954554\n"
     ]
    }
   ],
   "source": [
    "a2 = accuracy_score(y_test, y_pred2)\n",
    "p2 = precision_score(y_test, y_pred2, average='macro')\n",
    "f2 = f1_score(y_test, y_pred2, average='macro')\n",
    "r2 = recall_score(y_test, y_pred2, average='macro')\n",
    "print(a2)\n",
    "print(p2)\n",
    "print(f2)\n",
    "print(r2)"
   ]
  },
  {
   "cell_type": "markdown",
   "metadata": {},
   "source": [
    "### Third try - Naive Bayes"
   ]
  },
  {
   "cell_type": "code",
   "execution_count": 39,
   "metadata": {},
   "outputs": [],
   "source": [
    "naive = GaussianNB()"
   ]
  },
  {
   "cell_type": "code",
   "execution_count": 40,
   "metadata": {},
   "outputs": [
    {
     "data": {
      "text/plain": [
       "GaussianNB(priors=None, var_smoothing=1e-09)"
      ]
     },
     "execution_count": 40,
     "metadata": {},
     "output_type": "execute_result"
    }
   ],
   "source": [
    "naive.fit(x_train, y_train)"
   ]
  },
  {
   "cell_type": "code",
   "execution_count": 41,
   "metadata": {},
   "outputs": [
    {
     "data": {
      "text/plain": [
       "array([1, 1, 1, ..., 1, 1, 0], dtype=int64)"
      ]
     },
     "execution_count": 41,
     "metadata": {},
     "output_type": "execute_result"
    }
   ],
   "source": [
    "y_pred3 = naive.predict(x_test)\n",
    "y_pred3"
   ]
  },
  {
   "cell_type": "code",
   "execution_count": 42,
   "metadata": {
    "scrolled": true
   },
   "outputs": [
    {
     "name": "stdout",
     "output_type": "stream",
     "text": [
      "0.5494736842105263\n",
      "0.6755499726948662\n",
      "0.5367523361182973\n",
      "0.6254088421253109\n"
     ]
    }
   ],
   "source": [
    "a3 = accuracy_score(y_test, y_pred3)\n",
    "p3 = precision_score(y_test, y_pred3, average='macro')\n",
    "f3 = f1_score(y_test, y_pred3, average='macro')\n",
    "r3 = recall_score(y_test, y_pred3, average='macro')\n",
    "print(a3)\n",
    "print(p3)\n",
    "print(f3)\n",
    "print(r3)"
   ]
  },
  {
   "cell_type": "markdown",
   "metadata": {},
   "source": [
    "### Fourth Try - KNN"
   ]
  },
  {
   "cell_type": "code",
   "execution_count": 43,
   "metadata": {},
   "outputs": [
    {
     "name": "stdout",
     "output_type": "stream",
     "text": [
      "[0.7332330827067669, 0.7584962406015038, 0.7615037593984962, 0.7693233082706767, 0.7738345864661654, 0.7744360902255639, 0.7714285714285715, 0.7765413533834586, 0.7735338345864662, 0.7780451127819549, 0.7735338345864662, 0.7759398496240602, 0.7735338345864662, 0.7756390977443609, 0.7777443609022556, 0.7777443609022556, 0.7723308270676692, 0.7780451127819549, 0.7744360902255639, 0.7753383458646617, 0.7741353383458647, 0.7729323308270677, 0.7747368421052632, 0.7771428571428571]\n"
     ]
    }
   ],
   "source": [
    "k_range = range(1,25)\n",
    "scores = []\n",
    "for k in k_range:\n",
    "    knn = KNeighborsClassifier(n_neighbors=k)\n",
    "    knn.fit(x_train, y_train)\n",
    "    y_pred = knn.predict(x_test)\n",
    "    scores.append(metrics.accuracy_score(y_test, y_pred))\n",
    "print(scores)"
   ]
  },
  {
   "cell_type": "code",
   "execution_count": 44,
   "metadata": {},
   "outputs": [
    {
     "data": {
      "text/plain": [
       "Text(0, 0.5, 'Testing Accuracy')"
      ]
     },
     "execution_count": 44,
     "metadata": {},
     "output_type": "execute_result"
    },
    {
     "data": {
      "image/png": "[encoded data removed]",
      "text/plain": [
       "<Figure size 432x288 with 1 Axes>"
      ]
     },
     "metadata": {
      "needs_background": "light"
     },
     "output_type": "display_data"
    }
   ],
   "source": [
    "plt.plot(k_range, scores)\n",
    "plt.xlabel('Value for K')\n",
    "plt.ylabel('Testing Accuracy')"
   ]
  },
  {
   "cell_type": "code",
   "execution_count": 45,
   "metadata": {},
   "outputs": [],
   "source": [
    "knn_23 = KNeighborsClassifier(n_neighbors=23)"
   ]
  },
  {
   "cell_type": "code",
   "execution_count": 46,
   "metadata": {},
   "outputs": [
    {
     "data": {
      "text/plain": [
       "KNeighborsClassifier(algorithm='auto', leaf_size=30, metric='minkowski',\n",
       "                     metric_params=None, n_jobs=None, n_neighbors=23, p=2,\n",
       "                     weights='uniform')"
      ]
     },
     "execution_count": 46,
     "metadata": {},
     "output_type": "execute_result"
    }
   ],
   "source": [
    "knn_23.fit(x_train, y_train)"
   ]
  },
  {
   "cell_type": "code",
   "execution_count": 47,
   "metadata": {},
   "outputs": [
    {
     "data": {
      "text/plain": [
       "array([0, 0, 0, ..., 0, 1, 1], dtype=int64)"
      ]
     },
     "execution_count": 47,
     "metadata": {},
     "output_type": "execute_result"
    }
   ],
   "source": [
    "y_pred4 = knn_23.predict(x_test)\n",
    "y_pred4"
   ]
  },
  {
   "cell_type": "code",
   "execution_count": 48,
   "metadata": {},
   "outputs": [
    {
     "name": "stdout",
     "output_type": "stream",
     "text": [
      "0.7747368421052632\n",
      "0.7623420171671429\n",
      "0.7569279570548404\n",
      "0.7531853015736246\n"
     ]
    }
   ],
   "source": [
    "a4 = accuracy_score(y_test, y_pred4)\n",
    "p4 = precision_score(y_test, y_pred4, average='macro')\n",
    "f4 = f1_score(y_test, y_pred4, average='macro')\n",
    "r4 = recall_score(y_test, y_pred4, average='macro')\n",
    "print(a4)\n",
    "print(p4)\n",
    "print(f4)\n",
    "print(r4)"
   ]
  },
  {
   "cell_type": "markdown",
   "metadata": {},
   "source": [
    "### Five Try - Random Forest"
   ]
  },
  {
   "cell_type": "code",
   "execution_count": 49,
   "metadata": {},
   "outputs": [],
   "source": [
    "randomf = RandomForestClassifier()"
   ]
  },
  {
   "cell_type": "code",
   "execution_count": 50,
   "metadata": {},
   "outputs": [
    {
     "name": "stderr",
     "output_type": "stream",
     "text": [
      "F:\\Anaconda\\envs\\pandas\\lib\\site-packages\\sklearn\\ensemble\\forest.py:245: FutureWarning: The default value of n_estimators will change from 10 in version 0.20 to 100 in 0.22.\n",
      "  \"10 in version 0.20 to 100 in 0.22.\", FutureWarning)\n"
     ]
    },
    {
     "data": {
      "text/plain": [
       "RandomForestClassifier(bootstrap=True, class_weight=None, criterion='gini',\n",
       "                       max_depth=None, max_features='auto', max_leaf_nodes=None,\n",
       "                       min_impurity_decrease=0.0, min_impurity_split=None,\n",
       "                       min_samples_leaf=1, min_samples_split=2,\n",
       "                       min_weight_fraction_leaf=0.0, n_estimators=10,\n",
       "                       n_jobs=None, oob_score=False, random_state=None,\n",
       "                       verbose=0, warm_start=False)"
      ]
     },
     "execution_count": 50,
     "metadata": {},
     "output_type": "execute_result"
    }
   ],
   "source": [
    "randomf.fit(x_train, y_train)"
   ]
  },
  {
   "cell_type": "code",
   "execution_count": 51,
   "metadata": {},
   "outputs": [
    {
     "data": {
      "text/plain": [
       "array([0, 0, 0, ..., 0, 0, 0], dtype=int64)"
      ]
     },
     "execution_count": 51,
     "metadata": {},
     "output_type": "execute_result"
    }
   ],
   "source": [
    "y_pred5 = randomf.predict(x_test)\n",
    "y_pred5"
   ]
  },
  {
   "cell_type": "code",
   "execution_count": 52,
   "metadata": {},
   "outputs": [
    {
     "name": "stdout",
     "output_type": "stream",
     "text": [
      "0.8718796992481203\n",
      "0.8699309108434967\n",
      "0.8614814197633729\n",
      "0.8554376866620128\n"
     ]
    }
   ],
   "source": [
    "a5 = accuracy_score(y_test, y_pred5)\n",
    "p5 = precision_score(y_test, y_pred5, average='macro')\n",
    "f5 = f1_score(y_test, y_pred5, average='macro')\n",
    "r5 = recall_score(y_test, y_pred5, average='macro')\n",
    "print(a5)\n",
    "print(p5)\n",
    "print(f5)\n",
    "print(r5)"
   ]
  },
  {
   "cell_type": "markdown",
   "metadata": {},
   "source": [
    "### Summarizing Score for First Try Modelling"
   ]
  },
  {
   "cell_type": "code",
   "execution_count": 53,
   "metadata": {},
   "outputs": [
    {
     "data": {
      "text/html": [
       "<div>\n",
       "<style scoped>\n",
       "    .dataframe tbody tr th:only-of-type {\n",
       "        vertical-align: middle;\n",
       "    }\n",
       "\n",
       "    .dataframe tbody tr th {\n",
       "        vertical-align: top;\n",
       "    }\n",
       "\n",
       "    .dataframe thead th {\n",
       "        text-align: right;\n",
       "    }\n",
       "</style>\n",
       "<table border=\"1\" class=\"dataframe\">\n",
       "  <thead>\n",
       "    <tr style=\"text-align: right;\">\n",
       "      <th></th>\n",
       "      <th>Model</th>\n",
       "      <th>Accuracy Score</th>\n",
       "      <th>Recall Score</th>\n",
       "      <th>F1 Score</th>\n",
       "      <th>Precision Score</th>\n",
       "    </tr>\n",
       "  </thead>\n",
       "  <tbody>\n",
       "    <tr>\n",
       "      <th>0</th>\n",
       "      <td>Decision Tree</td>\n",
       "      <td>0.841203</td>\n",
       "      <td>0.832545</td>\n",
       "      <td>0.831829</td>\n",
       "      <td>0.831148</td>\n",
       "    </tr>\n",
       "    <tr>\n",
       "      <th>1</th>\n",
       "      <td>Logistic Regression</td>\n",
       "      <td>0.754887</td>\n",
       "      <td>0.721841</td>\n",
       "      <td>0.728645</td>\n",
       "      <td>0.744670</td>\n",
       "    </tr>\n",
       "    <tr>\n",
       "      <th>2</th>\n",
       "      <td>Naive Bayes</td>\n",
       "      <td>0.549474</td>\n",
       "      <td>0.625409</td>\n",
       "      <td>0.536752</td>\n",
       "      <td>0.675550</td>\n",
       "    </tr>\n",
       "    <tr>\n",
       "      <th>3</th>\n",
       "      <td>KNN</td>\n",
       "      <td>0.774737</td>\n",
       "      <td>0.753185</td>\n",
       "      <td>0.756928</td>\n",
       "      <td>0.675550</td>\n",
       "    </tr>\n",
       "    <tr>\n",
       "      <th>4</th>\n",
       "      <td>Random Forest</td>\n",
       "      <td>0.871880</td>\n",
       "      <td>0.855438</td>\n",
       "      <td>0.861481</td>\n",
       "      <td>0.762342</td>\n",
       "    </tr>\n",
       "  </tbody>\n",
       "</table>\n",
       "</div>"
      ],
      "text/plain": [
       "                 Model  Accuracy Score  Recall Score  F1 Score  \\\n",
       "0        Decision Tree        0.841203      0.832545  0.831829   \n",
       "1  Logistic Regression        0.754887      0.721841  0.728645   \n",
       "2          Naive Bayes        0.549474      0.625409  0.536752   \n",
       "3                  KNN        0.774737      0.753185  0.756928   \n",
       "4        Random Forest        0.871880      0.855438  0.861481   \n",
       "\n",
       "   Precision Score  \n",
       "0         0.831148  \n",
       "1         0.744670  \n",
       "2         0.675550  \n",
       "3         0.675550  \n",
       "4         0.762342  "
      ]
     },
     "execution_count": 53,
     "metadata": {},
     "output_type": "execute_result"
    }
   ],
   "source": [
    "score_1 = pd.DataFrame({\n",
    "    'Model': ['Decision Tree','Logistic Regression', 'Naive Bayes', 'KNN', 'Random Forest'],\n",
    "    'Accuracy Score': [a1,a2,a3,a4,a5],\n",
    "    'Recall Score' : [r1,r2,r3,r4,r5],\n",
    "    'F1 Score' : [f1,f2,f3,f4,f5],\n",
    "    'Precision Score' : [p1,p2,p3,p3,p4]\n",
    "})\n",
    "score_1"
   ]
  },
  {
   "cell_type": "markdown",
   "metadata": {},
   "source": [
    "### Conclusion First Try Modelling\n",
    "1. Dari tabel score pengukuran kebaikan model, algoritma machine learning dapat dibagi menjadi 3 tier:\n",
    "    1. tier 1 yaitu yang nilai akurasinya diatas 80% yaitu algoritma Decision Tree dan Random Forest\n",
    "    2. tier 2 yaitu yang nilai akurasinya diantara 70-80% yatu algoritma Logistic Regression dan KNN\n",
    "    3. tier 3 yaitu yang nilai akurasinya dibawah 70% yaitu Naive Bayes"
   ]
  },
  {
   "cell_type": "markdown",
   "metadata": {},
   "source": [
    "## Modelling Second Try with Feature Engineering"
   ]
  },
  {
   "cell_type": "code",
   "execution_count": 54,
   "metadata": {},
   "outputs": [
    {
     "data": {
      "text/html": [
       "<div>\n",
       "<style scoped>\n",
       "    .dataframe tbody tr th:only-of-type {\n",
       "        vertical-align: middle;\n",
       "    }\n",
       "\n",
       "    .dataframe tbody tr th {\n",
       "        vertical-align: top;\n",
       "    }\n",
       "\n",
       "    .dataframe thead th {\n",
       "        text-align: right;\n",
       "    }\n",
       "</style>\n",
       "<table border=\"1\" class=\"dataframe\">\n",
       "  <thead>\n",
       "    <tr style=\"text-align: right;\">\n",
       "      <th></th>\n",
       "      <th>LIMIT_BAL</th>\n",
       "      <th>MARRIAGE</th>\n",
       "      <th>EDUCATION</th>\n",
       "      <th>SEX</th>\n",
       "      <th>AGE</th>\n",
       "      <th>PAY_1</th>\n",
       "      <th>PAY_2</th>\n",
       "      <th>PAY_3</th>\n",
       "      <th>BILL_AMT1</th>\n",
       "      <th>BILL_AMT2</th>\n",
       "      <th>BILL_AMT3</th>\n",
       "      <th>PAY_AMT1</th>\n",
       "      <th>PAY_AMT2</th>\n",
       "      <th>PAY_AMT3</th>\n",
       "      <th>TARGET</th>\n",
       "    </tr>\n",
       "  </thead>\n",
       "  <tbody>\n",
       "    <tr>\n",
       "      <th>0</th>\n",
       "      <td>30000.0</td>\n",
       "      <td>1</td>\n",
       "      <td>1</td>\n",
       "      <td>2</td>\n",
       "      <td>40</td>\n",
       "      <td>0</td>\n",
       "      <td>0</td>\n",
       "      <td>0</td>\n",
       "      <td>24607.0</td>\n",
       "      <td>24430.0</td>\n",
       "      <td>23881.0</td>\n",
       "      <td>1700.0</td>\n",
       "      <td>1600.0</td>\n",
       "      <td>1287.0</td>\n",
       "      <td>0</td>\n",
       "    </tr>\n",
       "    <tr>\n",
       "      <th>1</th>\n",
       "      <td>20000.0</td>\n",
       "      <td>1</td>\n",
       "      <td>1</td>\n",
       "      <td>2</td>\n",
       "      <td>41</td>\n",
       "      <td>1</td>\n",
       "      <td>2</td>\n",
       "      <td>0</td>\n",
       "      <td>17040.0</td>\n",
       "      <td>16474.0</td>\n",
       "      <td>17203.0</td>\n",
       "      <td>0.0</td>\n",
       "      <td>1300.0</td>\n",
       "      <td>1500.0</td>\n",
       "      <td>0</td>\n",
       "    </tr>\n",
       "    <tr>\n",
       "      <th>2</th>\n",
       "      <td>20000.0</td>\n",
       "      <td>1</td>\n",
       "      <td>1</td>\n",
       "      <td>2</td>\n",
       "      <td>36</td>\n",
       "      <td>0</td>\n",
       "      <td>0</td>\n",
       "      <td>0</td>\n",
       "      <td>17332.0</td>\n",
       "      <td>18600.0</td>\n",
       "      <td>17947.0</td>\n",
       "      <td>1580.0</td>\n",
       "      <td>1367.0</td>\n",
       "      <td>1178.0</td>\n",
       "      <td>0</td>\n",
       "    </tr>\n",
       "    <tr>\n",
       "      <th>3</th>\n",
       "      <td>20000.0</td>\n",
       "      <td>1</td>\n",
       "      <td>1</td>\n",
       "      <td>2</td>\n",
       "      <td>35</td>\n",
       "      <td>0</td>\n",
       "      <td>0</td>\n",
       "      <td>0</td>\n",
       "      <td>2003.0</td>\n",
       "      <td>2948.0</td>\n",
       "      <td>3372.0</td>\n",
       "      <td>1086.0</td>\n",
       "      <td>1000.0</td>\n",
       "      <td>0.0</td>\n",
       "      <td>0</td>\n",
       "    </tr>\n",
       "    <tr>\n",
       "      <th>4</th>\n",
       "      <td>170000.0</td>\n",
       "      <td>1</td>\n",
       "      <td>1</td>\n",
       "      <td>2</td>\n",
       "      <td>38</td>\n",
       "      <td>0</td>\n",
       "      <td>0</td>\n",
       "      <td>0</td>\n",
       "      <td>171465.0</td>\n",
       "      <td>145196.0</td>\n",
       "      <td>110163.0</td>\n",
       "      <td>18500.0</td>\n",
       "      <td>13998.0</td>\n",
       "      <td>3760.0</td>\n",
       "      <td>0</td>\n",
       "    </tr>\n",
       "  </tbody>\n",
       "</table>\n",
       "</div>"
      ],
      "text/plain": [
       "   LIMIT_BAL  MARRIAGE  EDUCATION  SEX  AGE  PAY_1  PAY_2  PAY_3  BILL_AMT1  \\\n",
       "0    30000.0         1          1    2   40      0      0      0    24607.0   \n",
       "1    20000.0         1          1    2   41      1      2      0    17040.0   \n",
       "2    20000.0         1          1    2   36      0      0      0    17332.0   \n",
       "3    20000.0         1          1    2   35      0      0      0     2003.0   \n",
       "4   170000.0         1          1    2   38      0      0      0   171465.0   \n",
       "\n",
       "   BILL_AMT2  BILL_AMT3  PAY_AMT1  PAY_AMT2  PAY_AMT3  TARGET  \n",
       "0    24430.0    23881.0    1700.0    1600.0    1287.0       0  \n",
       "1    16474.0    17203.0       0.0    1300.0    1500.0       0  \n",
       "2    18600.0    17947.0    1580.0    1367.0    1178.0       0  \n",
       "3     2948.0     3372.0    1086.0    1000.0       0.0       0  \n",
       "4   145196.0   110163.0   18500.0   13998.0    3760.0       0  "
      ]
     },
     "execution_count": 54,
     "metadata": {},
     "output_type": "execute_result"
    }
   ],
   "source": [
    "df.head()"
   ]
  },
  {
   "cell_type": "markdown",
   "metadata": {},
   "source": [
    "### Outliers Detection\n",
    "features yang akan dideteksi adalah BILL_AMT dan PAY_AMT"
   ]
  },
  {
   "cell_type": "code",
   "execution_count": 55,
   "metadata": {},
   "outputs": [
    {
     "data": {
      "image/png": "[encoded data removed]",
      "text/plain": [
       "<Figure size 1152x432 with 3 Axes>"
      ]
     },
     "metadata": {
      "needs_background": "light"
     },
     "output_type": "display_data"
    }
   ],
   "source": [
    "f = plt.figure(figsize=(16,6))\n",
    "\n",
    "f.add_subplot(1,3,1)\n",
    "sns.boxplot(df['BILL_AMT1'])\n",
    "\n",
    "f.add_subplot(1,3,2)\n",
    "sns.boxplot(df['BILL_AMT2'])\n",
    "\n",
    "f.add_subplot(1,3,3)\n",
    "sns.boxplot(df['BILL_AMT3'])\n",
    "\n",
    "f.tight_layout()"
   ]
  },
  {
   "cell_type": "markdown",
   "metadata": {},
   "source": [
    "Data minus akan di drop"
   ]
  },
  {
   "cell_type": "code",
   "execution_count": 56,
   "metadata": {},
   "outputs": [],
   "source": [
    "df['BILL_AMT1'] = df[df['BILL_AMT1'] > 0]"
   ]
  },
  {
   "cell_type": "code",
   "execution_count": 57,
   "metadata": {},
   "outputs": [],
   "source": [
    "df['BILL_AMT2'] = df[df['BILL_AMT2'] > 0]"
   ]
  },
  {
   "cell_type": "code",
   "execution_count": 58,
   "metadata": {},
   "outputs": [],
   "source": [
    "df['BILL_AMT3'] = df[df['BILL_AMT3'] > 0]"
   ]
  },
  {
   "cell_type": "code",
   "execution_count": 59,
   "metadata": {},
   "outputs": [],
   "source": [
    "df.dropna(inplace=True)"
   ]
  },
  {
   "cell_type": "code",
   "execution_count": 60,
   "metadata": {},
   "outputs": [],
   "source": [
    "#wow setelah data minus dihilangkan ternyata BILL_AMT1,2,dan 3 sama datanta! kita drop skuy\n",
    "df = df.drop(columns=['BILL_AMT2','BILL_AMT3'])"
   ]
  },
  {
   "cell_type": "code",
   "execution_count": 61,
   "metadata": {},
   "outputs": [
    {
     "data": {
      "text/html": [
       "<div>\n",
       "<style scoped>\n",
       "    .dataframe tbody tr th:only-of-type {\n",
       "        vertical-align: middle;\n",
       "    }\n",
       "\n",
       "    .dataframe tbody tr th {\n",
       "        vertical-align: top;\n",
       "    }\n",
       "\n",
       "    .dataframe thead th {\n",
       "        text-align: right;\n",
       "    }\n",
       "</style>\n",
       "<table border=\"1\" class=\"dataframe\">\n",
       "  <thead>\n",
       "    <tr style=\"text-align: right;\">\n",
       "      <th></th>\n",
       "      <th>LIMIT_BAL</th>\n",
       "      <th>MARRIAGE</th>\n",
       "      <th>EDUCATION</th>\n",
       "      <th>SEX</th>\n",
       "      <th>AGE</th>\n",
       "      <th>PAY_1</th>\n",
       "      <th>PAY_2</th>\n",
       "      <th>PAY_3</th>\n",
       "      <th>BILL_AMT1</th>\n",
       "      <th>PAY_AMT1</th>\n",
       "      <th>PAY_AMT2</th>\n",
       "      <th>PAY_AMT3</th>\n",
       "      <th>TARGET</th>\n",
       "    </tr>\n",
       "  </thead>\n",
       "  <tbody>\n",
       "    <tr>\n",
       "      <th>0</th>\n",
       "      <td>30000.0</td>\n",
       "      <td>1</td>\n",
       "      <td>1</td>\n",
       "      <td>2</td>\n",
       "      <td>40</td>\n",
       "      <td>0</td>\n",
       "      <td>0</td>\n",
       "      <td>0</td>\n",
       "      <td>30000.0</td>\n",
       "      <td>1700.0</td>\n",
       "      <td>1600.0</td>\n",
       "      <td>1287.0</td>\n",
       "      <td>0</td>\n",
       "    </tr>\n",
       "    <tr>\n",
       "      <th>1</th>\n",
       "      <td>20000.0</td>\n",
       "      <td>1</td>\n",
       "      <td>1</td>\n",
       "      <td>2</td>\n",
       "      <td>41</td>\n",
       "      <td>1</td>\n",
       "      <td>2</td>\n",
       "      <td>0</td>\n",
       "      <td>20000.0</td>\n",
       "      <td>0.0</td>\n",
       "      <td>1300.0</td>\n",
       "      <td>1500.0</td>\n",
       "      <td>0</td>\n",
       "    </tr>\n",
       "    <tr>\n",
       "      <th>2</th>\n",
       "      <td>20000.0</td>\n",
       "      <td>1</td>\n",
       "      <td>1</td>\n",
       "      <td>2</td>\n",
       "      <td>36</td>\n",
       "      <td>0</td>\n",
       "      <td>0</td>\n",
       "      <td>0</td>\n",
       "      <td>20000.0</td>\n",
       "      <td>1580.0</td>\n",
       "      <td>1367.0</td>\n",
       "      <td>1178.0</td>\n",
       "      <td>0</td>\n",
       "    </tr>\n",
       "    <tr>\n",
       "      <th>3</th>\n",
       "      <td>20000.0</td>\n",
       "      <td>1</td>\n",
       "      <td>1</td>\n",
       "      <td>2</td>\n",
       "      <td>35</td>\n",
       "      <td>0</td>\n",
       "      <td>0</td>\n",
       "      <td>0</td>\n",
       "      <td>20000.0</td>\n",
       "      <td>1086.0</td>\n",
       "      <td>1000.0</td>\n",
       "      <td>0.0</td>\n",
       "      <td>0</td>\n",
       "    </tr>\n",
       "    <tr>\n",
       "      <th>4</th>\n",
       "      <td>170000.0</td>\n",
       "      <td>1</td>\n",
       "      <td>1</td>\n",
       "      <td>2</td>\n",
       "      <td>38</td>\n",
       "      <td>0</td>\n",
       "      <td>0</td>\n",
       "      <td>0</td>\n",
       "      <td>170000.0</td>\n",
       "      <td>18500.0</td>\n",
       "      <td>13998.0</td>\n",
       "      <td>3760.0</td>\n",
       "      <td>0</td>\n",
       "    </tr>\n",
       "  </tbody>\n",
       "</table>\n",
       "</div>"
      ],
      "text/plain": [
       "   LIMIT_BAL  MARRIAGE  EDUCATION  SEX  AGE  PAY_1  PAY_2  PAY_3  BILL_AMT1  \\\n",
       "0    30000.0         1          1    2   40      0      0      0    30000.0   \n",
       "1    20000.0         1          1    2   41      1      2      0    20000.0   \n",
       "2    20000.0         1          1    2   36      0      0      0    20000.0   \n",
       "3    20000.0         1          1    2   35      0      0      0    20000.0   \n",
       "4   170000.0         1          1    2   38      0      0      0   170000.0   \n",
       "\n",
       "   PAY_AMT1  PAY_AMT2  PAY_AMT3  TARGET  \n",
       "0    1700.0    1600.0    1287.0       0  \n",
       "1       0.0    1300.0    1500.0       0  \n",
       "2    1580.0    1367.0    1178.0       0  \n",
       "3    1086.0    1000.0       0.0       0  \n",
       "4   18500.0   13998.0    3760.0       0  "
      ]
     },
     "execution_count": 61,
     "metadata": {},
     "output_type": "execute_result"
    }
   ],
   "source": [
    "df.head()"
   ]
  },
  {
   "cell_type": "markdown",
   "metadata": {},
   "source": [
    "Data yang diatas 500.000 akan dijadikan kedalam 500.000"
   ]
  },
  {
   "cell_type": "code",
   "execution_count": 62,
   "metadata": {},
   "outputs": [],
   "source": [
    "df.loc[df[\"BILL_AMT1\"]>=500000,\"BILL_AMT1\"] = 500000"
   ]
  },
  {
   "cell_type": "code",
   "execution_count": 63,
   "metadata": {},
   "outputs": [
    {
     "data": {
      "text/plain": [
       "<matplotlib.axes._subplots.AxesSubplot at 0x24057c38da0>"
      ]
     },
     "execution_count": 63,
     "metadata": {},
     "output_type": "execute_result"
    },
    {
     "data": {
      "image/png": "[encoded data removed]",
      "text/plain": [
       "<Figure size 432x288 with 1 Axes>"
      ]
     },
     "metadata": {
      "needs_background": "light"
     },
     "output_type": "display_data"
    }
   ],
   "source": [
    "sns.boxplot(df['BILL_AMT1'])"
   ]
  },
  {
   "cell_type": "markdown",
   "metadata": {},
   "source": [
    "### Transformasi nilai LIMIT_BAL untuk mengurangi skewness\n",
    "We need to decrease the skewness of the feature LIMIT_BAL,For that we can apply log of LIMIT_BAL but since some of them are 0, we will use log(LIMIT_BAL+constant)"
   ]
  },
  {
   "cell_type": "code",
   "execution_count": 64,
   "metadata": {},
   "outputs": [],
   "source": [
    "df[\"LIMIT_BAL\"] = df[df[\"LIMIT_BAL\"]>=0]\n",
    "df[\"LIMIT_BAL\"] = df[\"LIMIT_BAL\"].apply(lambda t : np.log(t+1))"
   ]
  },
  {
   "cell_type": "code",
   "execution_count": 65,
   "metadata": {},
   "outputs": [
    {
     "data": {
      "text/plain": [
       "<matplotlib.axes._subplots.AxesSubplot at 0x24057c93da0>"
      ]
     },
     "execution_count": 65,
     "metadata": {},
     "output_type": "execute_result"
    },
    {
     "data": {
      "image/png": "[encoded data removed]",
      "text/plain": [
       "<Figure size 432x288 with 1 Axes>"
      ]
     },
     "metadata": {
      "needs_background": "light"
     },
     "output_type": "display_data"
    }
   ],
   "source": [
    "df[\"LIMIT_BAL\"].plot.hist()"
   ]
  },
  {
   "cell_type": "markdown",
   "metadata": {},
   "source": [
    "### Feature Engineering"
   ]
  },
  {
   "cell_type": "code",
   "execution_count": 66,
   "metadata": {},
   "outputs": [
    {
     "data": {
      "text/html": [
       "<div>\n",
       "<style scoped>\n",
       "    .dataframe tbody tr th:only-of-type {\n",
       "        vertical-align: middle;\n",
       "    }\n",
       "\n",
       "    .dataframe tbody tr th {\n",
       "        vertical-align: top;\n",
       "    }\n",
       "\n",
       "    .dataframe thead th {\n",
       "        text-align: right;\n",
       "    }\n",
       "</style>\n",
       "<table border=\"1\" class=\"dataframe\">\n",
       "  <thead>\n",
       "    <tr style=\"text-align: right;\">\n",
       "      <th></th>\n",
       "      <th>LIMIT_BAL</th>\n",
       "      <th>MARRIAGE</th>\n",
       "      <th>EDUCATION</th>\n",
       "      <th>SEX</th>\n",
       "      <th>AGE</th>\n",
       "      <th>PAY_1</th>\n",
       "      <th>PAY_2</th>\n",
       "      <th>PAY_3</th>\n",
       "      <th>BILL_AMT1</th>\n",
       "      <th>PAY_AMT1</th>\n",
       "      <th>PAY_AMT2</th>\n",
       "      <th>PAY_AMT3</th>\n",
       "      <th>TARGET</th>\n",
       "    </tr>\n",
       "  </thead>\n",
       "  <tbody>\n",
       "    <tr>\n",
       "      <th>0</th>\n",
       "      <td>10.308986</td>\n",
       "      <td>1</td>\n",
       "      <td>1</td>\n",
       "      <td>2</td>\n",
       "      <td>40</td>\n",
       "      <td>0</td>\n",
       "      <td>0</td>\n",
       "      <td>0</td>\n",
       "      <td>30000.0</td>\n",
       "      <td>1700.0</td>\n",
       "      <td>1600.0</td>\n",
       "      <td>1287.0</td>\n",
       "      <td>0</td>\n",
       "    </tr>\n",
       "    <tr>\n",
       "      <th>1</th>\n",
       "      <td>9.903538</td>\n",
       "      <td>1</td>\n",
       "      <td>1</td>\n",
       "      <td>2</td>\n",
       "      <td>41</td>\n",
       "      <td>1</td>\n",
       "      <td>2</td>\n",
       "      <td>0</td>\n",
       "      <td>20000.0</td>\n",
       "      <td>0.0</td>\n",
       "      <td>1300.0</td>\n",
       "      <td>1500.0</td>\n",
       "      <td>0</td>\n",
       "    </tr>\n",
       "    <tr>\n",
       "      <th>2</th>\n",
       "      <td>9.903538</td>\n",
       "      <td>1</td>\n",
       "      <td>1</td>\n",
       "      <td>2</td>\n",
       "      <td>36</td>\n",
       "      <td>0</td>\n",
       "      <td>0</td>\n",
       "      <td>0</td>\n",
       "      <td>20000.0</td>\n",
       "      <td>1580.0</td>\n",
       "      <td>1367.0</td>\n",
       "      <td>1178.0</td>\n",
       "      <td>0</td>\n",
       "    </tr>\n",
       "    <tr>\n",
       "      <th>3</th>\n",
       "      <td>9.903538</td>\n",
       "      <td>1</td>\n",
       "      <td>1</td>\n",
       "      <td>2</td>\n",
       "      <td>35</td>\n",
       "      <td>0</td>\n",
       "      <td>0</td>\n",
       "      <td>0</td>\n",
       "      <td>20000.0</td>\n",
       "      <td>1086.0</td>\n",
       "      <td>1000.0</td>\n",
       "      <td>0.0</td>\n",
       "      <td>0</td>\n",
       "    </tr>\n",
       "    <tr>\n",
       "      <th>4</th>\n",
       "      <td>12.043560</td>\n",
       "      <td>1</td>\n",
       "      <td>1</td>\n",
       "      <td>2</td>\n",
       "      <td>38</td>\n",
       "      <td>0</td>\n",
       "      <td>0</td>\n",
       "      <td>0</td>\n",
       "      <td>170000.0</td>\n",
       "      <td>18500.0</td>\n",
       "      <td>13998.0</td>\n",
       "      <td>3760.0</td>\n",
       "      <td>0</td>\n",
       "    </tr>\n",
       "  </tbody>\n",
       "</table>\n",
       "</div>"
      ],
      "text/plain": [
       "   LIMIT_BAL  MARRIAGE  EDUCATION  SEX  AGE  PAY_1  PAY_2  PAY_3  BILL_AMT1  \\\n",
       "0  10.308986         1          1    2   40      0      0      0    30000.0   \n",
       "1   9.903538         1          1    2   41      1      2      0    20000.0   \n",
       "2   9.903538         1          1    2   36      0      0      0    20000.0   \n",
       "3   9.903538         1          1    2   35      0      0      0    20000.0   \n",
       "4  12.043560         1          1    2   38      0      0      0   170000.0   \n",
       "\n",
       "   PAY_AMT1  PAY_AMT2  PAY_AMT3  TARGET  \n",
       "0    1700.0    1600.0    1287.0       0  \n",
       "1       0.0    1300.0    1500.0       0  \n",
       "2    1580.0    1367.0    1178.0       0  \n",
       "3    1086.0    1000.0       0.0       0  \n",
       "4   18500.0   13998.0    3760.0       0  "
      ]
     },
     "execution_count": 66,
     "metadata": {},
     "output_type": "execute_result"
    }
   ],
   "source": [
    "df.head()"
   ]
  },
  {
   "cell_type": "code",
   "execution_count": 67,
   "metadata": {},
   "outputs": [],
   "source": [
    "#mengubah features MARRIAGE, EDUCATION, SEX menjadi dummies\n",
    "df['MARRIAGE'] = pd.Categorical(df['MARRIAGE'])\n",
    "df['EDUCATION'] = pd.Categorical(df['EDUCATION'])\n",
    "df['SEX'] = pd.Categorical(df['SEX'])\n",
    "\n",
    "df3 = pd.get_dummies(df)"
   ]
  },
  {
   "cell_type": "code",
   "execution_count": 68,
   "metadata": {},
   "outputs": [
    {
     "data": {
      "text/html": [
       "<div>\n",
       "<style scoped>\n",
       "    .dataframe tbody tr th:only-of-type {\n",
       "        vertical-align: middle;\n",
       "    }\n",
       "\n",
       "    .dataframe tbody tr th {\n",
       "        vertical-align: top;\n",
       "    }\n",
       "\n",
       "    .dataframe thead th {\n",
       "        text-align: right;\n",
       "    }\n",
       "</style>\n",
       "<table border=\"1\" class=\"dataframe\">\n",
       "  <thead>\n",
       "    <tr style=\"text-align: right;\">\n",
       "      <th></th>\n",
       "      <th>LIMIT_BAL</th>\n",
       "      <th>AGE</th>\n",
       "      <th>PAY_1</th>\n",
       "      <th>PAY_2</th>\n",
       "      <th>PAY_3</th>\n",
       "      <th>BILL_AMT1</th>\n",
       "      <th>PAY_AMT1</th>\n",
       "      <th>PAY_AMT2</th>\n",
       "      <th>PAY_AMT3</th>\n",
       "      <th>TARGET</th>\n",
       "      <th>MARRIAGE_1</th>\n",
       "      <th>MARRIAGE_2</th>\n",
       "      <th>MARRIAGE_3</th>\n",
       "      <th>EDUCATION_1</th>\n",
       "      <th>EDUCATION_2</th>\n",
       "      <th>EDUCATION_3</th>\n",
       "      <th>EDUCATION_4</th>\n",
       "      <th>SEX_1</th>\n",
       "      <th>SEX_2</th>\n",
       "    </tr>\n",
       "  </thead>\n",
       "  <tbody>\n",
       "    <tr>\n",
       "      <th>16602</th>\n",
       "      <td>12.676079</td>\n",
       "      <td>56</td>\n",
       "      <td>1</td>\n",
       "      <td>2</td>\n",
       "      <td>2</td>\n",
       "      <td>320000.0</td>\n",
       "      <td>1300.0</td>\n",
       "      <td>0.0</td>\n",
       "      <td>1310.0</td>\n",
       "      <td>1</td>\n",
       "      <td>1</td>\n",
       "      <td>0</td>\n",
       "      <td>0</td>\n",
       "      <td>1</td>\n",
       "      <td>0</td>\n",
       "      <td>0</td>\n",
       "      <td>0</td>\n",
       "      <td>1</td>\n",
       "      <td>0</td>\n",
       "    </tr>\n",
       "    <tr>\n",
       "      <th>16603</th>\n",
       "      <td>12.765691</td>\n",
       "      <td>60</td>\n",
       "      <td>0</td>\n",
       "      <td>0</td>\n",
       "      <td>2</td>\n",
       "      <td>350000.0</td>\n",
       "      <td>10589.0</td>\n",
       "      <td>34.0</td>\n",
       "      <td>4400.0</td>\n",
       "      <td>1</td>\n",
       "      <td>0</td>\n",
       "      <td>1</td>\n",
       "      <td>0</td>\n",
       "      <td>0</td>\n",
       "      <td>0</td>\n",
       "      <td>1</td>\n",
       "      <td>0</td>\n",
       "      <td>1</td>\n",
       "      <td>0</td>\n",
       "    </tr>\n",
       "    <tr>\n",
       "      <th>16605</th>\n",
       "      <td>12.948012</td>\n",
       "      <td>60</td>\n",
       "      <td>0</td>\n",
       "      <td>0</td>\n",
       "      <td>0</td>\n",
       "      <td>420000.0</td>\n",
       "      <td>326.0</td>\n",
       "      <td>326.0</td>\n",
       "      <td>326.0</td>\n",
       "      <td>1</td>\n",
       "      <td>1</td>\n",
       "      <td>0</td>\n",
       "      <td>0</td>\n",
       "      <td>0</td>\n",
       "      <td>1</td>\n",
       "      <td>0</td>\n",
       "      <td>0</td>\n",
       "      <td>1</td>\n",
       "      <td>0</td>\n",
       "    </tr>\n",
       "    <tr>\n",
       "      <th>16606</th>\n",
       "      <td>12.994532</td>\n",
       "      <td>65</td>\n",
       "      <td>0</td>\n",
       "      <td>3</td>\n",
       "      <td>2</td>\n",
       "      <td>440000.0</td>\n",
       "      <td>0.0</td>\n",
       "      <td>0.0</td>\n",
       "      <td>31200.0</td>\n",
       "      <td>1</td>\n",
       "      <td>0</td>\n",
       "      <td>1</td>\n",
       "      <td>0</td>\n",
       "      <td>0</td>\n",
       "      <td>0</td>\n",
       "      <td>1</td>\n",
       "      <td>0</td>\n",
       "      <td>1</td>\n",
       "      <td>0</td>\n",
       "    </tr>\n",
       "    <tr>\n",
       "      <th>16607</th>\n",
       "      <td>12.736704</td>\n",
       "      <td>59</td>\n",
       "      <td>0</td>\n",
       "      <td>0</td>\n",
       "      <td>2</td>\n",
       "      <td>340000.0</td>\n",
       "      <td>3000.0</td>\n",
       "      <td>0.0</td>\n",
       "      <td>0.0</td>\n",
       "      <td>1</td>\n",
       "      <td>1</td>\n",
       "      <td>0</td>\n",
       "      <td>0</td>\n",
       "      <td>1</td>\n",
       "      <td>0</td>\n",
       "      <td>0</td>\n",
       "      <td>0</td>\n",
       "      <td>1</td>\n",
       "      <td>0</td>\n",
       "    </tr>\n",
       "    <tr>\n",
       "      <th>16608</th>\n",
       "      <td>12.736704</td>\n",
       "      <td>63</td>\n",
       "      <td>2</td>\n",
       "      <td>0</td>\n",
       "      <td>0</td>\n",
       "      <td>340000.0</td>\n",
       "      <td>3000.0</td>\n",
       "      <td>3428.0</td>\n",
       "      <td>2002.0</td>\n",
       "      <td>1</td>\n",
       "      <td>1</td>\n",
       "      <td>0</td>\n",
       "      <td>0</td>\n",
       "      <td>0</td>\n",
       "      <td>0</td>\n",
       "      <td>0</td>\n",
       "      <td>1</td>\n",
       "      <td>1</td>\n",
       "      <td>0</td>\n",
       "    </tr>\n",
       "    <tr>\n",
       "      <th>16609</th>\n",
       "      <td>12.948012</td>\n",
       "      <td>62</td>\n",
       "      <td>0</td>\n",
       "      <td>0</td>\n",
       "      <td>0</td>\n",
       "      <td>420000.0</td>\n",
       "      <td>17259.0</td>\n",
       "      <td>18600.0</td>\n",
       "      <td>1474.0</td>\n",
       "      <td>1</td>\n",
       "      <td>0</td>\n",
       "      <td>1</td>\n",
       "      <td>0</td>\n",
       "      <td>0</td>\n",
       "      <td>0</td>\n",
       "      <td>1</td>\n",
       "      <td>0</td>\n",
       "      <td>1</td>\n",
       "      <td>0</td>\n",
       "    </tr>\n",
       "    <tr>\n",
       "      <th>16610</th>\n",
       "      <td>12.847929</td>\n",
       "      <td>63</td>\n",
       "      <td>0</td>\n",
       "      <td>0</td>\n",
       "      <td>0</td>\n",
       "      <td>380000.0</td>\n",
       "      <td>1804.0</td>\n",
       "      <td>1804.0</td>\n",
       "      <td>1804.0</td>\n",
       "      <td>1</td>\n",
       "      <td>1</td>\n",
       "      <td>0</td>\n",
       "      <td>0</td>\n",
       "      <td>1</td>\n",
       "      <td>0</td>\n",
       "      <td>0</td>\n",
       "      <td>0</td>\n",
       "      <td>1</td>\n",
       "      <td>0</td>\n",
       "    </tr>\n",
       "    <tr>\n",
       "      <th>16611</th>\n",
       "      <td>12.765691</td>\n",
       "      <td>60</td>\n",
       "      <td>2</td>\n",
       "      <td>0</td>\n",
       "      <td>0</td>\n",
       "      <td>350000.0</td>\n",
       "      <td>6000.0</td>\n",
       "      <td>5500.0</td>\n",
       "      <td>5000.0</td>\n",
       "      <td>1</td>\n",
       "      <td>1</td>\n",
       "      <td>0</td>\n",
       "      <td>0</td>\n",
       "      <td>1</td>\n",
       "      <td>0</td>\n",
       "      <td>0</td>\n",
       "      <td>0</td>\n",
       "      <td>1</td>\n",
       "      <td>0</td>\n",
       "    </tr>\n",
       "    <tr>\n",
       "      <th>16612</th>\n",
       "      <td>12.847929</td>\n",
       "      <td>61</td>\n",
       "      <td>0</td>\n",
       "      <td>0</td>\n",
       "      <td>0</td>\n",
       "      <td>380000.0</td>\n",
       "      <td>46895.0</td>\n",
       "      <td>1775.0</td>\n",
       "      <td>51209.0</td>\n",
       "      <td>1</td>\n",
       "      <td>1</td>\n",
       "      <td>0</td>\n",
       "      <td>0</td>\n",
       "      <td>0</td>\n",
       "      <td>1</td>\n",
       "      <td>0</td>\n",
       "      <td>0</td>\n",
       "      <td>1</td>\n",
       "      <td>0</td>\n",
       "    </tr>\n",
       "    <tr>\n",
       "      <th>16613</th>\n",
       "      <td>12.899222</td>\n",
       "      <td>63</td>\n",
       "      <td>0</td>\n",
       "      <td>0</td>\n",
       "      <td>0</td>\n",
       "      <td>400000.0</td>\n",
       "      <td>1826.0</td>\n",
       "      <td>2831.0</td>\n",
       "      <td>2756.0</td>\n",
       "      <td>1</td>\n",
       "      <td>1</td>\n",
       "      <td>0</td>\n",
       "      <td>0</td>\n",
       "      <td>1</td>\n",
       "      <td>0</td>\n",
       "      <td>0</td>\n",
       "      <td>0</td>\n",
       "      <td>1</td>\n",
       "      <td>0</td>\n",
       "    </tr>\n",
       "    <tr>\n",
       "      <th>16614</th>\n",
       "      <td>12.793862</td>\n",
       "      <td>60</td>\n",
       "      <td>3</td>\n",
       "      <td>2</td>\n",
       "      <td>0</td>\n",
       "      <td>360000.0</td>\n",
       "      <td>0.0</td>\n",
       "      <td>2968.0</td>\n",
       "      <td>1867.0</td>\n",
       "      <td>1</td>\n",
       "      <td>0</td>\n",
       "      <td>1</td>\n",
       "      <td>0</td>\n",
       "      <td>0</td>\n",
       "      <td>1</td>\n",
       "      <td>0</td>\n",
       "      <td>0</td>\n",
       "      <td>1</td>\n",
       "      <td>0</td>\n",
       "    </tr>\n",
       "    <tr>\n",
       "      <th>16615</th>\n",
       "      <td>12.706851</td>\n",
       "      <td>63</td>\n",
       "      <td>2</td>\n",
       "      <td>0</td>\n",
       "      <td>0</td>\n",
       "      <td>330000.0</td>\n",
       "      <td>4633.0</td>\n",
       "      <td>2000.0</td>\n",
       "      <td>0.0</td>\n",
       "      <td>1</td>\n",
       "      <td>0</td>\n",
       "      <td>1</td>\n",
       "      <td>0</td>\n",
       "      <td>0</td>\n",
       "      <td>0</td>\n",
       "      <td>0</td>\n",
       "      <td>1</td>\n",
       "      <td>1</td>\n",
       "      <td>0</td>\n",
       "    </tr>\n",
       "    <tr>\n",
       "      <th>16617</th>\n",
       "      <td>12.765691</td>\n",
       "      <td>55</td>\n",
       "      <td>1</td>\n",
       "      <td>2</td>\n",
       "      <td>2</td>\n",
       "      <td>350000.0</td>\n",
       "      <td>0.0</td>\n",
       "      <td>3000.0</td>\n",
       "      <td>0.0</td>\n",
       "      <td>1</td>\n",
       "      <td>1</td>\n",
       "      <td>0</td>\n",
       "      <td>0</td>\n",
       "      <td>0</td>\n",
       "      <td>1</td>\n",
       "      <td>0</td>\n",
       "      <td>0</td>\n",
       "      <td>1</td>\n",
       "      <td>0</td>\n",
       "    </tr>\n",
       "    <tr>\n",
       "      <th>16618</th>\n",
       "      <td>12.899222</td>\n",
       "      <td>54</td>\n",
       "      <td>2</td>\n",
       "      <td>2</td>\n",
       "      <td>3</td>\n",
       "      <td>400000.0</td>\n",
       "      <td>4000.0</td>\n",
       "      <td>0.0</td>\n",
       "      <td>2000.0</td>\n",
       "      <td>1</td>\n",
       "      <td>0</td>\n",
       "      <td>1</td>\n",
       "      <td>0</td>\n",
       "      <td>0</td>\n",
       "      <td>1</td>\n",
       "      <td>0</td>\n",
       "      <td>0</td>\n",
       "      <td>1</td>\n",
       "      <td>0</td>\n",
       "    </tr>\n",
       "    <tr>\n",
       "      <th>16619</th>\n",
       "      <td>12.644331</td>\n",
       "      <td>57</td>\n",
       "      <td>0</td>\n",
       "      <td>0</td>\n",
       "      <td>0</td>\n",
       "      <td>310000.0</td>\n",
       "      <td>1500.0</td>\n",
       "      <td>1500.0</td>\n",
       "      <td>1500.0</td>\n",
       "      <td>1</td>\n",
       "      <td>1</td>\n",
       "      <td>0</td>\n",
       "      <td>0</td>\n",
       "      <td>0</td>\n",
       "      <td>1</td>\n",
       "      <td>0</td>\n",
       "      <td>0</td>\n",
       "      <td>1</td>\n",
       "      <td>0</td>\n",
       "    </tr>\n",
       "    <tr>\n",
       "      <th>16620</th>\n",
       "      <td>12.765691</td>\n",
       "      <td>56</td>\n",
       "      <td>3</td>\n",
       "      <td>2</td>\n",
       "      <td>2</td>\n",
       "      <td>350000.0</td>\n",
       "      <td>0.0</td>\n",
       "      <td>0.0</td>\n",
       "      <td>0.0</td>\n",
       "      <td>1</td>\n",
       "      <td>1</td>\n",
       "      <td>0</td>\n",
       "      <td>0</td>\n",
       "      <td>0</td>\n",
       "      <td>1</td>\n",
       "      <td>0</td>\n",
       "      <td>0</td>\n",
       "      <td>1</td>\n",
       "      <td>0</td>\n",
       "    </tr>\n",
       "    <tr>\n",
       "      <th>16621</th>\n",
       "      <td>12.847929</td>\n",
       "      <td>60</td>\n",
       "      <td>2</td>\n",
       "      <td>2</td>\n",
       "      <td>2</td>\n",
       "      <td>380000.0</td>\n",
       "      <td>7000.0</td>\n",
       "      <td>3500.0</td>\n",
       "      <td>0.0</td>\n",
       "      <td>1</td>\n",
       "      <td>0</td>\n",
       "      <td>1</td>\n",
       "      <td>0</td>\n",
       "      <td>0</td>\n",
       "      <td>1</td>\n",
       "      <td>0</td>\n",
       "      <td>0</td>\n",
       "      <td>1</td>\n",
       "      <td>0</td>\n",
       "    </tr>\n",
       "    <tr>\n",
       "      <th>16622</th>\n",
       "      <td>12.736704</td>\n",
       "      <td>56</td>\n",
       "      <td>4</td>\n",
       "      <td>3</td>\n",
       "      <td>2</td>\n",
       "      <td>340000.0</td>\n",
       "      <td>0.0</td>\n",
       "      <td>0.0</td>\n",
       "      <td>22000.0</td>\n",
       "      <td>1</td>\n",
       "      <td>0</td>\n",
       "      <td>1</td>\n",
       "      <td>0</td>\n",
       "      <td>0</td>\n",
       "      <td>1</td>\n",
       "      <td>0</td>\n",
       "      <td>0</td>\n",
       "      <td>1</td>\n",
       "      <td>0</td>\n",
       "    </tr>\n",
       "    <tr>\n",
       "      <th>16624</th>\n",
       "      <td>12.923915</td>\n",
       "      <td>61</td>\n",
       "      <td>0</td>\n",
       "      <td>0</td>\n",
       "      <td>0</td>\n",
       "      <td>410000.0</td>\n",
       "      <td>2078.0</td>\n",
       "      <td>1800.0</td>\n",
       "      <td>1430.0</td>\n",
       "      <td>1</td>\n",
       "      <td>1</td>\n",
       "      <td>0</td>\n",
       "      <td>0</td>\n",
       "      <td>0</td>\n",
       "      <td>1</td>\n",
       "      <td>0</td>\n",
       "      <td>0</td>\n",
       "      <td>1</td>\n",
       "      <td>0</td>\n",
       "    </tr>\n",
       "  </tbody>\n",
       "</table>\n",
       "</div>"
      ],
      "text/plain": [
       "       LIMIT_BAL  AGE  PAY_1  PAY_2  PAY_3  BILL_AMT1  PAY_AMT1  PAY_AMT2  \\\n",
       "16602  12.676079   56      1      2      2   320000.0    1300.0       0.0   \n",
       "16603  12.765691   60      0      0      2   350000.0   10589.0      34.0   \n",
       "16605  12.948012   60      0      0      0   420000.0     326.0     326.0   \n",
       "16606  12.994532   65      0      3      2   440000.0       0.0       0.0   \n",
       "16607  12.736704   59      0      0      2   340000.0    3000.0       0.0   \n",
       "16608  12.736704   63      2      0      0   340000.0    3000.0    3428.0   \n",
       "16609  12.948012   62      0      0      0   420000.0   17259.0   18600.0   \n",
       "16610  12.847929   63      0      0      0   380000.0    1804.0    1804.0   \n",
       "16611  12.765691   60      2      0      0   350000.0    6000.0    5500.0   \n",
       "16612  12.847929   61      0      0      0   380000.0   46895.0    1775.0   \n",
       "16613  12.899222   63      0      0      0   400000.0    1826.0    2831.0   \n",
       "16614  12.793862   60      3      2      0   360000.0       0.0    2968.0   \n",
       "16615  12.706851   63      2      0      0   330000.0    4633.0    2000.0   \n",
       "16617  12.765691   55      1      2      2   350000.0       0.0    3000.0   \n",
       "16618  12.899222   54      2      2      3   400000.0    4000.0       0.0   \n",
       "16619  12.644331   57      0      0      0   310000.0    1500.0    1500.0   \n",
       "16620  12.765691   56      3      2      2   350000.0       0.0       0.0   \n",
       "16621  12.847929   60      2      2      2   380000.0    7000.0    3500.0   \n",
       "16622  12.736704   56      4      3      2   340000.0       0.0       0.0   \n",
       "16624  12.923915   61      0      0      0   410000.0    2078.0    1800.0   \n",
       "\n",
       "       PAY_AMT3  TARGET  MARRIAGE_1  MARRIAGE_2  MARRIAGE_3  EDUCATION_1  \\\n",
       "16602    1310.0       1           1           0           0            1   \n",
       "16603    4400.0       1           0           1           0            0   \n",
       "16605     326.0       1           1           0           0            0   \n",
       "16606   31200.0       1           0           1           0            0   \n",
       "16607       0.0       1           1           0           0            1   \n",
       "16608    2002.0       1           1           0           0            0   \n",
       "16609    1474.0       1           0           1           0            0   \n",
       "16610    1804.0       1           1           0           0            1   \n",
       "16611    5000.0       1           1           0           0            1   \n",
       "16612   51209.0       1           1           0           0            0   \n",
       "16613    2756.0       1           1           0           0            1   \n",
       "16614    1867.0       1           0           1           0            0   \n",
       "16615       0.0       1           0           1           0            0   \n",
       "16617       0.0       1           1           0           0            0   \n",
       "16618    2000.0       1           0           1           0            0   \n",
       "16619    1500.0       1           1           0           0            0   \n",
       "16620       0.0       1           1           0           0            0   \n",
       "16621       0.0       1           0           1           0            0   \n",
       "16622   22000.0       1           0           1           0            0   \n",
       "16624    1430.0       1           1           0           0            0   \n",
       "\n",
       "       EDUCATION_2  EDUCATION_3  EDUCATION_4  SEX_1  SEX_2  \n",
       "16602            0            0            0      1      0  \n",
       "16603            0            1            0      1      0  \n",
       "16605            1            0            0      1      0  \n",
       "16606            0            1            0      1      0  \n",
       "16607            0            0            0      1      0  \n",
       "16608            0            0            1      1      0  \n",
       "16609            0            1            0      1      0  \n",
       "16610            0            0            0      1      0  \n",
       "16611            0            0            0      1      0  \n",
       "16612            1            0            0      1      0  \n",
       "16613            0            0            0      1      0  \n",
       "16614            1            0            0      1      0  \n",
       "16615            0            0            1      1      0  \n",
       "16617            1            0            0      1      0  \n",
       "16618            1            0            0      1      0  \n",
       "16619            1            0            0      1      0  \n",
       "16620            1            0            0      1      0  \n",
       "16621            1            0            0      1      0  \n",
       "16622            1            0            0      1      0  \n",
       "16624            1            0            0      1      0  "
      ]
     },
     "execution_count": 68,
     "metadata": {},
     "output_type": "execute_result"
    }
   ],
   "source": [
    "df3.tail(20)"
   ]
  },
  {
   "cell_type": "markdown",
   "metadata": {},
   "source": [
    "## Feature Selection\n",
    "Yaitu memilih 10 feature yang penting menggunakan package f_classif"
   ]
  },
  {
   "cell_type": "code",
   "execution_count": 69,
   "metadata": {},
   "outputs": [
    {
     "data": {
      "text/html": [
       "<div>\n",
       "<style scoped>\n",
       "    .dataframe tbody tr th:only-of-type {\n",
       "        vertical-align: middle;\n",
       "    }\n",
       "\n",
       "    .dataframe tbody tr th {\n",
       "        vertical-align: top;\n",
       "    }\n",
       "\n",
       "    .dataframe thead th {\n",
       "        text-align: right;\n",
       "    }\n",
       "</style>\n",
       "<table border=\"1\" class=\"dataframe\">\n",
       "  <thead>\n",
       "    <tr style=\"text-align: right;\">\n",
       "      <th></th>\n",
       "      <th>0</th>\n",
       "      <th>1</th>\n",
       "      <th>2</th>\n",
       "      <th>3</th>\n",
       "      <th>4</th>\n",
       "      <th>5</th>\n",
       "      <th>6</th>\n",
       "      <th>7</th>\n",
       "      <th>8</th>\n",
       "      <th>9</th>\n",
       "    </tr>\n",
       "  </thead>\n",
       "  <tbody>\n",
       "    <tr>\n",
       "      <th>13847</th>\n",
       "      <td>12.644331</td>\n",
       "      <td>57.0</td>\n",
       "      <td>0.0</td>\n",
       "      <td>0.0</td>\n",
       "      <td>0.0</td>\n",
       "      <td>310000.0</td>\n",
       "      <td>1500.0</td>\n",
       "      <td>0.0</td>\n",
       "      <td>1.0</td>\n",
       "      <td>0.0</td>\n",
       "    </tr>\n",
       "    <tr>\n",
       "      <th>13848</th>\n",
       "      <td>12.765691</td>\n",
       "      <td>56.0</td>\n",
       "      <td>3.0</td>\n",
       "      <td>2.0</td>\n",
       "      <td>2.0</td>\n",
       "      <td>350000.0</td>\n",
       "      <td>0.0</td>\n",
       "      <td>0.0</td>\n",
       "      <td>1.0</td>\n",
       "      <td>0.0</td>\n",
       "    </tr>\n",
       "    <tr>\n",
       "      <th>13849</th>\n",
       "      <td>12.847929</td>\n",
       "      <td>60.0</td>\n",
       "      <td>2.0</td>\n",
       "      <td>2.0</td>\n",
       "      <td>2.0</td>\n",
       "      <td>380000.0</td>\n",
       "      <td>7000.0</td>\n",
       "      <td>0.0</td>\n",
       "      <td>1.0</td>\n",
       "      <td>0.0</td>\n",
       "    </tr>\n",
       "    <tr>\n",
       "      <th>13850</th>\n",
       "      <td>12.736704</td>\n",
       "      <td>56.0</td>\n",
       "      <td>4.0</td>\n",
       "      <td>3.0</td>\n",
       "      <td>2.0</td>\n",
       "      <td>340000.0</td>\n",
       "      <td>0.0</td>\n",
       "      <td>0.0</td>\n",
       "      <td>1.0</td>\n",
       "      <td>0.0</td>\n",
       "    </tr>\n",
       "    <tr>\n",
       "      <th>13851</th>\n",
       "      <td>12.923915</td>\n",
       "      <td>61.0</td>\n",
       "      <td>0.0</td>\n",
       "      <td>0.0</td>\n",
       "      <td>0.0</td>\n",
       "      <td>410000.0</td>\n",
       "      <td>2078.0</td>\n",
       "      <td>0.0</td>\n",
       "      <td>1.0</td>\n",
       "      <td>0.0</td>\n",
       "    </tr>\n",
       "  </tbody>\n",
       "</table>\n",
       "</div>"
      ],
      "text/plain": [
       "               0     1    2    3    4         5       6    7    8    9\n",
       "13847  12.644331  57.0  0.0  0.0  0.0  310000.0  1500.0  0.0  1.0  0.0\n",
       "13848  12.765691  56.0  3.0  2.0  2.0  350000.0     0.0  0.0  1.0  0.0\n",
       "13849  12.847929  60.0  2.0  2.0  2.0  380000.0  7000.0  0.0  1.0  0.0\n",
       "13850  12.736704  56.0  4.0  3.0  2.0  340000.0     0.0  0.0  1.0  0.0\n",
       "13851  12.923915  61.0  0.0  0.0  0.0  410000.0  2078.0  0.0  1.0  0.0"
      ]
     },
     "execution_count": 69,
     "metadata": {},
     "output_type": "execute_result"
    }
   ],
   "source": [
    "df4 = pd.DataFrame(SelectKBest(f_classif, k=10).fit_transform(df3.drop([\"TARGET\"],axis = 1),df3[\"TARGET\"]))\n",
    "df4.tail()"
   ]
  },
  {
   "cell_type": "code",
   "execution_count": 70,
   "metadata": {},
   "outputs": [],
   "source": [
    "rename = {\n",
    "    0:'LIMIT_BAL',\n",
    "    1:'AGE',\n",
    "    2:'PAY_1',\n",
    "    3:'PAY_2',\n",
    "    4:'PAY_3',\n",
    "    5:'BILL_AMT1',\n",
    "    6:'PAY_AMT1',\n",
    "    7:'EDUCATION_1',\n",
    "    8:'SEX_1',\n",
    "    9:'SEX_2',\n",
    "}"
   ]
  },
  {
   "cell_type": "code",
   "execution_count": 71,
   "metadata": {
    "scrolled": true
   },
   "outputs": [
    {
     "data": {
      "text/html": [
       "<div>\n",
       "<style scoped>\n",
       "    .dataframe tbody tr th:only-of-type {\n",
       "        vertical-align: middle;\n",
       "    }\n",
       "\n",
       "    .dataframe tbody tr th {\n",
       "        vertical-align: top;\n",
       "    }\n",
       "\n",
       "    .dataframe thead th {\n",
       "        text-align: right;\n",
       "    }\n",
       "</style>\n",
       "<table border=\"1\" class=\"dataframe\">\n",
       "  <thead>\n",
       "    <tr style=\"text-align: right;\">\n",
       "      <th></th>\n",
       "      <th>LIMIT_BAL</th>\n",
       "      <th>AGE</th>\n",
       "      <th>PAY_1</th>\n",
       "      <th>PAY_2</th>\n",
       "      <th>PAY_3</th>\n",
       "      <th>BILL_AMT1</th>\n",
       "      <th>PAY_AMT1</th>\n",
       "      <th>EDUCATION_1</th>\n",
       "      <th>SEX_1</th>\n",
       "      <th>SEX_2</th>\n",
       "    </tr>\n",
       "  </thead>\n",
       "  <tbody>\n",
       "    <tr>\n",
       "      <th>0</th>\n",
       "      <td>10.308986</td>\n",
       "      <td>40.0</td>\n",
       "      <td>0.0</td>\n",
       "      <td>0.0</td>\n",
       "      <td>0.0</td>\n",
       "      <td>30000.0</td>\n",
       "      <td>1700.0</td>\n",
       "      <td>1.0</td>\n",
       "      <td>0.0</td>\n",
       "      <td>1.0</td>\n",
       "    </tr>\n",
       "    <tr>\n",
       "      <th>1</th>\n",
       "      <td>9.903538</td>\n",
       "      <td>41.0</td>\n",
       "      <td>1.0</td>\n",
       "      <td>2.0</td>\n",
       "      <td>0.0</td>\n",
       "      <td>20000.0</td>\n",
       "      <td>0.0</td>\n",
       "      <td>1.0</td>\n",
       "      <td>0.0</td>\n",
       "      <td>1.0</td>\n",
       "    </tr>\n",
       "    <tr>\n",
       "      <th>2</th>\n",
       "      <td>9.903538</td>\n",
       "      <td>36.0</td>\n",
       "      <td>0.0</td>\n",
       "      <td>0.0</td>\n",
       "      <td>0.0</td>\n",
       "      <td>20000.0</td>\n",
       "      <td>1580.0</td>\n",
       "      <td>1.0</td>\n",
       "      <td>0.0</td>\n",
       "      <td>1.0</td>\n",
       "    </tr>\n",
       "    <tr>\n",
       "      <th>3</th>\n",
       "      <td>9.903538</td>\n",
       "      <td>35.0</td>\n",
       "      <td>0.0</td>\n",
       "      <td>0.0</td>\n",
       "      <td>0.0</td>\n",
       "      <td>20000.0</td>\n",
       "      <td>1086.0</td>\n",
       "      <td>1.0</td>\n",
       "      <td>0.0</td>\n",
       "      <td>1.0</td>\n",
       "    </tr>\n",
       "    <tr>\n",
       "      <th>4</th>\n",
       "      <td>12.043560</td>\n",
       "      <td>38.0</td>\n",
       "      <td>0.0</td>\n",
       "      <td>0.0</td>\n",
       "      <td>0.0</td>\n",
       "      <td>170000.0</td>\n",
       "      <td>18500.0</td>\n",
       "      <td>1.0</td>\n",
       "      <td>0.0</td>\n",
       "      <td>1.0</td>\n",
       "    </tr>\n",
       "  </tbody>\n",
       "</table>\n",
       "</div>"
      ],
      "text/plain": [
       "   LIMIT_BAL   AGE  PAY_1  PAY_2  PAY_3  BILL_AMT1  PAY_AMT1  EDUCATION_1  \\\n",
       "0  10.308986  40.0    0.0    0.0    0.0    30000.0    1700.0          1.0   \n",
       "1   9.903538  41.0    1.0    2.0    0.0    20000.0       0.0          1.0   \n",
       "2   9.903538  36.0    0.0    0.0    0.0    20000.0    1580.0          1.0   \n",
       "3   9.903538  35.0    0.0    0.0    0.0    20000.0    1086.0          1.0   \n",
       "4  12.043560  38.0    0.0    0.0    0.0   170000.0   18500.0          1.0   \n",
       "\n",
       "   SEX_1  SEX_2  \n",
       "0    0.0    1.0  \n",
       "1    0.0    1.0  \n",
       "2    0.0    1.0  \n",
       "3    0.0    1.0  \n",
       "4    0.0    1.0  "
      ]
     },
     "execution_count": 71,
     "metadata": {},
     "output_type": "execute_result"
    }
   ],
   "source": [
    "df4 = df4.rename(columns=rename)\n",
    "df4.head()"
   ]
  },
  {
   "cell_type": "markdown",
   "metadata": {},
   "source": [
    "## Modelling Second Try"
   ]
  },
  {
   "cell_type": "markdown",
   "metadata": {},
   "source": [
    "### Create x and y variables"
   ]
  },
  {
   "cell_type": "code",
   "execution_count": 72,
   "metadata": {},
   "outputs": [
    {
     "data": {
      "text/html": [
       "<div>\n",
       "<style scoped>\n",
       "    .dataframe tbody tr th:only-of-type {\n",
       "        vertical-align: middle;\n",
       "    }\n",
       "\n",
       "    .dataframe tbody tr th {\n",
       "        vertical-align: top;\n",
       "    }\n",
       "\n",
       "    .dataframe thead th {\n",
       "        text-align: right;\n",
       "    }\n",
       "</style>\n",
       "<table border=\"1\" class=\"dataframe\">\n",
       "  <thead>\n",
       "    <tr style=\"text-align: right;\">\n",
       "      <th></th>\n",
       "      <th>LIMIT_BAL</th>\n",
       "      <th>AGE</th>\n",
       "      <th>PAY_1</th>\n",
       "      <th>PAY_2</th>\n",
       "      <th>PAY_3</th>\n",
       "      <th>BILL_AMT1</th>\n",
       "      <th>PAY_AMT1</th>\n",
       "      <th>EDUCATION_1</th>\n",
       "      <th>SEX_1</th>\n",
       "      <th>SEX_2</th>\n",
       "    </tr>\n",
       "  </thead>\n",
       "  <tbody>\n",
       "    <tr>\n",
       "      <th>0</th>\n",
       "      <td>10.308986</td>\n",
       "      <td>40.0</td>\n",
       "      <td>0.0</td>\n",
       "      <td>0.0</td>\n",
       "      <td>0.0</td>\n",
       "      <td>30000.0</td>\n",
       "      <td>1700.0</td>\n",
       "      <td>1.0</td>\n",
       "      <td>0.0</td>\n",
       "      <td>1.0</td>\n",
       "    </tr>\n",
       "    <tr>\n",
       "      <th>1</th>\n",
       "      <td>9.903538</td>\n",
       "      <td>41.0</td>\n",
       "      <td>1.0</td>\n",
       "      <td>2.0</td>\n",
       "      <td>0.0</td>\n",
       "      <td>20000.0</td>\n",
       "      <td>0.0</td>\n",
       "      <td>1.0</td>\n",
       "      <td>0.0</td>\n",
       "      <td>1.0</td>\n",
       "    </tr>\n",
       "    <tr>\n",
       "      <th>2</th>\n",
       "      <td>9.903538</td>\n",
       "      <td>36.0</td>\n",
       "      <td>0.0</td>\n",
       "      <td>0.0</td>\n",
       "      <td>0.0</td>\n",
       "      <td>20000.0</td>\n",
       "      <td>1580.0</td>\n",
       "      <td>1.0</td>\n",
       "      <td>0.0</td>\n",
       "      <td>1.0</td>\n",
       "    </tr>\n",
       "    <tr>\n",
       "      <th>3</th>\n",
       "      <td>9.903538</td>\n",
       "      <td>35.0</td>\n",
       "      <td>0.0</td>\n",
       "      <td>0.0</td>\n",
       "      <td>0.0</td>\n",
       "      <td>20000.0</td>\n",
       "      <td>1086.0</td>\n",
       "      <td>1.0</td>\n",
       "      <td>0.0</td>\n",
       "      <td>1.0</td>\n",
       "    </tr>\n",
       "    <tr>\n",
       "      <th>4</th>\n",
       "      <td>12.043560</td>\n",
       "      <td>38.0</td>\n",
       "      <td>0.0</td>\n",
       "      <td>0.0</td>\n",
       "      <td>0.0</td>\n",
       "      <td>170000.0</td>\n",
       "      <td>18500.0</td>\n",
       "      <td>1.0</td>\n",
       "      <td>0.0</td>\n",
       "      <td>1.0</td>\n",
       "    </tr>\n",
       "  </tbody>\n",
       "</table>\n",
       "</div>"
      ],
      "text/plain": [
       "   LIMIT_BAL   AGE  PAY_1  PAY_2  PAY_3  BILL_AMT1  PAY_AMT1  EDUCATION_1  \\\n",
       "0  10.308986  40.0    0.0    0.0    0.0    30000.0    1700.0          1.0   \n",
       "1   9.903538  41.0    1.0    2.0    0.0    20000.0       0.0          1.0   \n",
       "2   9.903538  36.0    0.0    0.0    0.0    20000.0    1580.0          1.0   \n",
       "3   9.903538  35.0    0.0    0.0    0.0    20000.0    1086.0          1.0   \n",
       "4  12.043560  38.0    0.0    0.0    0.0   170000.0   18500.0          1.0   \n",
       "\n",
       "   SEX_1  SEX_2  \n",
       "0    0.0    1.0  \n",
       "1    0.0    1.0  \n",
       "2    0.0    1.0  \n",
       "3    0.0    1.0  \n",
       "4    0.0    1.0  "
      ]
     },
     "execution_count": 72,
     "metadata": {},
     "output_type": "execute_result"
    }
   ],
   "source": [
    "x = df4\n",
    "x.head()"
   ]
  },
  {
   "cell_type": "code",
   "execution_count": 73,
   "metadata": {
    "scrolled": true
   },
   "outputs": [
    {
     "data": {
      "text/plain": [
       "0    0\n",
       "1    0\n",
       "2    0\n",
       "3    0\n",
       "4    0\n",
       "Name: TARGET, dtype: int64"
      ]
     },
     "execution_count": 73,
     "metadata": {},
     "output_type": "execute_result"
    }
   ],
   "source": [
    "y = df3['TARGET']\n",
    "y.head()"
   ]
  },
  {
   "cell_type": "markdown",
   "metadata": {},
   "source": [
    "### Split Dataset into 2 set : Train and Test\n",
    "proporsi training adalah 80:20"
   ]
  },
  {
   "cell_type": "code",
   "execution_count": 74,
   "metadata": {},
   "outputs": [],
   "source": [
    "x_train, x_test, y_train, y_test = train_test_split(x,y, test_size=0.2)"
   ]
  },
  {
   "cell_type": "code",
   "execution_count": 75,
   "metadata": {},
   "outputs": [
    {
     "name": "stdout",
     "output_type": "stream",
     "text": [
      "(11081, 10)\n",
      "(11081,)\n",
      "(2771, 10)\n",
      "(2771,)\n"
     ]
    }
   ],
   "source": [
    "print(x_train.shape)\n",
    "print(y_train.shape)\n",
    "print(x_test.shape)\n",
    "print(y_test.shape)"
   ]
  },
  {
   "cell_type": "markdown",
   "metadata": {},
   "source": [
    "### First try - use Decision Tree Classifier"
   ]
  },
  {
   "cell_type": "code",
   "execution_count": 76,
   "metadata": {},
   "outputs": [],
   "source": [
    "dtree2 = DecisionTreeClassifier()"
   ]
  },
  {
   "cell_type": "code",
   "execution_count": 77,
   "metadata": {},
   "outputs": [
    {
     "data": {
      "text/plain": [
       "DecisionTreeClassifier(class_weight=None, criterion='gini', max_depth=None,\n",
       "                       max_features=None, max_leaf_nodes=None,\n",
       "                       min_impurity_decrease=0.0, min_impurity_split=None,\n",
       "                       min_samples_leaf=1, min_samples_split=2,\n",
       "                       min_weight_fraction_leaf=0.0, presort=False,\n",
       "                       random_state=None, splitter='best')"
      ]
     },
     "execution_count": 77,
     "metadata": {},
     "output_type": "execute_result"
    }
   ],
   "source": [
    "dtree2.fit(x_train, y_train)"
   ]
  },
  {
   "cell_type": "code",
   "execution_count": 78,
   "metadata": {},
   "outputs": [
    {
     "data": {
      "text/plain": [
       "array([0, 1, 0, ..., 1, 0, 0], dtype=int64)"
      ]
     },
     "execution_count": 78,
     "metadata": {},
     "output_type": "execute_result"
    }
   ],
   "source": [
    "y_pred1 = dtree2.predict(x_test)\n",
    "y_pred1"
   ]
  },
  {
   "cell_type": "code",
   "execution_count": 79,
   "metadata": {},
   "outputs": [
    {
     "name": "stdout",
     "output_type": "stream",
     "text": [
      "0.8278599783471671\n",
      "0.8223723000294803\n",
      "0.8196854689297537\n",
      "0.8175294626246954\n"
     ]
    }
   ],
   "source": [
    "a1 = accuracy_score(y_test, y_pred1)\n",
    "p1 = precision_score(y_test, y_pred1, average='macro')\n",
    "f1 = f1_score(y_test, y_pred1, average='macro')\n",
    "r1 = recall_score(y_test, y_pred1, average='macro')\n",
    "print(a1)\n",
    "print(p1)\n",
    "print(f1)\n",
    "print(r1)"
   ]
  },
  {
   "cell_type": "markdown",
   "metadata": {},
   "source": [
    "### Second try - use Logistic Regression"
   ]
  },
  {
   "cell_type": "code",
   "execution_count": 80,
   "metadata": {},
   "outputs": [],
   "source": [
    "logreg2 = LogisticRegression(penalty='l1') #menggunakan l1 menghapus feature yang tidak penting"
   ]
  },
  {
   "cell_type": "code",
   "execution_count": 81,
   "metadata": {},
   "outputs": [
    {
     "name": "stderr",
     "output_type": "stream",
     "text": [
      "F:\\Anaconda\\envs\\pandas\\lib\\site-packages\\sklearn\\linear_model\\logistic.py:432: FutureWarning: Default solver will be changed to 'lbfgs' in 0.22. Specify a solver to silence this warning.\n",
      "  FutureWarning)\n"
     ]
    },
    {
     "data": {
      "text/plain": [
       "LogisticRegression(C=1.0, class_weight=None, dual=False, fit_intercept=True,\n",
       "                   intercept_scaling=1, l1_ratio=None, max_iter=100,\n",
       "                   multi_class='warn', n_jobs=None, penalty='l1',\n",
       "                   random_state=None, solver='warn', tol=0.0001, verbose=0,\n",
       "                   warm_start=False)"
      ]
     },
     "execution_count": 81,
     "metadata": {},
     "output_type": "execute_result"
    }
   ],
   "source": [
    "logreg2.fit(x_train, y_train)"
   ]
  },
  {
   "cell_type": "code",
   "execution_count": 82,
   "metadata": {},
   "outputs": [
    {
     "data": {
      "text/plain": [
       "array([0, 0, 1, ..., 1, 1, 0], dtype=int64)"
      ]
     },
     "execution_count": 82,
     "metadata": {},
     "output_type": "execute_result"
    }
   ],
   "source": [
    "y_pred2 = logreg2.predict(x_test)\n",
    "y_pred2"
   ]
  },
  {
   "cell_type": "code",
   "execution_count": 83,
   "metadata": {},
   "outputs": [
    {
     "name": "stdout",
     "output_type": "stream",
     "text": [
      "0.7499097798628654\n",
      "0.7507055453760452\n",
      "0.7256500318238608\n",
      "0.7192577813075263\n"
     ]
    }
   ],
   "source": [
    "a2 = accuracy_score(y_test, y_pred2)\n",
    "p2 = precision_score(y_test, y_pred2, average='macro')\n",
    "f2 = f1_score(y_test, y_pred2, average='macro')\n",
    "r2 = recall_score(y_test, y_pred2, average='macro')\n",
    "print(a2)\n",
    "print(p2)\n",
    "print(f2)\n",
    "print(r2)"
   ]
  },
  {
   "cell_type": "markdown",
   "metadata": {},
   "source": [
    "### Third try - Naive Bayes"
   ]
  },
  {
   "cell_type": "code",
   "execution_count": 84,
   "metadata": {},
   "outputs": [],
   "source": [
    "naive2 = GaussianNB()"
   ]
  },
  {
   "cell_type": "code",
   "execution_count": 85,
   "metadata": {},
   "outputs": [
    {
     "data": {
      "text/plain": [
       "GaussianNB(priors=None, var_smoothing=1e-09)"
      ]
     },
     "execution_count": 85,
     "metadata": {},
     "output_type": "execute_result"
    }
   ],
   "source": [
    "naive2.fit(x_train, y_train)"
   ]
  },
  {
   "cell_type": "code",
   "execution_count": 86,
   "metadata": {},
   "outputs": [
    {
     "data": {
      "text/plain": [
       "array([0, 0, 1, ..., 1, 1, 0], dtype=int64)"
      ]
     },
     "execution_count": 86,
     "metadata": {},
     "output_type": "execute_result"
    }
   ],
   "source": [
    "y_pred3 = naive2.predict(x_test)\n",
    "y_pred3"
   ]
  },
  {
   "cell_type": "code",
   "execution_count": 87,
   "metadata": {
    "scrolled": true
   },
   "outputs": [
    {
     "name": "stdout",
     "output_type": "stream",
     "text": [
      "0.7459400938289427\n",
      "0.7450086692493806\n",
      "0.7432238335727193\n",
      "0.7547684108222664\n"
     ]
    }
   ],
   "source": [
    "a3 = accuracy_score(y_test, y_pred3)\n",
    "p3 = precision_score(y_test, y_pred3, average='macro')\n",
    "f3 = f1_score(y_test, y_pred3, average='macro')\n",
    "r3 = recall_score(y_test, y_pred3, average='macro')\n",
    "print(a3)\n",
    "print(p3)\n",
    "print(f3)\n",
    "print(r3)"
   ]
  },
  {
   "cell_type": "markdown",
   "metadata": {},
   "source": [
    "### Fourth Try - KNN"
   ]
  },
  {
   "cell_type": "code",
   "execution_count": 88,
   "metadata": {},
   "outputs": [
    {
     "name": "stdout",
     "output_type": "stream",
     "text": [
      "[0.7376398412125587, 0.7452183327318658, 0.7585709130277878, 0.7647058823529411, 0.7614579574160952, 0.7661494045470949, 0.7621797185131721, 0.7668711656441718, 0.7686755683868639, 0.7719234933237098, 0.7722843738722482, 0.7740887766149405, 0.7697582100324792, 0.7701190905810177, 0.7701190905810177, 0.7697582100324792, 0.7650667629014796, 0.765427643450018, 0.7686755683868639, 0.7686755683868639, 0.7636232407073259, 0.7647058823529411, 0.7614579574160952, 0.7661494045470949]\n"
     ]
    }
   ],
   "source": [
    "k_range = range(1,25)\n",
    "scores = []\n",
    "for k in k_range:\n",
    "    knn = KNeighborsClassifier(n_neighbors=k)\n",
    "    knn.fit(x_train, y_train)\n",
    "    y_pred = knn.predict(x_test)\n",
    "    scores.append(metrics.accuracy_score(y_test, y_pred))\n",
    "print(scores)"
   ]
  },
  {
   "cell_type": "code",
   "execution_count": 89,
   "metadata": {},
   "outputs": [
    {
     "data": {
      "text/plain": [
       "Text(0, 0.5, 'Testing Accuracy')"
      ]
     },
     "execution_count": 89,
     "metadata": {},
     "output_type": "execute_result"
    },
    {
     "data": {
      "image/png": "[encoded data removed]",
      "text/plain": [
       "<Figure size 432x288 with 1 Axes>"
      ]
     },
     "metadata": {
      "needs_background": "light"
     },
     "output_type": "display_data"
    }
   ],
   "source": [
    "plt.plot(k_range, scores)\n",
    "plt.xlabel('Value for K')\n",
    "plt.ylabel('Testing Accuracy')"
   ]
  },
  {
   "cell_type": "code",
   "execution_count": 90,
   "metadata": {},
   "outputs": [],
   "source": [
    "knn_8 = KNeighborsClassifier(n_neighbors=8)"
   ]
  },
  {
   "cell_type": "code",
   "execution_count": 91,
   "metadata": {},
   "outputs": [
    {
     "data": {
      "text/plain": [
       "KNeighborsClassifier(algorithm='auto', leaf_size=30, metric='minkowski',\n",
       "                     metric_params=None, n_jobs=None, n_neighbors=8, p=2,\n",
       "                     weights='uniform')"
      ]
     },
     "execution_count": 91,
     "metadata": {},
     "output_type": "execute_result"
    }
   ],
   "source": [
    "knn_8.fit(x_train, y_train)"
   ]
  },
  {
   "cell_type": "code",
   "execution_count": 92,
   "metadata": {},
   "outputs": [
    {
     "data": {
      "text/plain": [
       "array([0, 0, 0, ..., 0, 0, 0], dtype=int64)"
      ]
     },
     "execution_count": 92,
     "metadata": {},
     "output_type": "execute_result"
    }
   ],
   "source": [
    "y_pred4 = knn_8.predict(x_test)\n",
    "y_pred4"
   ]
  },
  {
   "cell_type": "code",
   "execution_count": 93,
   "metadata": {},
   "outputs": [
    {
     "name": "stdout",
     "output_type": "stream",
     "text": [
      "0.7668711656441718\n",
      "0.7688489772881368\n",
      "0.7454990536894737\n",
      "0.7384408564286867\n"
     ]
    }
   ],
   "source": [
    "a4 = accuracy_score(y_test, y_pred4)\n",
    "p4 = precision_score(y_test, y_pred4, average='macro')\n",
    "f4 = f1_score(y_test, y_pred4, average='macro')\n",
    "r4 = recall_score(y_test, y_pred4, average='macro')\n",
    "print(a4)\n",
    "print(p4)\n",
    "print(f4)\n",
    "print(r4)"
   ]
  },
  {
   "cell_type": "markdown",
   "metadata": {},
   "source": [
    "### Five Try - Random Forest"
   ]
  },
  {
   "cell_type": "code",
   "execution_count": 94,
   "metadata": {},
   "outputs": [],
   "source": [
    "randomf2 = RandomForestClassifier()"
   ]
  },
  {
   "cell_type": "code",
   "execution_count": 95,
   "metadata": {},
   "outputs": [
    {
     "name": "stderr",
     "output_type": "stream",
     "text": [
      "F:\\Anaconda\\envs\\pandas\\lib\\site-packages\\sklearn\\ensemble\\forest.py:245: FutureWarning: The default value of n_estimators will change from 10 in version 0.20 to 100 in 0.22.\n",
      "  \"10 in version 0.20 to 100 in 0.22.\", FutureWarning)\n"
     ]
    },
    {
     "data": {
      "text/plain": [
       "RandomForestClassifier(bootstrap=True, class_weight=None, criterion='gini',\n",
       "                       max_depth=None, max_features='auto', max_leaf_nodes=None,\n",
       "                       min_impurity_decrease=0.0, min_impurity_split=None,\n",
       "                       min_samples_leaf=1, min_samples_split=2,\n",
       "                       min_weight_fraction_leaf=0.0, n_estimators=10,\n",
       "                       n_jobs=None, oob_score=False, random_state=None,\n",
       "                       verbose=0, warm_start=False)"
      ]
     },
     "execution_count": 95,
     "metadata": {},
     "output_type": "execute_result"
    }
   ],
   "source": [
    "randomf2.fit(x_train, y_train)"
   ]
  },
  {
   "cell_type": "code",
   "execution_count": 96,
   "metadata": {},
   "outputs": [
    {
     "data": {
      "text/plain": [
       "array([0, 0, 0, ..., 1, 0, 0], dtype=int64)"
      ]
     },
     "execution_count": 96,
     "metadata": {},
     "output_type": "execute_result"
    }
   ],
   "source": [
    "y_pred5 = randomf2.predict(x_test)\n",
    "y_pred5"
   ]
  },
  {
   "cell_type": "code",
   "execution_count": 97,
   "metadata": {},
   "outputs": [
    {
     "name": "stdout",
     "output_type": "stream",
     "text": [
      "0.8545651389390112\n",
      "0.8518454711302865\n",
      "0.8470558909914407\n",
      "0.8435360458703569\n"
     ]
    }
   ],
   "source": [
    "a5 = accuracy_score(y_test, y_pred5)\n",
    "p5 = precision_score(y_test, y_pred5, average='macro')\n",
    "f5 = f1_score(y_test, y_pred5, average='macro')\n",
    "r5 = recall_score(y_test, y_pred5, average='macro')\n",
    "print(a5)\n",
    "print(p5)\n",
    "print(f5)\n",
    "print(r5)"
   ]
  },
  {
   "cell_type": "markdown",
   "metadata": {},
   "source": [
    "### Summarizing Score for Second Try Modelling"
   ]
  },
  {
   "cell_type": "code",
   "execution_count": 98,
   "metadata": {},
   "outputs": [
    {
     "data": {
      "text/html": [
       "<div>\n",
       "<style scoped>\n",
       "    .dataframe tbody tr th:only-of-type {\n",
       "        vertical-align: middle;\n",
       "    }\n",
       "\n",
       "    .dataframe tbody tr th {\n",
       "        vertical-align: top;\n",
       "    }\n",
       "\n",
       "    .dataframe thead th {\n",
       "        text-align: right;\n",
       "    }\n",
       "</style>\n",
       "<table border=\"1\" class=\"dataframe\">\n",
       "  <thead>\n",
       "    <tr style=\"text-align: right;\">\n",
       "      <th></th>\n",
       "      <th>Model</th>\n",
       "      <th>Accuracy Score</th>\n",
       "      <th>Recall Score</th>\n",
       "      <th>F1 Score</th>\n",
       "      <th>Precision Score</th>\n",
       "    </tr>\n",
       "  </thead>\n",
       "  <tbody>\n",
       "    <tr>\n",
       "      <th>0</th>\n",
       "      <td>Decision Tree</td>\n",
       "      <td>0.827860</td>\n",
       "      <td>0.817529</td>\n",
       "      <td>0.819685</td>\n",
       "      <td>0.822372</td>\n",
       "    </tr>\n",
       "    <tr>\n",
       "      <th>1</th>\n",
       "      <td>Logistic Regression</td>\n",
       "      <td>0.749910</td>\n",
       "      <td>0.719258</td>\n",
       "      <td>0.725650</td>\n",
       "      <td>0.750706</td>\n",
       "    </tr>\n",
       "    <tr>\n",
       "      <th>2</th>\n",
       "      <td>Naive Bayes</td>\n",
       "      <td>0.745940</td>\n",
       "      <td>0.754768</td>\n",
       "      <td>0.743224</td>\n",
       "      <td>0.745009</td>\n",
       "    </tr>\n",
       "    <tr>\n",
       "      <th>3</th>\n",
       "      <td>KNN</td>\n",
       "      <td>0.766871</td>\n",
       "      <td>0.738441</td>\n",
       "      <td>0.745499</td>\n",
       "      <td>0.745009</td>\n",
       "    </tr>\n",
       "    <tr>\n",
       "      <th>4</th>\n",
       "      <td>Random Forest</td>\n",
       "      <td>0.854565</td>\n",
       "      <td>0.843536</td>\n",
       "      <td>0.847056</td>\n",
       "      <td>0.768849</td>\n",
       "    </tr>\n",
       "  </tbody>\n",
       "</table>\n",
       "</div>"
      ],
      "text/plain": [
       "                 Model  Accuracy Score  Recall Score  F1 Score  \\\n",
       "0        Decision Tree        0.827860      0.817529  0.819685   \n",
       "1  Logistic Regression        0.749910      0.719258  0.725650   \n",
       "2          Naive Bayes        0.745940      0.754768  0.743224   \n",
       "3                  KNN        0.766871      0.738441  0.745499   \n",
       "4        Random Forest        0.854565      0.843536  0.847056   \n",
       "\n",
       "   Precision Score  \n",
       "0         0.822372  \n",
       "1         0.750706  \n",
       "2         0.745009  \n",
       "3         0.745009  \n",
       "4         0.768849  "
      ]
     },
     "execution_count": 98,
     "metadata": {},
     "output_type": "execute_result"
    }
   ],
   "source": [
    "score_2 = pd.DataFrame({\n",
    "    'Model': ['Decision Tree','Logistic Regression', 'Naive Bayes', 'KNN', 'Random Forest'],\n",
    "    'Accuracy Score': [a1,a2,a3,a4,a5],\n",
    "    'Recall Score' : [r1,r2,r3,r4,r5],\n",
    "    'F1 Score' : [f1,f2,f3,f4,f5],\n",
    "    'Precision Score' : [p1,p2,p3,p3,p4]\n",
    "})\n",
    "score_2"
   ]
  },
  {
   "cell_type": "markdown",
   "metadata": {},
   "source": [
    "### Conclusion Second Try Modelling\n",
    "2. Dengan menggunakan feature engineering dan feature selection f_classif didapatkan bahwa nilai kebaikan dari Naive bayes meningkat secara drastis dan Logistic regression meningkat secara sedikit. selain algoritma itu, mengalami penurunan"
   ]
  },
  {
   "cell_type": "markdown",
   "metadata": {},
   "source": [
    "## Conclusion and Selected Model:"
   ]
  },
  {
   "cell_type": "markdown",
   "metadata": {},
   "source": [
    "- Performance matrix yang akan saya gunakan adalah RECALL.\n",
    "    1. F1 score : Weighted mean of Recall and Precision\n",
    "    2. Recall : (TP/TP+FN)\n",
    "    3. Precision : (TP/TP+FP) TP = true positive, FN = false negative,FP = false positive \n",
    "- disini kita akan mengurangi nilai dari FN. contohnya adalah kita memprediksi bahwa kredit akan dibayar tetapi kenyataanya adalah tidak dibayar atau penipuan. caranya mengurangi FN adalah menggunakan Pengukuran RECALL"
   ]
  },
  {
   "cell_type": "code",
   "execution_count": 99,
   "metadata": {},
   "outputs": [
    {
     "data": {
      "text/html": [
       "<div>\n",
       "<style scoped>\n",
       "    .dataframe tbody tr th:only-of-type {\n",
       "        vertical-align: middle;\n",
       "    }\n",
       "\n",
       "    .dataframe tbody tr th {\n",
       "        vertical-align: top;\n",
       "    }\n",
       "\n",
       "    .dataframe thead th {\n",
       "        text-align: right;\n",
       "    }\n",
       "</style>\n",
       "<table border=\"1\" class=\"dataframe\">\n",
       "  <thead>\n",
       "    <tr style=\"text-align: right;\">\n",
       "      <th></th>\n",
       "      <th>Model</th>\n",
       "      <th>Accuracy Score</th>\n",
       "      <th>Recall Score</th>\n",
       "      <th>F1 Score</th>\n",
       "      <th>Precision Score</th>\n",
       "    </tr>\n",
       "  </thead>\n",
       "  <tbody>\n",
       "    <tr>\n",
       "      <th>0</th>\n",
       "      <td>Decision Tree</td>\n",
       "      <td>0.841203</td>\n",
       "      <td>0.832545</td>\n",
       "      <td>0.831829</td>\n",
       "      <td>0.831148</td>\n",
       "    </tr>\n",
       "    <tr>\n",
       "      <th>1</th>\n",
       "      <td>Logistic Regression</td>\n",
       "      <td>0.754887</td>\n",
       "      <td>0.721841</td>\n",
       "      <td>0.728645</td>\n",
       "      <td>0.744670</td>\n",
       "    </tr>\n",
       "    <tr>\n",
       "      <th>2</th>\n",
       "      <td>Naive Bayes</td>\n",
       "      <td>0.549474</td>\n",
       "      <td>0.625409</td>\n",
       "      <td>0.536752</td>\n",
       "      <td>0.675550</td>\n",
       "    </tr>\n",
       "    <tr>\n",
       "      <th>3</th>\n",
       "      <td>KNN</td>\n",
       "      <td>0.774737</td>\n",
       "      <td>0.753185</td>\n",
       "      <td>0.756928</td>\n",
       "      <td>0.675550</td>\n",
       "    </tr>\n",
       "    <tr>\n",
       "      <th>4</th>\n",
       "      <td>Random Forest</td>\n",
       "      <td>0.871880</td>\n",
       "      <td>0.855438</td>\n",
       "      <td>0.861481</td>\n",
       "      <td>0.762342</td>\n",
       "    </tr>\n",
       "  </tbody>\n",
       "</table>\n",
       "</div>"
      ],
      "text/plain": [
       "                 Model  Accuracy Score  Recall Score  F1 Score  \\\n",
       "0        Decision Tree        0.841203      0.832545  0.831829   \n",
       "1  Logistic Regression        0.754887      0.721841  0.728645   \n",
       "2          Naive Bayes        0.549474      0.625409  0.536752   \n",
       "3                  KNN        0.774737      0.753185  0.756928   \n",
       "4        Random Forest        0.871880      0.855438  0.861481   \n",
       "\n",
       "   Precision Score  \n",
       "0         0.831148  \n",
       "1         0.744670  \n",
       "2         0.675550  \n",
       "3         0.675550  \n",
       "4         0.762342  "
      ]
     },
     "execution_count": 99,
     "metadata": {},
     "output_type": "execute_result"
    }
   ],
   "source": [
    "score_1 #algoritma sebelum dilakukan Feature Engineering"
   ]
  },
  {
   "cell_type": "code",
   "execution_count": 100,
   "metadata": {},
   "outputs": [
    {
     "data": {
      "text/html": [
       "<div>\n",
       "<style scoped>\n",
       "    .dataframe tbody tr th:only-of-type {\n",
       "        vertical-align: middle;\n",
       "    }\n",
       "\n",
       "    .dataframe tbody tr th {\n",
       "        vertical-align: top;\n",
       "    }\n",
       "\n",
       "    .dataframe thead th {\n",
       "        text-align: right;\n",
       "    }\n",
       "</style>\n",
       "<table border=\"1\" class=\"dataframe\">\n",
       "  <thead>\n",
       "    <tr style=\"text-align: right;\">\n",
       "      <th></th>\n",
       "      <th>Model</th>\n",
       "      <th>Accuracy Score</th>\n",
       "      <th>Recall Score</th>\n",
       "      <th>F1 Score</th>\n",
       "      <th>Precision Score</th>\n",
       "    </tr>\n",
       "  </thead>\n",
       "  <tbody>\n",
       "    <tr>\n",
       "      <th>0</th>\n",
       "      <td>Decision Tree</td>\n",
       "      <td>0.827860</td>\n",
       "      <td>0.817529</td>\n",
       "      <td>0.819685</td>\n",
       "      <td>0.822372</td>\n",
       "    </tr>\n",
       "    <tr>\n",
       "      <th>1</th>\n",
       "      <td>Logistic Regression</td>\n",
       "      <td>0.749910</td>\n",
       "      <td>0.719258</td>\n",
       "      <td>0.725650</td>\n",
       "      <td>0.750706</td>\n",
       "    </tr>\n",
       "    <tr>\n",
       "      <th>2</th>\n",
       "      <td>Naive Bayes</td>\n",
       "      <td>0.745940</td>\n",
       "      <td>0.754768</td>\n",
       "      <td>0.743224</td>\n",
       "      <td>0.745009</td>\n",
       "    </tr>\n",
       "    <tr>\n",
       "      <th>3</th>\n",
       "      <td>KNN</td>\n",
       "      <td>0.766871</td>\n",
       "      <td>0.738441</td>\n",
       "      <td>0.745499</td>\n",
       "      <td>0.745009</td>\n",
       "    </tr>\n",
       "    <tr>\n",
       "      <th>4</th>\n",
       "      <td>Random Forest</td>\n",
       "      <td>0.854565</td>\n",
       "      <td>0.843536</td>\n",
       "      <td>0.847056</td>\n",
       "      <td>0.768849</td>\n",
       "    </tr>\n",
       "  </tbody>\n",
       "</table>\n",
       "</div>"
      ],
      "text/plain": [
       "                 Model  Accuracy Score  Recall Score  F1 Score  \\\n",
       "0        Decision Tree        0.827860      0.817529  0.819685   \n",
       "1  Logistic Regression        0.749910      0.719258  0.725650   \n",
       "2          Naive Bayes        0.745940      0.754768  0.743224   \n",
       "3                  KNN        0.766871      0.738441  0.745499   \n",
       "4        Random Forest        0.854565      0.843536  0.847056   \n",
       "\n",
       "   Precision Score  \n",
       "0         0.822372  \n",
       "1         0.750706  \n",
       "2         0.745009  \n",
       "3         0.745009  \n",
       "4         0.768849  "
      ]
     },
     "execution_count": 100,
     "metadata": {},
     "output_type": "execute_result"
    }
   ],
   "source": [
    "score_2 #algoritma setelah dilakukan Feature Engineering"
   ]
  },
  {
   "cell_type": "markdown",
   "metadata": {},
   "source": [
    "- Karena saya akan menggunakan nilai dari RECALL, maka algoritma yang akan saya implementasikan adalah Random Forest sebelum dilakukan Feature Engineering"
   ]
  },
  {
   "cell_type": "markdown",
   "metadata": {},
   "source": [
    "### Selected Model : Random Forest (randomf) Before Feature Engineering"
   ]
  },
  {
   "cell_type": "markdown",
   "metadata": {},
   "source": [
    "## Export Model"
   ]
  },
  {
   "cell_type": "code",
   "execution_count": 101,
   "metadata": {},
   "outputs": [
    {
     "name": "stderr",
     "output_type": "stream",
     "text": [
      "F:\\Anaconda\\envs\\pandas\\lib\\site-packages\\sklearn\\externals\\joblib\\__init__.py:15: DeprecationWarning: sklearn.externals.joblib is deprecated in 0.21 and will be removed in 0.23. Please import this functionality directly from joblib, which can be installed with: pip install joblib. If this warning is raised when loading pickled models, you may need to re-serialize those models with scikit-learn 0.21+.\n",
      "  warnings.warn(msg, category=DeprecationWarning)\n"
     ]
    }
   ],
   "source": [
    "from sklearn.externals import joblib"
   ]
  },
  {
   "cell_type": "code",
   "execution_count": 102,
   "metadata": {},
   "outputs": [
    {
     "data": {
      "text/plain": [
       "['random_forest_before.pkl']"
      ]
     },
     "execution_count": 102,
     "metadata": {},
     "output_type": "execute_result"
    }
   ],
   "source": [
    "joblib.dump(randomf, 'random_forest_before.pkl')"
   ]
  }
 ],
 "metadata": {
  "kernelspec": {
   "display_name": "Python 3",
   "language": "python",
   "name": "python3"
  },
  "language_info": {
   "codemirror_mode": {
    "name": "ipython",
    "version": 3
   },
   "file_extension": ".py",
   "mimetype": "text/x-python",
   "name": "python",
   "nbconvert_exporter": "python",
   "pygments_lexer": "ipython3",
   "version": "3.7.3"
  }
 },
 "nbformat": 4,
 "nbformat_minor": 2
}
